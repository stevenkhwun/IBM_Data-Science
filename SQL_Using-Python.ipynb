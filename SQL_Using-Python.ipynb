{
 "cells": [
  {
   "cell_type": "markdown",
   "id": "3e6697eb-bb48-4ef8-b833-dce95b650b73",
   "metadata": {},
   "source": [
    "# Load CSV to SQLite3 with Pandas"
   ]
  },
  {
   "cell_type": "code",
   "execution_count": 5,
   "id": "d3f2b27d-4878-4846-95dc-5f79eda2c882",
   "metadata": {},
   "outputs": [],
   "source": [
    "import pandas as pd"
   ]
  },
  {
   "cell_type": "markdown",
   "id": "a1ab5b47-7893-4ff9-bad4-d02125450357",
   "metadata": {},
   "source": [
    "We use SQLite 3 which is an in process Python library that implements a self-contained, serverless zero configuration transactional SQL database engine."
   ]
  },
  {
   "cell_type": "code",
   "execution_count": 6,
   "id": "5d0451c6-0b15-41b6-8af2-32602198c1a4",
   "metadata": {},
   "outputs": [],
   "source": [
    "import sqlite3"
   ]
  },
  {
   "cell_type": "markdown",
   "id": "66ed136b-4ba1-4ed3-996b-4bf13eb1a6f6",
   "metadata": {},
   "source": [
    "We read the database CSV file using the `pandas.read_csv` function to a variable, say `data`."
   ]
  },
  {
   "cell_type": "code",
   "execution_count": 7,
   "id": "122e62c2-3a0b-444e-a174-c53e6ef9efca",
   "metadata": {},
   "outputs": [],
   "source": [
    "data = pd.read_csv('menu.csv')"
   ]
  },
  {
   "cell_type": "markdown",
   "id": "6eef86ec-656b-49d2-bc92-f957c515d784",
   "metadata": {},
   "source": [
    "The connection to a database `McDonald's DB` can be established using `sqlite3.connect` function and saving the connection object to a variable say, `conn`."
   ]
  },
  {
   "cell_type": "code",
   "execution_count": 8,
   "id": "7fab206f-26b4-47d6-b6d0-723b3a53bccf",
   "metadata": {},
   "outputs": [],
   "source": [
    "conn = sqlite3.connect('McDonalds.db')"
   ]
  },
  {
   "cell_type": "markdown",
   "id": "4da8ab80-f283-44ef-b1c4-640bdebcc7e5",
   "metadata": {},
   "source": [
    "The contents of variable `data` can then be loaded as a table to the `McDonald's DB` database suing the `2_sql` attribute function of the pandas variable `data`. "
   ]
  },
  {
   "cell_type": "code",
   "execution_count": 9,
   "id": "3f02fa76-54b6-4ff7-af2b-719a404eb192",
   "metadata": {},
   "outputs": [
    {
     "data": {
      "text/plain": [
       "260"
      ]
     },
     "execution_count": 9,
     "metadata": {},
     "output_type": "execute_result"
    }
   ],
   "source": [
    "data.to_sql('MCDONALDS_NUTRITION', conn)"
   ]
  },
  {
   "cell_type": "markdown",
   "id": "05c6444b-33b5-4d06-96a3-f69c724b457b",
   "metadata": {},
   "source": [
    "In the example shown above, the contents of the CSV file are now available as a table `MCDONALDS_NUTRITION`, which can now be queried as per requirement."
   ]
  },
  {
   "cell_type": "markdown",
   "id": "55172f1d-dc46-455b-ac7a-fe1b68ec5211",
   "metadata": {},
   "source": [
    "# Using pandas"
   ]
  },
  {
   "cell_type": "markdown",
   "id": "14ee7a62-a66e-46e6-b365-a50be01adc32",
   "metadata": {},
   "source": [
    "Now, let's see how we can use Pandas to retrieve data from the database tables. To do that, we load data from the `MCDONALDS_NUTRITION` table into the data frame, `df`, using the `read_sql` method."
   ]
  },
  {
   "cell_type": "code",
   "execution_count": 12,
   "id": "b67d2375-2a39-4025-b00a-c29b453cf3ae",
   "metadata": {},
   "outputs": [
    {
     "data": {
      "text/html": [
       "<div>\n",
       "<style scoped>\n",
       "    .dataframe tbody tr th:only-of-type {\n",
       "        vertical-align: middle;\n",
       "    }\n",
       "\n",
       "    .dataframe tbody tr th {\n",
       "        vertical-align: top;\n",
       "    }\n",
       "\n",
       "    .dataframe thead th {\n",
       "        text-align: right;\n",
       "    }\n",
       "</style>\n",
       "<table border=\"1\" class=\"dataframe\">\n",
       "  <thead>\n",
       "    <tr style=\"text-align: right;\">\n",
       "      <th></th>\n",
       "      <th>index</th>\n",
       "      <th>Category</th>\n",
       "      <th>Item</th>\n",
       "      <th>Serving Size</th>\n",
       "      <th>Calories</th>\n",
       "      <th>Calories from Fat</th>\n",
       "      <th>Total Fat</th>\n",
       "      <th>Total Fat (% Daily Value)</th>\n",
       "      <th>Saturated Fat</th>\n",
       "      <th>Saturated Fat (% Daily Value)</th>\n",
       "      <th>...</th>\n",
       "      <th>Carbohydrates</th>\n",
       "      <th>Carbohydrates (% Daily Value)</th>\n",
       "      <th>Dietary Fiber</th>\n",
       "      <th>Dietary Fiber (% Daily Value)</th>\n",
       "      <th>Sugars</th>\n",
       "      <th>Protein</th>\n",
       "      <th>Vitamin A (% Daily Value)</th>\n",
       "      <th>Vitamin C (% Daily Value)</th>\n",
       "      <th>Calcium (% Daily Value)</th>\n",
       "      <th>Iron (% Daily Value)</th>\n",
       "    </tr>\n",
       "  </thead>\n",
       "  <tbody>\n",
       "    <tr>\n",
       "      <th>0</th>\n",
       "      <td>0</td>\n",
       "      <td>Breakfast</td>\n",
       "      <td>Egg McMuffin</td>\n",
       "      <td>4.8 oz (136 g)</td>\n",
       "      <td>300</td>\n",
       "      <td>120</td>\n",
       "      <td>13.0</td>\n",
       "      <td>20</td>\n",
       "      <td>5.0</td>\n",
       "      <td>25</td>\n",
       "      <td>...</td>\n",
       "      <td>31</td>\n",
       "      <td>10</td>\n",
       "      <td>4</td>\n",
       "      <td>17</td>\n",
       "      <td>3</td>\n",
       "      <td>17</td>\n",
       "      <td>10</td>\n",
       "      <td>0</td>\n",
       "      <td>25</td>\n",
       "      <td>15</td>\n",
       "    </tr>\n",
       "    <tr>\n",
       "      <th>1</th>\n",
       "      <td>1</td>\n",
       "      <td>Breakfast</td>\n",
       "      <td>Egg White Delight</td>\n",
       "      <td>4.8 oz (135 g)</td>\n",
       "      <td>250</td>\n",
       "      <td>70</td>\n",
       "      <td>8.0</td>\n",
       "      <td>12</td>\n",
       "      <td>3.0</td>\n",
       "      <td>15</td>\n",
       "      <td>...</td>\n",
       "      <td>30</td>\n",
       "      <td>10</td>\n",
       "      <td>4</td>\n",
       "      <td>17</td>\n",
       "      <td>3</td>\n",
       "      <td>18</td>\n",
       "      <td>6</td>\n",
       "      <td>0</td>\n",
       "      <td>25</td>\n",
       "      <td>8</td>\n",
       "    </tr>\n",
       "    <tr>\n",
       "      <th>2</th>\n",
       "      <td>2</td>\n",
       "      <td>Breakfast</td>\n",
       "      <td>Sausage McMuffin</td>\n",
       "      <td>3.9 oz (111 g)</td>\n",
       "      <td>370</td>\n",
       "      <td>200</td>\n",
       "      <td>23.0</td>\n",
       "      <td>35</td>\n",
       "      <td>8.0</td>\n",
       "      <td>42</td>\n",
       "      <td>...</td>\n",
       "      <td>29</td>\n",
       "      <td>10</td>\n",
       "      <td>4</td>\n",
       "      <td>17</td>\n",
       "      <td>2</td>\n",
       "      <td>14</td>\n",
       "      <td>8</td>\n",
       "      <td>0</td>\n",
       "      <td>25</td>\n",
       "      <td>10</td>\n",
       "    </tr>\n",
       "    <tr>\n",
       "      <th>3</th>\n",
       "      <td>3</td>\n",
       "      <td>Breakfast</td>\n",
       "      <td>Sausage McMuffin with Egg</td>\n",
       "      <td>5.7 oz (161 g)</td>\n",
       "      <td>450</td>\n",
       "      <td>250</td>\n",
       "      <td>28.0</td>\n",
       "      <td>43</td>\n",
       "      <td>10.0</td>\n",
       "      <td>52</td>\n",
       "      <td>...</td>\n",
       "      <td>30</td>\n",
       "      <td>10</td>\n",
       "      <td>4</td>\n",
       "      <td>17</td>\n",
       "      <td>2</td>\n",
       "      <td>21</td>\n",
       "      <td>15</td>\n",
       "      <td>0</td>\n",
       "      <td>30</td>\n",
       "      <td>15</td>\n",
       "    </tr>\n",
       "    <tr>\n",
       "      <th>4</th>\n",
       "      <td>4</td>\n",
       "      <td>Breakfast</td>\n",
       "      <td>Sausage McMuffin with Egg Whites</td>\n",
       "      <td>5.7 oz (161 g)</td>\n",
       "      <td>400</td>\n",
       "      <td>210</td>\n",
       "      <td>23.0</td>\n",
       "      <td>35</td>\n",
       "      <td>8.0</td>\n",
       "      <td>42</td>\n",
       "      <td>...</td>\n",
       "      <td>30</td>\n",
       "      <td>10</td>\n",
       "      <td>4</td>\n",
       "      <td>17</td>\n",
       "      <td>2</td>\n",
       "      <td>21</td>\n",
       "      <td>6</td>\n",
       "      <td>0</td>\n",
       "      <td>25</td>\n",
       "      <td>10</td>\n",
       "    </tr>\n",
       "  </tbody>\n",
       "</table>\n",
       "<p>5 rows × 25 columns</p>\n",
       "</div>"
      ],
      "text/plain": [
       "   index   Category                              Item    Serving Size  \\\n",
       "0      0  Breakfast                      Egg McMuffin  4.8 oz (136 g)   \n",
       "1      1  Breakfast                 Egg White Delight  4.8 oz (135 g)   \n",
       "2      2  Breakfast                  Sausage McMuffin  3.9 oz (111 g)   \n",
       "3      3  Breakfast         Sausage McMuffin with Egg  5.7 oz (161 g)   \n",
       "4      4  Breakfast  Sausage McMuffin with Egg Whites  5.7 oz (161 g)   \n",
       "\n",
       "   Calories  Calories from Fat  Total Fat  Total Fat (% Daily Value)  \\\n",
       "0       300                120       13.0                         20   \n",
       "1       250                 70        8.0                         12   \n",
       "2       370                200       23.0                         35   \n",
       "3       450                250       28.0                         43   \n",
       "4       400                210       23.0                         35   \n",
       "\n",
       "   Saturated Fat  Saturated Fat (% Daily Value)  ...  Carbohydrates  \\\n",
       "0            5.0                             25  ...             31   \n",
       "1            3.0                             15  ...             30   \n",
       "2            8.0                             42  ...             29   \n",
       "3           10.0                             52  ...             30   \n",
       "4            8.0                             42  ...             30   \n",
       "\n",
       "   Carbohydrates (% Daily Value)  Dietary Fiber  \\\n",
       "0                             10              4   \n",
       "1                             10              4   \n",
       "2                             10              4   \n",
       "3                             10              4   \n",
       "4                             10              4   \n",
       "\n",
       "   Dietary Fiber (% Daily Value)  Sugars  Protein  Vitamin A (% Daily Value)  \\\n",
       "0                             17       3       17                         10   \n",
       "1                             17       3       18                          6   \n",
       "2                             17       2       14                          8   \n",
       "3                             17       2       21                         15   \n",
       "4                             17       2       21                          6   \n",
       "\n",
       "   Vitamin C (% Daily Value)  Calcium (% Daily Value)  Iron (% Daily Value)  \n",
       "0                          0                       25                    15  \n",
       "1                          0                       25                     8  \n",
       "2                          0                       25                    10  \n",
       "3                          0                       30                    15  \n",
       "4                          0                       25                    10  \n",
       "\n",
       "[5 rows x 25 columns]"
      ]
     },
     "execution_count": 12,
     "metadata": {},
     "output_type": "execute_result"
    }
   ],
   "source": [
    "df = pd.read_sql(\"SELECT * FROM MCDONALDS_NUTRITION\", conn)\n",
    "df.head(5)"
   ]
  },
  {
   "cell_type": "markdown",
   "id": "cbd772ce-900c-4299-94c0-d802f8476f30",
   "metadata": {},
   "source": [
    "# Learn about your data"
   ]
  },
  {
   "cell_type": "markdown",
   "id": "64f23840-cea8-45b1-a040-94bfccd0410e",
   "metadata": {},
   "source": [
    "Panda's methods are equipped with a set of common mathematical and statistical methods. Let's use the `describe` method to view the summary statistics of the data in the data frame."
   ]
  },
  {
   "cell_type": "code",
   "execution_count": 13,
   "id": "2d8a3c8f-5e08-46cb-a043-90cdfee56838",
   "metadata": {},
   "outputs": [
    {
     "data": {
      "text/html": [
       "<div>\n",
       "<style scoped>\n",
       "    .dataframe tbody tr th:only-of-type {\n",
       "        vertical-align: middle;\n",
       "    }\n",
       "\n",
       "    .dataframe tbody tr th {\n",
       "        vertical-align: top;\n",
       "    }\n",
       "\n",
       "    .dataframe thead th {\n",
       "        text-align: right;\n",
       "    }\n",
       "</style>\n",
       "<table border=\"1\" class=\"dataframe\">\n",
       "  <thead>\n",
       "    <tr style=\"text-align: right;\">\n",
       "      <th></th>\n",
       "      <th>index</th>\n",
       "      <th>Category</th>\n",
       "      <th>Item</th>\n",
       "      <th>Serving Size</th>\n",
       "      <th>Calories</th>\n",
       "      <th>Calories from Fat</th>\n",
       "      <th>Total Fat</th>\n",
       "      <th>Total Fat (% Daily Value)</th>\n",
       "      <th>Saturated Fat</th>\n",
       "      <th>Saturated Fat (% Daily Value)</th>\n",
       "      <th>...</th>\n",
       "      <th>Carbohydrates</th>\n",
       "      <th>Carbohydrates (% Daily Value)</th>\n",
       "      <th>Dietary Fiber</th>\n",
       "      <th>Dietary Fiber (% Daily Value)</th>\n",
       "      <th>Sugars</th>\n",
       "      <th>Protein</th>\n",
       "      <th>Vitamin A (% Daily Value)</th>\n",
       "      <th>Vitamin C (% Daily Value)</th>\n",
       "      <th>Calcium (% Daily Value)</th>\n",
       "      <th>Iron (% Daily Value)</th>\n",
       "    </tr>\n",
       "  </thead>\n",
       "  <tbody>\n",
       "    <tr>\n",
       "      <th>count</th>\n",
       "      <td>260.000000</td>\n",
       "      <td>260</td>\n",
       "      <td>260</td>\n",
       "      <td>260</td>\n",
       "      <td>260.000000</td>\n",
       "      <td>260.000000</td>\n",
       "      <td>260.000000</td>\n",
       "      <td>260.000000</td>\n",
       "      <td>260.000000</td>\n",
       "      <td>260.000000</td>\n",
       "      <td>...</td>\n",
       "      <td>260.000000</td>\n",
       "      <td>260.000000</td>\n",
       "      <td>260.000000</td>\n",
       "      <td>260.000000</td>\n",
       "      <td>260.000000</td>\n",
       "      <td>260.000000</td>\n",
       "      <td>260.000000</td>\n",
       "      <td>260.000000</td>\n",
       "      <td>260.000000</td>\n",
       "      <td>260.000000</td>\n",
       "    </tr>\n",
       "    <tr>\n",
       "      <th>unique</th>\n",
       "      <td>NaN</td>\n",
       "      <td>9</td>\n",
       "      <td>260</td>\n",
       "      <td>107</td>\n",
       "      <td>NaN</td>\n",
       "      <td>NaN</td>\n",
       "      <td>NaN</td>\n",
       "      <td>NaN</td>\n",
       "      <td>NaN</td>\n",
       "      <td>NaN</td>\n",
       "      <td>...</td>\n",
       "      <td>NaN</td>\n",
       "      <td>NaN</td>\n",
       "      <td>NaN</td>\n",
       "      <td>NaN</td>\n",
       "      <td>NaN</td>\n",
       "      <td>NaN</td>\n",
       "      <td>NaN</td>\n",
       "      <td>NaN</td>\n",
       "      <td>NaN</td>\n",
       "      <td>NaN</td>\n",
       "    </tr>\n",
       "    <tr>\n",
       "      <th>top</th>\n",
       "      <td>NaN</td>\n",
       "      <td>Coffee &amp; Tea</td>\n",
       "      <td>Egg McMuffin</td>\n",
       "      <td>16 fl oz cup</td>\n",
       "      <td>NaN</td>\n",
       "      <td>NaN</td>\n",
       "      <td>NaN</td>\n",
       "      <td>NaN</td>\n",
       "      <td>NaN</td>\n",
       "      <td>NaN</td>\n",
       "      <td>...</td>\n",
       "      <td>NaN</td>\n",
       "      <td>NaN</td>\n",
       "      <td>NaN</td>\n",
       "      <td>NaN</td>\n",
       "      <td>NaN</td>\n",
       "      <td>NaN</td>\n",
       "      <td>NaN</td>\n",
       "      <td>NaN</td>\n",
       "      <td>NaN</td>\n",
       "      <td>NaN</td>\n",
       "    </tr>\n",
       "    <tr>\n",
       "      <th>freq</th>\n",
       "      <td>NaN</td>\n",
       "      <td>95</td>\n",
       "      <td>1</td>\n",
       "      <td>45</td>\n",
       "      <td>NaN</td>\n",
       "      <td>NaN</td>\n",
       "      <td>NaN</td>\n",
       "      <td>NaN</td>\n",
       "      <td>NaN</td>\n",
       "      <td>NaN</td>\n",
       "      <td>...</td>\n",
       "      <td>NaN</td>\n",
       "      <td>NaN</td>\n",
       "      <td>NaN</td>\n",
       "      <td>NaN</td>\n",
       "      <td>NaN</td>\n",
       "      <td>NaN</td>\n",
       "      <td>NaN</td>\n",
       "      <td>NaN</td>\n",
       "      <td>NaN</td>\n",
       "      <td>NaN</td>\n",
       "    </tr>\n",
       "    <tr>\n",
       "      <th>mean</th>\n",
       "      <td>129.500000</td>\n",
       "      <td>NaN</td>\n",
       "      <td>NaN</td>\n",
       "      <td>NaN</td>\n",
       "      <td>368.269231</td>\n",
       "      <td>127.096154</td>\n",
       "      <td>14.165385</td>\n",
       "      <td>21.815385</td>\n",
       "      <td>6.007692</td>\n",
       "      <td>29.965385</td>\n",
       "      <td>...</td>\n",
       "      <td>47.346154</td>\n",
       "      <td>15.780769</td>\n",
       "      <td>1.630769</td>\n",
       "      <td>6.530769</td>\n",
       "      <td>29.423077</td>\n",
       "      <td>13.338462</td>\n",
       "      <td>13.426923</td>\n",
       "      <td>8.534615</td>\n",
       "      <td>20.973077</td>\n",
       "      <td>7.734615</td>\n",
       "    </tr>\n",
       "    <tr>\n",
       "      <th>std</th>\n",
       "      <td>75.199734</td>\n",
       "      <td>NaN</td>\n",
       "      <td>NaN</td>\n",
       "      <td>NaN</td>\n",
       "      <td>240.269886</td>\n",
       "      <td>127.875914</td>\n",
       "      <td>14.205998</td>\n",
       "      <td>21.885199</td>\n",
       "      <td>5.321873</td>\n",
       "      <td>26.639209</td>\n",
       "      <td>...</td>\n",
       "      <td>28.252232</td>\n",
       "      <td>9.419544</td>\n",
       "      <td>1.567717</td>\n",
       "      <td>6.307057</td>\n",
       "      <td>28.679797</td>\n",
       "      <td>11.426146</td>\n",
       "      <td>24.366381</td>\n",
       "      <td>26.345542</td>\n",
       "      <td>17.019953</td>\n",
       "      <td>8.723263</td>\n",
       "    </tr>\n",
       "    <tr>\n",
       "      <th>min</th>\n",
       "      <td>0.000000</td>\n",
       "      <td>NaN</td>\n",
       "      <td>NaN</td>\n",
       "      <td>NaN</td>\n",
       "      <td>0.000000</td>\n",
       "      <td>0.000000</td>\n",
       "      <td>0.000000</td>\n",
       "      <td>0.000000</td>\n",
       "      <td>0.000000</td>\n",
       "      <td>0.000000</td>\n",
       "      <td>...</td>\n",
       "      <td>0.000000</td>\n",
       "      <td>0.000000</td>\n",
       "      <td>0.000000</td>\n",
       "      <td>0.000000</td>\n",
       "      <td>0.000000</td>\n",
       "      <td>0.000000</td>\n",
       "      <td>0.000000</td>\n",
       "      <td>0.000000</td>\n",
       "      <td>0.000000</td>\n",
       "      <td>0.000000</td>\n",
       "    </tr>\n",
       "    <tr>\n",
       "      <th>25%</th>\n",
       "      <td>64.750000</td>\n",
       "      <td>NaN</td>\n",
       "      <td>NaN</td>\n",
       "      <td>NaN</td>\n",
       "      <td>210.000000</td>\n",
       "      <td>20.000000</td>\n",
       "      <td>2.375000</td>\n",
       "      <td>3.750000</td>\n",
       "      <td>1.000000</td>\n",
       "      <td>4.750000</td>\n",
       "      <td>...</td>\n",
       "      <td>30.000000</td>\n",
       "      <td>10.000000</td>\n",
       "      <td>0.000000</td>\n",
       "      <td>0.000000</td>\n",
       "      <td>5.750000</td>\n",
       "      <td>4.000000</td>\n",
       "      <td>2.000000</td>\n",
       "      <td>0.000000</td>\n",
       "      <td>6.000000</td>\n",
       "      <td>0.000000</td>\n",
       "    </tr>\n",
       "    <tr>\n",
       "      <th>50%</th>\n",
       "      <td>129.500000</td>\n",
       "      <td>NaN</td>\n",
       "      <td>NaN</td>\n",
       "      <td>NaN</td>\n",
       "      <td>340.000000</td>\n",
       "      <td>100.000000</td>\n",
       "      <td>11.000000</td>\n",
       "      <td>17.000000</td>\n",
       "      <td>5.000000</td>\n",
       "      <td>24.000000</td>\n",
       "      <td>...</td>\n",
       "      <td>44.000000</td>\n",
       "      <td>15.000000</td>\n",
       "      <td>1.000000</td>\n",
       "      <td>5.000000</td>\n",
       "      <td>17.500000</td>\n",
       "      <td>12.000000</td>\n",
       "      <td>8.000000</td>\n",
       "      <td>0.000000</td>\n",
       "      <td>20.000000</td>\n",
       "      <td>4.000000</td>\n",
       "    </tr>\n",
       "    <tr>\n",
       "      <th>75%</th>\n",
       "      <td>194.250000</td>\n",
       "      <td>NaN</td>\n",
       "      <td>NaN</td>\n",
       "      <td>NaN</td>\n",
       "      <td>500.000000</td>\n",
       "      <td>200.000000</td>\n",
       "      <td>22.250000</td>\n",
       "      <td>35.000000</td>\n",
       "      <td>10.000000</td>\n",
       "      <td>48.000000</td>\n",
       "      <td>...</td>\n",
       "      <td>60.000000</td>\n",
       "      <td>20.000000</td>\n",
       "      <td>3.000000</td>\n",
       "      <td>10.000000</td>\n",
       "      <td>48.000000</td>\n",
       "      <td>19.000000</td>\n",
       "      <td>15.000000</td>\n",
       "      <td>4.000000</td>\n",
       "      <td>30.000000</td>\n",
       "      <td>15.000000</td>\n",
       "    </tr>\n",
       "    <tr>\n",
       "      <th>max</th>\n",
       "      <td>259.000000</td>\n",
       "      <td>NaN</td>\n",
       "      <td>NaN</td>\n",
       "      <td>NaN</td>\n",
       "      <td>1880.000000</td>\n",
       "      <td>1060.000000</td>\n",
       "      <td>118.000000</td>\n",
       "      <td>182.000000</td>\n",
       "      <td>20.000000</td>\n",
       "      <td>102.000000</td>\n",
       "      <td>...</td>\n",
       "      <td>141.000000</td>\n",
       "      <td>47.000000</td>\n",
       "      <td>7.000000</td>\n",
       "      <td>28.000000</td>\n",
       "      <td>128.000000</td>\n",
       "      <td>87.000000</td>\n",
       "      <td>170.000000</td>\n",
       "      <td>240.000000</td>\n",
       "      <td>70.000000</td>\n",
       "      <td>40.000000</td>\n",
       "    </tr>\n",
       "  </tbody>\n",
       "</table>\n",
       "<p>11 rows × 25 columns</p>\n",
       "</div>"
      ],
      "text/plain": [
       "             index      Category          Item  Serving Size     Calories  \\\n",
       "count   260.000000           260           260           260   260.000000   \n",
       "unique         NaN             9           260           107          NaN   \n",
       "top            NaN  Coffee & Tea  Egg McMuffin  16 fl oz cup          NaN   \n",
       "freq           NaN            95             1            45          NaN   \n",
       "mean    129.500000           NaN           NaN           NaN   368.269231   \n",
       "std      75.199734           NaN           NaN           NaN   240.269886   \n",
       "min       0.000000           NaN           NaN           NaN     0.000000   \n",
       "25%      64.750000           NaN           NaN           NaN   210.000000   \n",
       "50%     129.500000           NaN           NaN           NaN   340.000000   \n",
       "75%     194.250000           NaN           NaN           NaN   500.000000   \n",
       "max     259.000000           NaN           NaN           NaN  1880.000000   \n",
       "\n",
       "        Calories from Fat   Total Fat  Total Fat (% Daily Value)  \\\n",
       "count          260.000000  260.000000                 260.000000   \n",
       "unique                NaN         NaN                        NaN   \n",
       "top                   NaN         NaN                        NaN   \n",
       "freq                  NaN         NaN                        NaN   \n",
       "mean           127.096154   14.165385                  21.815385   \n",
       "std            127.875914   14.205998                  21.885199   \n",
       "min              0.000000    0.000000                   0.000000   \n",
       "25%             20.000000    2.375000                   3.750000   \n",
       "50%            100.000000   11.000000                  17.000000   \n",
       "75%            200.000000   22.250000                  35.000000   \n",
       "max           1060.000000  118.000000                 182.000000   \n",
       "\n",
       "        Saturated Fat  Saturated Fat (% Daily Value)  ...  Carbohydrates  \\\n",
       "count      260.000000                     260.000000  ...     260.000000   \n",
       "unique            NaN                            NaN  ...            NaN   \n",
       "top               NaN                            NaN  ...            NaN   \n",
       "freq              NaN                            NaN  ...            NaN   \n",
       "mean         6.007692                      29.965385  ...      47.346154   \n",
       "std          5.321873                      26.639209  ...      28.252232   \n",
       "min          0.000000                       0.000000  ...       0.000000   \n",
       "25%          1.000000                       4.750000  ...      30.000000   \n",
       "50%          5.000000                      24.000000  ...      44.000000   \n",
       "75%         10.000000                      48.000000  ...      60.000000   \n",
       "max         20.000000                     102.000000  ...     141.000000   \n",
       "\n",
       "        Carbohydrates (% Daily Value)  Dietary Fiber  \\\n",
       "count                      260.000000     260.000000   \n",
       "unique                            NaN            NaN   \n",
       "top                               NaN            NaN   \n",
       "freq                              NaN            NaN   \n",
       "mean                        15.780769       1.630769   \n",
       "std                          9.419544       1.567717   \n",
       "min                          0.000000       0.000000   \n",
       "25%                         10.000000       0.000000   \n",
       "50%                         15.000000       1.000000   \n",
       "75%                         20.000000       3.000000   \n",
       "max                         47.000000       7.000000   \n",
       "\n",
       "        Dietary Fiber (% Daily Value)      Sugars     Protein  \\\n",
       "count                      260.000000  260.000000  260.000000   \n",
       "unique                            NaN         NaN         NaN   \n",
       "top                               NaN         NaN         NaN   \n",
       "freq                              NaN         NaN         NaN   \n",
       "mean                         6.530769   29.423077   13.338462   \n",
       "std                          6.307057   28.679797   11.426146   \n",
       "min                          0.000000    0.000000    0.000000   \n",
       "25%                          0.000000    5.750000    4.000000   \n",
       "50%                          5.000000   17.500000   12.000000   \n",
       "75%                         10.000000   48.000000   19.000000   \n",
       "max                         28.000000  128.000000   87.000000   \n",
       "\n",
       "        Vitamin A (% Daily Value)  Vitamin C (% Daily Value)  \\\n",
       "count                  260.000000                 260.000000   \n",
       "unique                        NaN                        NaN   \n",
       "top                           NaN                        NaN   \n",
       "freq                          NaN                        NaN   \n",
       "mean                    13.426923                   8.534615   \n",
       "std                     24.366381                  26.345542   \n",
       "min                      0.000000                   0.000000   \n",
       "25%                      2.000000                   0.000000   \n",
       "50%                      8.000000                   0.000000   \n",
       "75%                     15.000000                   4.000000   \n",
       "max                    170.000000                 240.000000   \n",
       "\n",
       "        Calcium (% Daily Value)  Iron (% Daily Value)  \n",
       "count                260.000000            260.000000  \n",
       "unique                      NaN                   NaN  \n",
       "top                         NaN                   NaN  \n",
       "freq                        NaN                   NaN  \n",
       "mean                  20.973077              7.734615  \n",
       "std                   17.019953              8.723263  \n",
       "min                    0.000000              0.000000  \n",
       "25%                    6.000000              0.000000  \n",
       "50%                   20.000000              4.000000  \n",
       "75%                   30.000000             15.000000  \n",
       "max                   70.000000             40.000000  \n",
       "\n",
       "[11 rows x 25 columns]"
      ]
     },
     "execution_count": 13,
     "metadata": {},
     "output_type": "execute_result"
    }
   ],
   "source": [
    "df.describe(include = 'all')"
   ]
  },
  {
   "cell_type": "markdown",
   "id": "297ef844-b6de-4163-aa16-6a9c448e7429",
   "metadata": {},
   "source": [
    "## Which food item has the maximum sodium content?"
   ]
  },
  {
   "cell_type": "markdown",
   "id": "62954119-4306-452d-87a9-8d4585504490",
   "metadata": {},
   "source": [
    "Using the `Swarm` plot method provided by the `seaborne` package, we create a categorical scatter plot. Then give as the input category on the x-axis sodium on te yh-axis and the data will be the data frame, `df`, that contains the nutritional data set from McDonald's."
   ]
  },
  {
   "cell_type": "code",
   "execution_count": 14,
   "id": "b4011f25-6db1-4619-83f3-d377f0583359",
   "metadata": {},
   "outputs": [],
   "source": [
    "import matplotlib.pyplot as plt\n",
    "%matplotlib inline\n",
    "import seaborn as sns"
   ]
  },
  {
   "cell_type": "code",
   "execution_count": 16,
   "id": "6307c2f6-a81c-4841-b530-a8ee11498bc1",
   "metadata": {},
   "outputs": [
    {
     "name": "stderr",
     "output_type": "stream",
     "text": [
      "C:\\Users\\steve\\miniconda3\\Lib\\site-packages\\seaborn\\_base.py:948: FutureWarning: When grouping with a length-1 list-like, you will need to pass a length-1 tuple to get_group in a future version of pandas. Pass `(name,)` instead of `name` to silence this warning.\n",
      "  data_subset = grouped_data.get_group(pd_key)\n",
      "C:\\Users\\steve\\miniconda3\\Lib\\site-packages\\seaborn\\categorical.py:3370: UserWarning: 48.1% of the points cannot be placed; you may want to decrease the size of the markers or use stripplot.\n",
      "  warnings.warn(msg, UserWarning)\n",
      "C:\\Users\\steve\\miniconda3\\Lib\\site-packages\\seaborn\\categorical.py:3370: UserWarning: 72.6% of the points cannot be placed; you may want to decrease the size of the markers or use stripplot.\n",
      "  warnings.warn(msg, UserWarning)\n",
      "C:\\Users\\steve\\miniconda3\\Lib\\site-packages\\seaborn\\categorical.py:3370: UserWarning: 14.3% of the points cannot be placed; you may want to decrease the size of the markers or use stripplot.\n",
      "  warnings.warn(msg, UserWarning)\n",
      "C:\\Users\\steve\\miniconda3\\Lib\\site-packages\\seaborn\\categorical.py:3370: UserWarning: 17.9% of the points cannot be placed; you may want to decrease the size of the markers or use stripplot.\n",
      "  warnings.warn(msg, UserWarning)\n"
     ]
    },
    {
     "data": {
      "image/png": "[encoded data removed]",
      "text/plain": [
       "<Figure size 640x480 with 1 Axes>"
      ]
     },
     "metadata": {},
     "output_type": "display_data"
    }
   ],
   "source": [
    "# Categorical scatterplots\n",
    "plot = sns.swarmplot(x=\"Category\", y=\"Sodium\", data=df)\n",
    "plt.setp(plot.get_xticklabels(), rotation=70)\n",
    "plt.title('Sodium Content')\n",
    "plt.show()"
   ]
  },
  {
   "cell_type": "markdown",
   "id": "268372f0-4395-4e2f-88e4-b71b8b6a2c1c",
   "metadata": {},
   "source": [
    "## Which food item has maximum sodium content?"
   ]
  },
  {
   "cell_type": "markdown",
   "id": "4dfbffee-9aa6-4bf6-814b-4a30164bac84",
   "metadata": {},
   "source": [
    "The `describe` method is used to understand the summary statistics associated with sodium."
   ]
  },
  {
   "cell_type": "code",
   "execution_count": 17,
   "id": "3cbe6203-a7bc-4792-86e7-0d4fa285f61a",
   "metadata": {},
   "outputs": [
    {
     "data": {
      "text/plain": [
       "count     260.000000\n",
       "mean      495.750000\n",
       "std       577.026323\n",
       "min         0.000000\n",
       "25%       107.500000\n",
       "50%       190.000000\n",
       "75%       865.000000\n",
       "max      3600.000000\n",
       "Name: Sodium, dtype: float64"
      ]
     },
     "execution_count": 17,
     "metadata": {},
     "output_type": "execute_result"
    }
   ],
   "source": [
    "df['Sodium'].describe()"
   ]
  },
  {
   "cell_type": "markdown",
   "id": "1455b57d-3adc-4a90-8fc8-748f8e5309d2",
   "metadata": {},
   "source": [
    "Notice that the maximum value of sodium is given as 3600, let's further explore the row associated with the maximum sodium variable. We use the `idxmax` method to compute the index values at which the maximun value of sodium is obtained in the data frame."
   ]
  },
  {
   "cell_type": "code",
   "execution_count": 18,
   "id": "569e0257-f327-4b5c-b3b6-169c8b83a6d7",
   "metadata": {},
   "outputs": [
    {
     "data": {
      "text/plain": [
       "82"
      ]
     },
     "execution_count": 18,
     "metadata": {},
     "output_type": "execute_result"
    }
   ],
   "source": [
    "df['Sodium'].idxmax()"
   ]
  },
  {
   "cell_type": "markdown",
   "id": "ed389a43-ecb7-4481-8393-9c0d5b16ab07",
   "metadata": {},
   "source": [
    "The output is 82. Now let's find the item name associated with the 82nd item in our data frame. We will use the `.at` method to find the item bame by passing the index of 82 and the column name `Item` to be returned for the 82nd row."
   ]
  },
  {
   "cell_type": "code",
   "execution_count": 20,
   "id": "aa997e69-80c9-440e-86fa-b745a7a446eb",
   "metadata": {},
   "outputs": [
    {
     "data": {
      "text/plain": [
       "'Chicken McNuggets (40 piece)'"
      ]
     },
     "execution_count": 20,
     "metadata": {},
     "output_type": "execute_result"
    }
   ],
   "source": [
    "df.at[82, 'Item']"
   ]
  },
  {
   "cell_type": "markdown",
   "id": "2c33fea8-d4bb-4322-abd7-c71fe135ae93",
   "metadata": {},
   "source": [
    "## Further data exploration using visualiations"
   ]
  },
  {
   "cell_type": "markdown",
   "id": "2f6b1774-e8d5-4d48-ab4e-a14eef26a43e",
   "metadata": {},
   "source": [
    "Let's first create a scatter plot with protein on the x-axis and total fat on the y-axis. Scatter plots are very popular visualization tools and show the relationship between two variables with a point for each observation.\n",
    "\n",
    "To do this, we can use the `jointplot` function provided by the seaborne package and give as input protein on the x-axis and total fat o the y-axis and the data will be in the dataframe, `df` that contains the nutritional dataset from McDonald's."
   ]
  },
  {
   "cell_type": "code",
   "execution_count": 23,
   "id": "7c42e5d6-83fc-48ee-9e67-8b95eab0f8f9",
   "metadata": {},
   "outputs": [
    {
     "data": {
      "image/png": "[encoded data removed]",
      "text/plain": [
       "<Figure size 600x600 with 3 Axes>"
      ]
     },
     "metadata": {},
     "output_type": "display_data"
    }
   ],
   "source": [
    "plot = sns.jointplot(x=\"Protein\", y=\"Total Fat\", data=df)"
   ]
  },
  {
   "cell_type": "code",
   "execution_count": null,
   "id": "c54bc330-a976-42b9-84bc-26b5f0314666",
   "metadata": {},
   "outputs": [],
   "source": []
  }
 ],
 "metadata": {
  "kernelspec": {
   "display_name": "Python 3 (ipykernel)",
   "language": "python",
   "name": "python3"
  },
  "language_info": {
   "codemirror_mode": {
    "name": "ipython",
    "version": 3
   },
   "file_extension": ".py",
   "mimetype": "text/x-python",
   "name": "python",
   "nbconvert_exporter": "python",
   "pygments_lexer": "ipython3",
   "version": "3.11.5"
  }
 },
 "nbformat": 4,
 "nbformat_minor": 5
}
