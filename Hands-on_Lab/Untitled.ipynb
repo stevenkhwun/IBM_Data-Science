{
 "cells": [
  {
   "cell_type": "code",
   "execution_count": 3,
   "id": "640aaab4-233f-4d09-b168-1efd03a3bc6d",
   "metadata": {},
   "outputs": [],
   "source": [
    "example1 = \"example1.txt\""
   ]
  },
  {
   "cell_type": "code",
   "execution_count": 4,
   "id": "fd23c688-b237-4647-bdde-9cead2c48467",
   "metadata": {},
   "outputs": [
    {
     "name": "stdout",
     "output_type": "stream",
     "text": [
      "This is line 1 \n",
      "This is line 2\n",
      "This is line 3\n"
     ]
    }
   ],
   "source": [
    "with open(example1, \"r\") as file1:\n",
    "    FileContent = file1.read()\n",
    "    print(FileContent)"
   ]
  },
  {
   "cell_type": "code",
   "execution_count": 5,
   "id": "b48adc64-1120-4a5d-b758-367ede5bfbef",
   "metadata": {},
   "outputs": [],
   "source": [
    "with open(example1, \"a\") as testwritefile:\n",
    "    testwritefile.write(\"This is line C\\n\")"
   ]
  },
  {
   "cell_type": "code",
   "execution_count": 6,
   "id": "73c7d0c9-797f-48d2-908b-e894d2778023",
   "metadata": {},
   "outputs": [
    {
     "name": "stdout",
     "output_type": "stream",
     "text": [
      "This is line 1 \n",
      "This is line 2\n",
      "This is line 3This is line C\n",
      "\n"
     ]
    }
   ],
   "source": [
    "with open(example1, \"r\") as file1:\n",
    "    FileContent = file1.read()\n",
    "    print(FileContent)"
   ]
  },
  {
   "cell_type": "code",
   "execution_count": 7,
   "id": "188e7167-9b97-4a20-805e-1c3569825b58",
   "metadata": {},
   "outputs": [
    {
     "name": "stdout",
     "output_type": "stream",
     "text": [
      "This is line 1 \n",
      "This is line 2\n",
      "This is line 3This is line C\n",
      "\n"
     ]
    }
   ],
   "source": [
    "with open(example1, \"r\") as file1:\n",
    "    FileContent = file1.read()\n",
    "    print(FileContent)"
   ]
  },
  {
   "cell_type": "code",
   "execution_count": 8,
   "id": "2410c8dc-1fc3-456c-8960-1d55b273fe24",
   "metadata": {},
   "outputs": [],
   "source": [
    "with open(example1, \"a\") as testwritefile:\n",
    "    testwritefile.write(\"\\nThis is line C\\n\")"
   ]
  },
  {
   "cell_type": "code",
   "execution_count": 9,
   "id": "45e5634d-fa17-43c3-bc4a-4673bd0c672f",
   "metadata": {},
   "outputs": [
    {
     "name": "stdout",
     "output_type": "stream",
     "text": [
      "This is line 1 \n",
      "This is line 2\n",
      "This is line 3This is line C\n",
      "\n",
      "This is line C\n",
      "\n"
     ]
    }
   ],
   "source": [
    "with open(example1, \"r\") as file1:\n",
    "    FileContent = file1.read()\n",
    "    print(FileContent)"
   ]
  },
  {
   "cell_type": "code",
   "execution_count": 10,
   "id": "9d14bb07-e1dd-4bbe-971c-cf56096a1a1d",
   "metadata": {},
   "outputs": [],
   "source": [
    "with open(example1, \"a\") as testwritefile:\n",
    "    testwritefile.write(\"This is line D\\n\")"
   ]
  },
  {
   "cell_type": "code",
   "execution_count": 11,
   "id": "e0a0f17a-a8ff-4267-924a-aea2934a55aa",
   "metadata": {},
   "outputs": [
    {
     "name": "stdout",
     "output_type": "stream",
     "text": [
      "This is line 1 \n",
      "This is line 2\n",
      "This is line 3This is line C\n",
      "\n",
      "This is line C\n",
      "This is line D\n",
      "\n"
     ]
    }
   ],
   "source": [
    "with open(example1, \"r\") as file1:\n",
    "    FileContent = file1.read()\n",
    "    print(FileContent)"
   ]
  },
  {
   "cell_type": "code",
   "execution_count": null,
   "id": "4674145a-f894-4e53-80ec-20f29f7d2ca0",
   "metadata": {},
   "outputs": [],
   "source": []
  }
 ],
 "metadata": {
  "kernelspec": {
   "display_name": "Python 3 (ipykernel)",
   "language": "python",
   "name": "python3"
  },
  "language_info": {
   "codemirror_mode": {
    "name": "ipython",
    "version": 3
   },
   "file_extension": ".py",
   "mimetype": "text/x-python",
   "name": "python",
   "nbconvert_exporter": "python",
   "pygments_lexer": "ipython3",
   "version": "3.11.5"
  }
 },
 "nbformat": 4,
 "nbformat_minor": 5
}
