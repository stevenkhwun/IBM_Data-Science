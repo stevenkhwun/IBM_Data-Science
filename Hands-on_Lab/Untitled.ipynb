{
 "cells": [
  {
   "cell_type": "code",
   "execution_count": 1,
   "id": "67742562-0c0d-48c7-b688-032f9d03f011",
   "metadata": {},
   "outputs": [
    {
     "name": "stdout",
     "output_type": "stream",
     "text": [
      "Active Members: \n",
      "\n",
      "\n",
      "Membership No  Date Joined  Active  \n",
      "    64571      2017-2-6     no    \n",
      "    60778      2018-8-23    no    \n",
      "    84824      2016-11-9    yes   \n",
      "    23062      2016-2-24    no    \n",
      "    67997      2016-4-8     no    \n",
      "    82487      2018-6-12    no    \n",
      "    34582      2017-5-24    no    \n",
      "    11571      2015-1-12    yes   \n",
      "    79847      2018-12-25   no    \n",
      "    28521      2019-6-5     yes   \n",
      "    73633      2018-5-21    yes   \n",
      "    28392      2018-4-23    no    \n",
      "    88995      2019-11-11   yes   \n",
      "    84533      2016-11-6    no    \n",
      "    91687      2015-12-7    no    \n",
      "    91120      2017-5-23    yes   \n",
      "    14998      2018-1-24    yes   \n",
      "    15938      2019-12-19   yes   \n",
      "    78207      2015-12-23   no    \n",
      "    23828      2019-12-22   no    \n",
      "\n",
      "Inactive Members: \n",
      "\n",
      "\n",
      "Membership No  Date Joined  Active  \n",
      "    79734      2016-10-12   no    \n",
      "    15597      2016-8-3     no    \n",
      "    97002      2016-10-6    no    \n",
      "\n"
     ]
    }
   ],
   "source": [
    "memReg = 'members.txt'\n",
    "exReg = 'inactive.txt'\n",
    "\n",
    "with open(memReg,'r') as readFile:\n",
    "    print(\"Active Members: \\n\\n\")\n",
    "    print(readFile.read())\n",
    "    \n",
    "with open(exReg,'r') as readFile:\n",
    "    print(\"Inactive Members: \\n\\n\")\n",
    "    print(readFile.read())"
   ]
  },
  {
   "cell_type": "code",
   "execution_count": null,
   "id": "690771e7-5dbd-48f8-9a17-3f2467007861",
   "metadata": {},
   "outputs": [],
   "source": []
  }
 ],
 "metadata": {
  "kernelspec": {
   "display_name": "Python 3 (ipykernel)",
   "language": "python",
   "name": "python3"
  },
  "language_info": {
   "codemirror_mode": {
    "name": "ipython",
    "version": 3
   },
   "file_extension": ".py",
   "mimetype": "text/x-python",
   "name": "python",
   "nbconvert_exporter": "python",
   "pygments_lexer": "ipython3",
   "version": "3.11.5"
  }
 },
 "nbformat": 4,
 "nbformat_minor": 5
}
