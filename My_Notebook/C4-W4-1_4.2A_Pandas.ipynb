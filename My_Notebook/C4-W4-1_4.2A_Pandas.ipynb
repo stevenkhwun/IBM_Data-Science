{
 "cells": [
  {
   "cell_type": "markdown",
   "id": "d48b22ff-ec58-44ff-a7d5-b13962484b70",
   "metadata": {},
   "source": [
    "<font size=\"6\">Introduction to Pandas for Data Analysis</font>"
   ]
  },
  {
   "cell_type": "markdown",
   "id": "1ea46a89-2c25-4ff6-acd4-925e1a2a515c",
   "metadata": {},
   "source": [
    "# Objective\n",
    "\n",
    "1. Learn what Pandas Series are and how to create them.\n",
    "2. Understand how to access and manipulate data within a Series.\n",
    "3. Discover the basics of creating and working with Pandas DataFrames.\n",
    "4. Learn how to access, modify, and analyze data in DataFrames.\n",
    "5. Gain insights into common DataFrame attributes and methods."
   ]
  },
  {
   "cell_type": "markdown",
   "id": "cd51faa0-2b67-465a-af3d-93b73a2177e6",
   "metadata": {},
   "source": [
    "# What is Pandas?\n",
    "\n",
    "Pandas is a popular open-source data manipulation and analysis library for the Python programming language. It provides a powerful and flexible set of tools for working with structured data, making it a fundamental tool for datascientists, analysts, and engineers.\n",
    "\n",
    "Pandas is designed to handle data in various formats, such as tabular data, time series data, and more, making it anessential part of the data processing workflow in many industries.\n",
    "\n",
    "\n",
    "Here are some **key features and functionalities of Pandas**:\n",
    "\n",
    "**Data Structures**: Pandas offers two primary data structures - DataFrame and Series.\n",
    "1. A DataFrame is a two-dimensional, size-mutable, and potentially heterogeneous tabular data structure with labeledaxes (rows and columns).\n",
    "2. A Series is a one-dimensional labeled array, essentially a single column or row of data.\n",
    "\n",
    "**Data Import and Export**: Pandas makes it easy to read data from various sources, including CSV files, Excelspreadsheets, SQL databases, and more. It can also export data to these formats, enabling seamless data exchange.\n",
    "\n",
    "**Data Merging and Joining**: You can combine multiple DataFrames using methods like merge and join, similar to SQLoperations, to create more complex datasets from different sources.\n",
    "\n",
    "**Efficient Indexing**: Pandas provides efficient indexing and selection methods, allowing you to access specific rows andcolumns of data quickly.\n",
    "\n",
    "**Custom Data Structures**: You can create custom data structures and manipulate data in ways that suit your specificneeds, extending Pandas' capabilities."
   ]
  },
  {
   "cell_type": "markdown",
   "id": "beafa53f-60b7-4ea7-87f8-6fd935db3a6e",
   "metadata": {},
   "source": [
    "# Importing Pandas\n",
    "Import Pandas using the import command, followed by the library's name. Commonly, Pandas is imported as pd for brevity in code.\n",
    "```Python\n",
    "import pandas as pd\n",
    "```"
   ]
  },
  {
   "cell_type": "markdown",
   "id": "807ebc7d-8875-41f4-9b89-3d2032ffdca7",
   "metadata": {},
   "source": [
    "# Data Loading\n",
    "* Pandas can be used to load data from various sources, such as CSV and Excel files.\n",
    "* The `read_csv()` function is used to load data from a CSV file into a Pandas DataFrame.\n",
    "\n",
    "To read a CSV (Comma-Separated Values) file in Python using the Pandas library, you can use the `pd.read_csv()` function. Here's the syntax to read a CSV file:\n",
    "```Python\n",
    "import pandas pd\n",
    "# Read the CSV file into a DataFrame\n",
    "df = pd.read_csv('your_file.csv')\n",
    "```\n",
    "Replace `your_file.csv` with the actual file path of your CSV file. Make sure that the file is located in the same directory as your Python script, or you provide the correct file path."
   ]
  },
  {
   "cell_type": "markdown",
   "id": "b3b941a4-cbe6-4142-af02-7471cca5adc5",
   "metadata": {},
   "source": [
    "# What is a Series?\n",
    "A Series is a one-dimensional labeled array in Pandas. It can be thought of as a single column of data with labels or indices for each element. You can create a Series from various data sources, such as lists, NumPy arrays, or dictionaries. Here's a basic example of creating a Series in Pandas:"
   ]
  },
  {
   "cell_type": "code",
   "execution_count": 17,
   "id": "adf25695-19dc-43f6-828e-eea5ca56f9cf",
   "metadata": {},
   "outputs": [
    {
     "name": "stdout",
     "output_type": "stream",
     "text": [
      "0    10\n",
      "1    20\n",
      "2    30\n",
      "3    40\n",
      "4    50\n",
      "dtype: int64\n"
     ]
    }
   ],
   "source": [
    "import pandas as pd\n",
    "\n",
    "# Create a Series from a list\n",
    "data = [10, 20, 30, 40, 50]\n",
    "\n",
    "s = pd.Series(data)\n",
    "\n",
    "print(s)"
   ]
  },
  {
   "cell_type": "markdown",
   "id": "8b6698c5-736d-4584-9e44-922f3899a502",
   "metadata": {},
   "source": [
    "In this example, we've created a Series named **s** with numeric data. Notice that Pandas automatically assigned numerical indices (0, 1, 2, 3, 4) to each element, but you can also specify custom labels if needed."
   ]
  },
  {
   "cell_type": "markdown",
   "id": "50abba2d-6224-414c-bdc9-cdbf01792f9b",
   "metadata": {},
   "source": [
    "# Accessing Elements in a Series\n",
    "You can access elements in a Series using the index labels or integer positions. Here are a few common methods for accessing Series data:"
   ]
  },
  {
   "cell_type": "markdown",
   "id": "be7eea6d-a229-45d9-bde9-886d78ab601d",
   "metadata": {},
   "source": [
    "**Accessing by label**"
   ]
  },
  {
   "cell_type": "code",
   "execution_count": 18,
   "id": "c62e303d-c43e-420c-b252-62c853532024",
   "metadata": {},
   "outputs": [
    {
     "name": "stdout",
     "output_type": "stream",
     "text": [
      "30\n"
     ]
    }
   ],
   "source": [
    "print(s[2])       # Access the element with label 2"
   ]
  },
  {
   "cell_type": "markdown",
   "id": "b449298f-72af-44df-97ce-a75f370eb2cd",
   "metadata": {},
   "source": [
    "**Accessing by position**"
   ]
  },
  {
   "cell_type": "code",
   "execution_count": 19,
   "id": "cae79b59-d63f-4e2f-a8df-3e5c1ff3b1cf",
   "metadata": {},
   "outputs": [
    {
     "name": "stdout",
     "output_type": "stream",
     "text": [
      "40\n"
     ]
    }
   ],
   "source": [
    "print(s.iloc[3])  # Access the element at position 3"
   ]
  },
  {
   "cell_type": "markdown",
   "id": "4c0176aa-abc1-46ad-ac9f-72a1698f7c0a",
   "metadata": {},
   "source": [
    "**Accessing multiple elements**"
   ]
  },
  {
   "cell_type": "code",
   "execution_count": 20,
   "id": "dcc90512-7d40-49db-ad3e-3e0e521b2cb2",
   "metadata": {},
   "outputs": [
    {
     "name": "stdout",
     "output_type": "stream",
     "text": [
      "1    20\n",
      "2    30\n",
      "3    40\n",
      "dtype: int64\n"
     ]
    }
   ],
   "source": [
    "print(s[1:4])     # Access a range of elements by label"
   ]
  },
  {
   "cell_type": "markdown",
   "id": "c55feeb8-fd17-45c7-b2f9-8c511a8195c1",
   "metadata": {},
   "source": [
    "# Series Attributes and Methods\n",
    "\n",
    "Pandas Series come with various attributes and methods to help you manipulate and analyze data effectively. Here are afew essential ones:\n",
    "* **values**: Returns the Series data as a NumPy array.\n",
    "* **index**: Returns the index (labels) of the Series.\n",
    "* **shape**: Returns a tuple representing the dimensions of the Series.\n",
    "* **size**: Returns the number of elements in the Series.\n",
    "* **mean(), sum(), min(), max()**: Calculate summary statistics of the data.\n",
    "* **unique(), nunique()**: Get unique values or the number of unique values.\n",
    "* **sort_values(), sort_index()**: Sort the Series by values or index labels.\n",
    "* **isnull(), notnull()**: Check for missing (NaN) or non-missing values.\n",
    "* **apply()**: Apply a custom function to each element of the Series."
   ]
  },
  {
   "cell_type": "markdown",
   "id": "c135b76a-e0fe-416c-9265-54b3941c7490",
   "metadata": {},
   "source": [
    "# What is a DataFrames?\n",
    "A DataFrame is a two-dimensional labeled data structure with columns of potentially different data types. Think of it as a table where each column represents a variable, and each row represents an observation or data point. DataFrames are suitable for a wide range of data, including structured data from CSV files, Excel spreadsheets, SQL databases, and more."
   ]
  },
  {
   "cell_type": "markdown",
   "id": "efdf8aff-a07a-48f3-a4d7-38588d74135d",
   "metadata": {},
   "source": [
    "# Creating DataFrames from Dictionaries\n",
    "DataFrames can be created from dictionaries, with keys as column labels and values as lists representing rows."
   ]
  },
  {
   "cell_type": "code",
   "execution_count": 21,
   "id": "4f15eae1-c69c-4948-9a8a-a12a8330a193",
   "metadata": {},
   "outputs": [
    {
     "name": "stdout",
     "output_type": "stream",
     "text": [
      "      Name  Age    Country\n",
      "0    Alice   25        USA\n",
      "1      Bob   30         UK\n",
      "2  Charlie   35  Hong Kong\n",
      "3    David   28     Taiwan\n"
     ]
    }
   ],
   "source": [
    "import pandas as pd\n",
    "\n",
    "# Creating a DataFrame from a dictionary\n",
    "data = {'Name': ['Alice', 'Bob', 'Charlie', 'David'],\n",
    "        'Age': [25, 30, 35, 28],\n",
    "        'Country': ['USA', 'UK', 'Hong Kong', 'Taiwan']}\n",
    "\n",
    "df = pd.DataFrame(data)\n",
    "\n",
    "print(df)"
   ]
  },
  {
   "cell_type": "markdown",
   "id": "e1f87afe-e1ac-46dc-ab33-a424564a2bce",
   "metadata": {},
   "source": [
    "# Accessing elements in a DataFrame"
   ]
  },
  {
   "cell_type": "markdown",
   "id": "6cee6f48-9156-4f00-a69b-645e69df7365",
   "metadata": {},
   "source": [
    "**Column Selection**\n",
    "\n",
    "You can select a single column from a DataFrame by specifying the column name within double brackets.\n",
    "Multiple columns can be selected in a similar manner, creating a new DataFrame."
   ]
  },
  {
   "cell_type": "code",
   "execution_count": 22,
   "id": "e7cfc92d-edc5-4ebb-8b4b-1a1a8b5f94e8",
   "metadata": {},
   "outputs": [
    {
     "name": "stdout",
     "output_type": "stream",
     "text": [
      "0      Alice\n",
      "1        Bob\n",
      "2    Charlie\n",
      "3      David\n",
      "Name: Name, dtype: object\n"
     ]
    }
   ],
   "source": [
    "# Access the 'Name' column\n",
    "print(df['Name'])"
   ]
  },
  {
   "cell_type": "markdown",
   "id": "7ac1dac8-9276-4bd1-92e2-b07df35dd75b",
   "metadata": {},
   "source": [
    "**Accessing Rows**\n",
    "\n",
    "You can access rows by their index using `.iloc[]` or by label using `.loc[]`."
   ]
  },
  {
   "cell_type": "code",
   "execution_count": 23,
   "id": "77103414-db11-4200-a2d8-d3e61c5ebbdb",
   "metadata": {},
   "outputs": [
    {
     "name": "stdout",
     "output_type": "stream",
     "text": [
      "Name         Charlie\n",
      "Age               35\n",
      "Country    Hong Kong\n",
      "Name: 2, dtype: object\n"
     ]
    }
   ],
   "source": [
    "# Access the third row by position\n",
    "print(df.iloc[2])"
   ]
  },
  {
   "cell_type": "code",
   "execution_count": 24,
   "id": "aeb3ab29-b241-41ce-a392-3ec6e0432e83",
   "metadata": {},
   "outputs": [
    {
     "name": "stdout",
     "output_type": "stream",
     "text": [
      "Name       Bob\n",
      "Age         30\n",
      "Country     UK\n",
      "Name: 1, dtype: object\n"
     ]
    }
   ],
   "source": [
    "# Access the second row by label\n",
    "print(df.loc[1])"
   ]
  },
  {
   "cell_type": "markdown",
   "id": "d6b3703c-4fcd-40d3-9734-a63040d85ea7",
   "metadata": {},
   "source": [
    "**Slicing**\n",
    "\n",
    "You can slice DataFrames to select specific rows and columns."
   ]
  },
  {
   "cell_type": "code",
   "execution_count": 25,
   "id": "081cb196-21ec-44d3-a0d2-6095fad7fe18",
   "metadata": {},
   "outputs": [
    {
     "name": "stdout",
     "output_type": "stream",
     "text": [
      "      Name  Age\n",
      "0    Alice   25\n",
      "1      Bob   30\n",
      "2  Charlie   35\n",
      "3    David   28\n"
     ]
    }
   ],
   "source": [
    "# Select specific columns\n",
    "print(df[['Name', 'Age']])"
   ]
  },
  {
   "cell_type": "code",
   "execution_count": 26,
   "id": "c4cd14da-51e6-48a0-82f1-f2b86cde86b9",
   "metadata": {},
   "outputs": [
    {
     "name": "stdout",
     "output_type": "stream",
     "text": [
      "      Name  Age    Country\n",
      "1      Bob   30         UK\n",
      "2  Charlie   35  Hong Kong\n"
     ]
    }
   ],
   "source": [
    "# Select specific rows\n",
    "print(df[1:3])"
   ]
  },
  {
   "cell_type": "markdown",
   "id": "1854e02b-f1c2-4f77-8b16-396393de59cf",
   "metadata": {},
   "source": [
    "# Finding Unique Elements\n",
    "Use the unique method to determine the unique elements in a column of a DataFrame."
   ]
  },
  {
   "cell_type": "code",
   "execution_count": 27,
   "id": "83000b77-9326-4a6e-9533-56854087c7f2",
   "metadata": {},
   "outputs": [
    {
     "data": {
      "text/plain": [
       "array([25, 30, 35, 28], dtype=int64)"
      ]
     },
     "execution_count": 27,
     "metadata": {},
     "output_type": "execute_result"
    }
   ],
   "source": [
    "unique_dates = df['Age'].unique()\n",
    "unique_dates"
   ]
  },
  {
   "cell_type": "markdown",
   "id": "6ab020a0-b090-4e3f-b7f9-070a30f7e0e2",
   "metadata": {},
   "source": [
    "# Conditional Filtering\n",
    "You can filter data in a DataFrame based on conditions using inequality operators. For instance, you can filter people of age above 25."
   ]
  },
  {
   "cell_type": "code",
   "execution_count": 28,
   "id": "e2b60dd9-d0f2-4893-b0fc-a42157db6a86",
   "metadata": {},
   "outputs": [
    {
     "data": {
      "text/html": [
       "<div>\n",
       "<style scoped>\n",
       "    .dataframe tbody tr th:only-of-type {\n",
       "        vertical-align: middle;\n",
       "    }\n",
       "\n",
       "    .dataframe tbody tr th {\n",
       "        vertical-align: top;\n",
       "    }\n",
       "\n",
       "    .dataframe thead th {\n",
       "        text-align: right;\n",
       "    }\n",
       "</style>\n",
       "<table border=\"1\" class=\"dataframe\">\n",
       "  <thead>\n",
       "    <tr style=\"text-align: right;\">\n",
       "      <th></th>\n",
       "      <th>Name</th>\n",
       "      <th>Age</th>\n",
       "      <th>Country</th>\n",
       "    </tr>\n",
       "  </thead>\n",
       "  <tbody>\n",
       "    <tr>\n",
       "      <th>1</th>\n",
       "      <td>Bob</td>\n",
       "      <td>30</td>\n",
       "      <td>UK</td>\n",
       "    </tr>\n",
       "    <tr>\n",
       "      <th>2</th>\n",
       "      <td>Charlie</td>\n",
       "      <td>35</td>\n",
       "      <td>Hong Kong</td>\n",
       "    </tr>\n",
       "    <tr>\n",
       "      <th>3</th>\n",
       "      <td>David</td>\n",
       "      <td>28</td>\n",
       "      <td>Taiwan</td>\n",
       "    </tr>\n",
       "  </tbody>\n",
       "</table>\n",
       "</div>"
      ],
      "text/plain": [
       "      Name  Age    Country\n",
       "1      Bob   30         UK\n",
       "2  Charlie   35  Hong Kong\n",
       "3    David   28     Taiwan"
      ]
     },
     "execution_count": 28,
     "metadata": {},
     "output_type": "execute_result"
    }
   ],
   "source": [
    "age_above_25 = df[df['Age'] > 25]\n",
    "age_above_25"
   ]
  },
  {
   "cell_type": "markdown",
   "id": "afc29866-8bd9-471a-9c32-a1d278e319d1",
   "metadata": {},
   "source": [
    "# Saving DataFrames\n",
    "To save a DataFrame to a CSV file, use the `.to_csv()` method and specify the filename with a “.csv” extension. Pandas provides other functions for saving DataFrames in different formats.\n",
    "```Python\n",
    "# Syntax\n",
    "df.to_csv('people_data.csv', index = False)\n",
    "```"
   ]
  },
  {
   "cell_type": "markdown",
   "id": "01d1e330-0298-46bd-8503-e0cdaa2e929a",
   "metadata": {},
   "source": [
    "# DataFrame Attributes and Methods\n",
    "DataFrames provide numerous attributes and methods for data manipulation and analysis, including:\n",
    "* **shape**: Returns the dimensions (number of rows and columns) of the DataFrame.\n",
    "* **info()**: Provides a summary of the DataFrame, including data types and non-null counts.\n",
    "* **describe()**: Generates summary statistics for numerical columns.\n",
    "* **head(), tail()**: Displays the first or last n rows of the DataFrame.\n",
    "* **mean(), sum(), min(), max()**: Calculate summary statistics for columns.\n",
    "* **sort_values()**: Sort the DataFrame by one or more columns.\n",
    "* **groupby()**: Group data based on specific columns for aggregation.\n",
    "* **fillna(), drop(), rename()**: Handle missing values, drop columns, or rename columns.\n",
    "* **apply()**: Apply a function to each element, row, or column of the DataFrame.\n",
    "\n",
    "Pandas offers a wide range of methods beyond these examples. For more detailed information, please refer to the official documentation available on the [Pandas official website](https://pandas.pydata.org/docs/)."
   ]
  },
  {
   "cell_type": "markdown",
   "id": "5377c19a-1d6c-43c4-bcf6-9caf9396da64",
   "metadata": {},
   "source": [
    "# Conclusion\n",
    "In conclusion, mastering the use of Pandas Series and DataFrames is essential for effective data manipulation andanalysis in Python. Series provide a foundation for handling one-dimensional data with labels, while DataFrames offer a versatile, table-like structure for working with two-dimensional data. Whether you're cleaning, exploring, transforming, or analyzing data, these Pandas data structures, along with their attributes and methods, empower you to efficiently and flexibly manipulate data to derive valuable insights. By incorporating Series and DataFrames into your data science toolkit, you'll be well-prepared to tackle a wide range of data-related tasks and enhance your data analysis capabilities."
   ]
  }
 ],
 "metadata": {
  "kernelspec": {
   "display_name": "Python 3 (ipykernel)",
   "language": "python",
   "name": "python3"
  },
  "language_info": {
   "codemirror_mode": {
    "name": "ipython",
    "version": 3
   },
   "file_extension": ".py",
   "mimetype": "text/x-python",
   "name": "python",
   "nbconvert_exporter": "python",
   "pygments_lexer": "ipython3",
   "version": "3.11.5"
  }
 },
 "nbformat": 4,
 "nbformat_minor": 5
}
