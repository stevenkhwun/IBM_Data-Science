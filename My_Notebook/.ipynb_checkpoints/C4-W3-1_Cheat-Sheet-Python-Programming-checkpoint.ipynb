{
 "cells": [
  {
   "cell_type": "markdown",
   "id": "6fd3a69b-3795-43e1-81f8-4d6ef2927565",
   "metadata": {},
   "source": [
    "# Python Data Structures Cheat Sheet"
   ]
  },
  {
   "cell_type": "markdown",
   "id": "639439a5-0ac1-4664-9346-c02b241057f1",
   "metadata": {},
   "source": [
    "This is a Cheat Sheet for the following Python Data Structures:\n",
    "\n",
    "* [List](#0)\n",
    "* [Dictionary](#1)\n",
    "* [Set](#2)"
   ]
  },
  {
   "cell_type": "markdown",
   "id": "43ba55c7-d4f5-4538-aca0-ba5af86470d3",
   "metadata": {},
   "source": [
    "## List <a id = \"0\"></a>"
   ]
  },
  {
   "cell_type": "markdown",
   "id": "ef1e074c-affd-4aba-8304-29a41f74c09f",
   "metadata": {},
   "source": [
    "### `append()`\n",
    "\n",
    "The `append()` method is used to add an element to the end of a list.\n",
    "```Python\n",
    "# Syntax\n",
    "list_name.append(element)\n",
    "```"
   ]
  },
  {
   "cell_type": "code",
   "execution_count": 1,
   "id": "1067fbde-050f-4566-a38d-7c3a9a6b87be",
   "metadata": {},
   "outputs": [
    {
     "name": "stdout",
     "output_type": "stream",
     "text": [
      "['apple', 'banana', 'orange', 'mango']\n"
     ]
    }
   ],
   "source": [
    "# Example\n",
    "fruits = [\"apple\", \"banana\", \"orange\"] \n",
    "fruits.append(\"mango\")\n",
    "print(fruits)"
   ]
  },
  {
   "cell_type": "markdown",
   "id": "0a9c9420-c9f1-46b5-8d2d-a833ccaf8f66",
   "metadata": {},
   "source": [
    "### `copy()`\n",
    "The `copy()` method is used to create a shallow copy of a list. The shallow copy will not be altered when the original copy was changed."
   ]
  },
  {
   "cell_type": "code",
   "execution_count": 2,
   "id": "2dcc2e49-ea44-49ba-8728-4ba4b0fbae7b",
   "metadata": {},
   "outputs": [
    {
     "name": "stdout",
     "output_type": "stream",
     "text": [
      "[1, 2, 3, 4, 5]\n"
     ]
    }
   ],
   "source": [
    "# Example\n",
    "my_list = [1, 2, 3, 4, 5] \n",
    "new_list = my_list.copy()\n",
    "print(new_list) "
   ]
  },
  {
   "cell_type": "code",
   "execution_count": 3,
   "id": "0c9345f5-f3d3-43d6-81f0-bc4c44f1fd01",
   "metadata": {},
   "outputs": [
    {
     "name": "stdout",
     "output_type": "stream",
     "text": [
      "my_list is [1, 2, 3, 4]\n",
      "new_list is [1, 2, 3, 4, 5]\n"
     ]
    }
   ],
   "source": [
    "# Example: Original copy changed\n",
    "my_list.remove(5)\n",
    "print(f\"my_list is {my_list}\")\n",
    "print(f\"new_list is {new_list}\")"
   ]
  },
  {
   "cell_type": "markdown",
   "id": "b4a6fe11-9884-45de-93f9-3fb7da7bf0dc",
   "metadata": {},
   "source": [
    "### Copy and Clone List using `=`"
   ]
  },
  {
   "cell_type": "code",
   "execution_count": 4,
   "id": "ece312ea-d34a-43ed-bbbf-54329b147561",
   "metadata": {},
   "outputs": [
    {
     "name": "stdout",
     "output_type": "stream",
     "text": [
      "A is ['hard rock', 10, 1.2] before amending A\n",
      "B is ['hard rock', 10, 1.2] before amending A\n",
      "C is ['hard rock', 10, 1.2] before amending A\n",
      "A is ['hard rock', 10] after amending A\n",
      "B is ['hard rock', 10] after amending A\n",
      "C is ['hard rock', 10, 1.2] after amending A\n"
     ]
    }
   ],
   "source": [
    "# Example\n",
    "A = [\"hard rock\", 10, 1.2]\n",
    "B = A                       # Copy by reference\n",
    "C = A[:]                    # Copy by cloning\n",
    "print(f\"A is {A} before amending A\")\n",
    "print(f\"B is {B} before amending A\")\n",
    "print(f\"C is {C} before amending A\")\n",
    "A.remove(1.2)               # Altering list A\n",
    "print(f\"A is {A} after amending A\")\n",
    "print(f\"B is {B} after amending A\")\n",
    "print(f\"C is {C} after amending A\")"
   ]
  },
  {
   "cell_type": "markdown",
   "id": "64e3181b-29a6-421d-ace7-51eac48dff9a",
   "metadata": {},
   "source": [
    "### `count()`\n",
    "The `count()` method is used to count the number of occurrences of a specific element in a list in Python."
   ]
  },
  {
   "cell_type": "code",
   "execution_count": 5,
   "id": "2c2d6702-1076-42de-958a-5c0fce96e4b7",
   "metadata": {},
   "outputs": [
    {
     "name": "stdout",
     "output_type": "stream",
     "text": [
      "4\n"
     ]
    }
   ],
   "source": [
    "# Example\n",
    "my_list = [1, 2, 2, 3, 4, 2, 5, 2] \n",
    "count = my_list.count(2)\n",
    "print(count) "
   ]
  },
  {
   "cell_type": "markdown",
   "id": "bd43e48e-4e3d-46c5-b668-3fa45ff7fd1e",
   "metadata": {},
   "source": [
    "### Creating a list\n",
    "\n",
    "A list is a built-in data type that represents an ordered and mutable collection of elements. Lists are enclosed in square brackets [] and elements are separated by commas."
   ]
  },
  {
   "cell_type": "code",
   "execution_count": 6,
   "id": "fa145c03-4ea4-45b2-86f7-dc2864b3f132",
   "metadata": {},
   "outputs": [
    {
     "data": {
      "text/plain": [
       "['apple', 'banana', 'orange', 'mango']"
      ]
     },
     "execution_count": 6,
     "metadata": {},
     "output_type": "execute_result"
    }
   ],
   "source": [
    "# Example\n",
    "fruits = [\"apple\", \"banana\", \"orange\", \"mango\"]\n",
    "fruits"
   ]
  },
  {
   "cell_type": "markdown",
   "id": "0310c018-217f-40ff-ac31-408fc6f289c0",
   "metadata": {},
   "source": [
    "### Constructing lists using comprehensions\n",
    "A comprehension appears in square brackets after the list name assignment and includes three elements: an expression, an individual item upon which to act, and a list of items to work with."
   ]
  },
  {
   "cell_type": "code",
   "execution_count": 7,
   "id": "cabc4c66-e8cf-4b21-9819-1d71cd9debd9",
   "metadata": {},
   "outputs": [
    {
     "name": "stdout",
     "output_type": "stream",
     "text": [
      "['H', 'E', 'L', 'L', 'O']\n"
     ]
    }
   ],
   "source": [
    "# Example\n",
    "Letters = [letter.upper() for letter in \"Hello\"]\n",
    "print(Letters)"
   ]
  },
  {
   "cell_type": "markdown",
   "id": "66fd77d3-9a2d-4b90-9000-901722191953",
   "metadata": {},
   "source": [
    "### `del`\n",
    "The `del` statement is used to remove an element from list. `del` statement removes the element at the specified index."
   ]
  },
  {
   "cell_type": "code",
   "execution_count": 8,
   "id": "649c4220-7c66-4e63-97fc-41e9ca291bf5",
   "metadata": {},
   "outputs": [
    {
     "name": "stdout",
     "output_type": "stream",
     "text": [
      "[10, 20, 40, 50]\n"
     ]
    }
   ],
   "source": [
    "# Example\n",
    "my_list = [10, 20, 30, 40, 50] \n",
    "del my_list[2]    # Removes the element at index 2\n",
    "print(my_list)"
   ]
  },
  {
   "cell_type": "markdown",
   "id": "602ee96b-37ca-4c43-afe7-ae78265cf790",
   "metadata": {},
   "source": [
    "### `extend()`\n",
    "The `extend()` method is used to add multiple elements to a list. It takes an iterable (such as another list, tuple, or string) and appends each element of the iterable to the original list.\n",
    "```Python\n",
    "# Syntax\n",
    "list_name.extend(iterable)\n",
    "```"
   ]
  },
  {
   "cell_type": "code",
   "execution_count": 9,
   "id": "cba16d2c-a9d2-480d-af0c-f0e4ecc8878d",
   "metadata": {},
   "outputs": [
    {
     "name": "stdout",
     "output_type": "stream",
     "text": [
      "['apple', 'banana', 'orange', 'mango', 'grape']\n"
     ]
    }
   ],
   "source": [
    "# Example\n",
    "fruits = [\"apple\", \"banana\", \"orange\"] \n",
    "more_fruits = [\"mango\", \"grape\"] \n",
    "fruits.extend(more_fruits) \n",
    "print(fruits)"
   ]
  },
  {
   "cell_type": "markdown",
   "id": "4703c509-724c-4dfd-96cc-2c16e6cbc3a8",
   "metadata": {},
   "source": [
    "### Combining lists using concatenation"
   ]
  },
  {
   "cell_type": "code",
   "execution_count": 10,
   "id": "a5205add-f696-488d-979f-e82854e279bc",
   "metadata": {},
   "outputs": [
    {
     "data": {
      "text/plain": [
       "['apple', 'banana', 'orange', 'mango', 'grape']"
      ]
     },
     "execution_count": 10,
     "metadata": {},
     "output_type": "execute_result"
    }
   ],
   "source": [
    "# Example\n",
    "fruits = [\"apple\", \"banana\", \"orange\"] \n",
    "more_fruits = [\"mango\", \"grape\"]\n",
    "All_fruits = fruits + more_fruits\n",
    "All_fruits"
   ]
  },
  {
   "cell_type": "markdown",
   "id": "66ad4042-d415-45ba-833b-e493f6c84e3a",
   "metadata": {},
   "source": [
    "### Indexing\n",
    "Indexing in a list allows you to access individual elements by their position. In Python, indexing starts from 0 for the first element and goes up to `length_of_list - 1`."
   ]
  },
  {
   "cell_type": "code",
   "execution_count": 11,
   "id": "abe7825e-7662-4cc7-babb-e3c5b75803bd",
   "metadata": {},
   "outputs": [
    {
     "name": "stdout",
     "output_type": "stream",
     "text": [
      "10\n",
      "50\n"
     ]
    }
   ],
   "source": [
    "# Example\n",
    "my_list = [10, 20, 30, 40, 50] \n",
    "print(my_list[0])      # accessing the first element\n",
    "print(my_list[-1])     # accessing the last element using negative indexing"
   ]
  },
  {
   "cell_type": "markdown",
   "id": "135d7fcd-eb5b-4a31-a446-f49e82542c7b",
   "metadata": {},
   "source": [
    "### `insert()`\n",
    "The `insert()` method is used to insert an element.\n",
    "```Python\n",
    "# Syntax\n",
    "list_name.insert(index, element)\n",
    "```"
   ]
  },
  {
   "cell_type": "code",
   "execution_count": 12,
   "id": "1297680b-2a97-4092-a7a1-d93533f64b57",
   "metadata": {},
   "outputs": [
    {
     "name": "stdout",
     "output_type": "stream",
     "text": [
      "[1, 2, 6, 3, 4, 5]\n"
     ]
    }
   ],
   "source": [
    "# Example\n",
    "my_list = [1, 2, 3, 4, 5] \n",
    "my_list.insert(2, 6) \n",
    "print(my_list)"
   ]
  },
  {
   "cell_type": "markdown",
   "id": "e1b92c12-4485-4d38-a017-31ff4e38c389",
   "metadata": {},
   "source": [
    "### Modifying a list\n",
    "You can use indexing to modify or assign new values to specific elements in the list."
   ]
  },
  {
   "cell_type": "code",
   "execution_count": 13,
   "id": "a30f4c33-d767-4420-b7b9-3050edf7b9e9",
   "metadata": {},
   "outputs": [
    {
     "name": "stdout",
     "output_type": "stream",
     "text": [
      "[10, 25, 30, 40, 50]\n"
     ]
    }
   ],
   "source": [
    "# Example\n",
    "my_list = [10, 20, 30, 40, 50] \n",
    "my_list[1] = 25    # Modifying the second element \n",
    "print(my_list)"
   ]
  },
  {
   "cell_type": "markdown",
   "id": "e805207c-4626-46bf-92af-b0ce0f64167d",
   "metadata": {},
   "source": [
    "### `pop()`\n",
    "`pop()` method is another way to remove an element from a list in Python. It removes and returns the element at the specified index. If you don't provide an index to the `pop()` method, it will remove and return the last element of the list by default"
   ]
  },
  {
   "cell_type": "code",
   "execution_count": 14,
   "id": "020e15ce-d35d-43f0-bbc8-81748911d844",
   "metadata": {},
   "outputs": [
    {
     "name": "stdout",
     "output_type": "stream",
     "text": [
      "30\n",
      "[10, 20, 40, 50]\n"
     ]
    }
   ],
   "source": [
    "# Example 1\n",
    "my_list = [10, 20, 30, 40, 50] \n",
    "removed_element = my_list.pop(2)    # Removes and returns the element at index 2 \n",
    "print(removed_element) \n",
    "print(my_list)  "
   ]
  },
  {
   "cell_type": "code",
   "execution_count": 15,
   "id": "b6f1c202-f623-4544-99f5-7c1f6cc78526",
   "metadata": {},
   "outputs": [
    {
     "name": "stdout",
     "output_type": "stream",
     "text": [
      "50\n",
      "[10, 20, 30, 40]\n"
     ]
    }
   ],
   "source": [
    "# Example 2\n",
    "my_list = [10, 20, 30, 40, 50] \n",
    "removed_element = my_list.pop()     # Removes and returns the last element \n",
    "print(removed_element)\n",
    "print(my_list) "
   ]
  },
  {
   "cell_type": "markdown",
   "id": "be48e968-3ba6-40c1-87ce-990c2d10d01f",
   "metadata": {},
   "source": [
    "### `remove()`\n",
    "To remove an element from a list. The `remove()` method removes the first occurrence of the specified value."
   ]
  },
  {
   "cell_type": "code",
   "execution_count": 16,
   "id": "96a9d34d-9938-42eb-a534-f5b7f0ee7d97",
   "metadata": {},
   "outputs": [
    {
     "name": "stdout",
     "output_type": "stream",
     "text": [
      "[10, 20, 40, 50]\n"
     ]
    }
   ],
   "source": [
    "# Example\n",
    "my_list = [10, 20, 30, 40, 50] \n",
    "my_list.remove(30)                   # Removes the element 30 \n",
    "print(my_list)"
   ]
  },
  {
   "cell_type": "markdown",
   "id": "6eb1a747-6b52-4e95-b613-956a1ddda5c0",
   "metadata": {},
   "source": [
    "### `reverse()`\n",
    "The `reverse()` method is used to reverse the order of elements in a list"
   ]
  },
  {
   "cell_type": "code",
   "execution_count": 17,
   "id": "747c0dd0-4bad-4e2c-8b5d-d3d3cfc75625",
   "metadata": {},
   "outputs": [
    {
     "name": "stdout",
     "output_type": "stream",
     "text": [
      "[5, 4, 3, 2, 1]\n"
     ]
    }
   ],
   "source": [
    "# Example\n",
    "my_list = [1, 2, 3, 4, 5] \n",
    "my_list.reverse()\n",
    "print(my_list) "
   ]
  },
  {
   "cell_type": "markdown",
   "id": "b8d129c5-b72e-4f27-8945-5336f5b391bc",
   "metadata": {},
   "source": [
    "### Slicing\n",
    "You can use slicing to access a range of elements from a list.\n",
    "```Python\n",
    "# Syntax\n",
    "list_name[start:end:step] \n",
    "```"
   ]
  },
  {
   "cell_type": "code",
   "execution_count": 18,
   "id": "665fd219-db0c-4bdd-bc3c-78861e167e95",
   "metadata": {},
   "outputs": [
    {
     "name": "stdout",
     "output_type": "stream",
     "text": [
      "[2, 3, 4]\n",
      "[1, 2, 3]\n",
      "[3, 4, 5]\n",
      "[1, 3, 5]\n"
     ]
    }
   ],
   "source": [
    "# Example\n",
    "my_list = [1, 2, 3, 4, 5] \n",
    "print(my_list[1:4])        # elements from index 1 to 3\n",
    "print(my_list[:3])         # elements from the beginning up to index 2 \n",
    "print(my_list[2:])         # elements from index 2 to the end\n",
    "print(my_list[::2])        # every second element"
   ]
  },
  {
   "cell_type": "markdown",
   "id": "ca41ba21-6b63-499c-b5e4-1df09f2fdcc9",
   "metadata": {},
   "source": [
    "### `sort()`\n",
    "The `sort()` method is used to sort the elements of a list in ascending order. If you want to sort the list in descending order, you can pass the `reverse=True` argument to the `sort()` method."
   ]
  },
  {
   "cell_type": "code",
   "execution_count": 19,
   "id": "fb7bb512-7f58-4376-b65e-a0f8f4e4d238",
   "metadata": {},
   "outputs": [
    {
     "name": "stdout",
     "output_type": "stream",
     "text": [
      "[1, 2, 5, 8, 9]\n"
     ]
    }
   ],
   "source": [
    "# Example 1\n",
    "my_list = [5, 2, 8, 1, 9] \n",
    "my_list.sort() \n",
    "print(my_list) "
   ]
  },
  {
   "cell_type": "code",
   "execution_count": 20,
   "id": "7350726c-abae-4b06-812f-14d70bbc792c",
   "metadata": {},
   "outputs": [
    {
     "name": "stdout",
     "output_type": "stream",
     "text": [
      "[9, 8, 5, 2, 1]\n"
     ]
    }
   ],
   "source": [
    "# Example 2\n",
    "my_list = [5, 2, 8, 1, 9] \n",
    "my_list.sort(reverse=True) \n",
    "print(my_list) "
   ]
  },
  {
   "cell_type": "markdown",
   "id": "50ee1960-2543-4552-9ff1-f1526b2a9911",
   "metadata": {},
   "source": [
    "## Dictionary <a id = \"1\"></a>"
   ]
  },
  {
   "cell_type": "markdown",
   "id": "f481e681-664c-498a-b48a-5fa0fba3bdb3",
   "metadata": {},
   "source": [
    "### Creating a Dictionary\n",
    "A dictionary is a built-in data type that represents a collection of key-value pairs. Dictionaries are enclosed in curly braces {}."
   ]
  },
  {
   "cell_type": "code",
   "execution_count": 21,
   "id": "84cae45f-d46f-4645-9d9e-a605ba4e47f4",
   "metadata": {},
   "outputs": [
    {
     "data": {
      "text/plain": [
       "{'name': 'John', 'age': 30, 'city': 'New York'}"
      ]
     },
     "execution_count": 21,
     "metadata": {},
     "output_type": "execute_result"
    }
   ],
   "source": [
    "# Example\n",
    "dict_name = {}          #Creates an empty dictionary\n",
    "grades = {\"A\": \"Excellent\",  \"B\": \"Good\", \"C\": \"Pass\"}\n",
    "person = {\"name\": \"John\",  \"age\": 30, \"city\": \"New York\"}\n",
    "person"
   ]
  },
  {
   "cell_type": "markdown",
   "id": "4b9be667-1fdb-4988-88ba-92ef427c184c",
   "metadata": {},
   "source": [
    "### Accessing Values\n",
    "You can access the values in a dictionary using their corresponding `keys.\n",
    "```Python\n",
    "# Syntax\n",
    "Value = dict_name[\"key_name\"]\n",
    "```"
   ]
  },
  {
   "cell_type": "code",
   "execution_count": 22,
   "id": "553b1cf1-cc21-42ce-ba27-05e37bffdcac",
   "metadata": {},
   "outputs": [
    {
     "name": "stdout",
     "output_type": "stream",
     "text": [
      "John\n",
      "30\n"
     ]
    }
   ],
   "source": [
    "# Example\n",
    "name = person[\"name\"]\n",
    "print(name)\n",
    "age = person[\"age\"]\n",
    "print(age)"
   ]
  },
  {
   "cell_type": "markdown",
   "id": "968ff72f-b3aa-4475-8c8e-e340149b5210",
   "metadata": {},
   "source": [
    "### Add or modify\n",
    "Inserts a new key-value pair into the dictionary. If the key already exists, the value will be updated; otherwise, a new entry is created.\n",
    "```Python\n",
    "# Syntax\n",
    "dict_name[key] = value\n",
    "```"
   ]
  },
  {
   "cell_type": "code",
   "execution_count": 23,
   "id": "c3e9fca7-2a1e-405b-9520-cde83392da10",
   "metadata": {},
   "outputs": [
    {
     "data": {
      "text/plain": [
       "{'name': 'John', 'age': 30, 'city': 'Chicago', 'Country': 'USA'}"
      ]
     },
     "execution_count": 23,
     "metadata": {},
     "output_type": "execute_result"
    }
   ],
   "source": [
    "# Example\n",
    "person[\"Country\"] = \"USA\"   # A new entry will be created.\n",
    "person[\"city\"] = \"Chicago\"  # Update the existing value for the same key\n",
    "person"
   ]
  },
  {
   "cell_type": "markdown",
   "id": "76f0e9bc-1dfb-40cb-9ca7-01b9eef5219e",
   "metadata": {},
   "source": [
    "### `del`\n",
    "Removes the specified key-value pair from the dictionary. Raises a `KeyError` if the key does not exist.\n",
    "```Python\n",
    "# Syntax\n",
    "del dict_name[key]\n",
    "```"
   ]
  },
  {
   "cell_type": "code",
   "execution_count": 24,
   "id": "65e83d80-b711-4d74-8c2f-cf40c23c4d2a",
   "metadata": {},
   "outputs": [
    {
     "data": {
      "text/plain": [
       "{'name': 'John', 'age': 30, 'city': 'Chicago'}"
      ]
     },
     "execution_count": 24,
     "metadata": {},
     "output_type": "execute_result"
    }
   ],
   "source": [
    "# Example\n",
    "del person[\"Country\"]\n",
    "person"
   ]
  },
  {
   "cell_type": "markdown",
   "id": "acf44e16-d47e-4f62-8c99-711b4b05e407",
   "metadata": {},
   "source": [
    "### `update()`\n",
    "The `update()` method merges the provided dictionary into the existing dictionary, adding or updating key-value pairs.\n",
    "```Python\n",
    "# Syntax\n",
    "dict_name.update({key: value})\n",
    "```"
   ]
  },
  {
   "cell_type": "code",
   "execution_count": 25,
   "id": "75465a2d-24af-4c37-a5f6-3d36ca1453bb",
   "metadata": {},
   "outputs": [
    {
     "data": {
      "text/plain": [
       "{'name': 'John', 'age': 30, 'city': 'Chicago', 'Profession': 'Doctor'}"
      ]
     },
     "execution_count": 25,
     "metadata": {},
     "output_type": "execute_result"
    }
   ],
   "source": [
    "# Example\n",
    "person.update({\"Profession\": \"Doctor\"})\n",
    "person"
   ]
  },
  {
   "cell_type": "markdown",
   "id": "0c81a303-8ff4-4598-9dad-97d442b4941d",
   "metadata": {},
   "source": [
    "### `clear()`\n",
    "The `clear()` method empties the dictionary, removing all key-value pairs within it. After this operation, the dictionary is still accessible and can be used further.\n",
    "```Python\n",
    "# Syntax\n",
    "dict_name.clear()\n",
    "```"
   ]
  },
  {
   "cell_type": "code",
   "execution_count": 26,
   "id": "e7ba2b7d-3aaa-4adc-8991-1580fc5c1992",
   "metadata": {},
   "outputs": [
    {
     "data": {
      "text/plain": [
       "{}"
      ]
     },
     "execution_count": 26,
     "metadata": {},
     "output_type": "execute_result"
    }
   ],
   "source": [
    "# Example\n",
    "grades.clear()\n",
    "grades"
   ]
  },
  {
   "cell_type": "markdown",
   "id": "c18ce3d8-e492-4644-90b3-c24b1b04ba0c",
   "metadata": {},
   "source": [
    "### key existence\n",
    "You can check for the existence of a key in a dictionary using the `in` keyword."
   ]
  },
  {
   "cell_type": "code",
   "execution_count": 27,
   "id": "053ec5d1-a138-4075-8a37-394f9718e9f5",
   "metadata": {},
   "outputs": [
    {
     "name": "stdout",
     "output_type": "stream",
     "text": [
      "Name exists in the dictionary.\n"
     ]
    }
   ],
   "source": [
    "# Example\n",
    "if \"name\" in person:\n",
    "    print(\"Name exists in the dictionary.\")"
   ]
  },
  {
   "cell_type": "markdown",
   "id": "cba9ee46-4bd1-4035-ab02-5415476bc7d8",
   "metadata": {},
   "source": [
    "### `copy()`\n",
    "Creates a shallow copy of the dictionary. The new dictionary contains the same key-value pairs as the original, but they remain distinct objects in memory.\n",
    "```Python\n",
    "# Syntax\n",
    "new_dict = dict_name.copy()\n",
    "```"
   ]
  },
  {
   "cell_type": "code",
   "execution_count": 28,
   "id": "6eaca5b0-2571-43fb-a0ea-6a2ff56d2ada",
   "metadata": {},
   "outputs": [
    {
     "data": {
      "text/plain": [
       "{'name': 'John', 'age': 30, 'city': 'Chicago', 'Profession': 'Doctor'}"
      ]
     },
     "execution_count": 28,
     "metadata": {},
     "output_type": "execute_result"
    }
   ],
   "source": [
    "# Example\n",
    "new_person = person.copy()\n",
    "new_person = dict(person)    # another way to create a copy of dictionary\n",
    "new_person"
   ]
  },
  {
   "cell_type": "markdown",
   "id": "08f5a9ab-a61e-439f-b686-10fe586878e8",
   "metadata": {},
   "source": [
    "### `keys()`\n",
    "Retrieves all keys from the dictionary and converts them into a list. Useful for iterating or processing keys using list methods.\n",
    "```Python\n",
    "# Syntax\n",
    "keys_list = list(dict_name.keys())\n",
    "```"
   ]
  },
  {
   "cell_type": "code",
   "execution_count": 29,
   "id": "605e5657-f4aa-4b39-81c4-153682b1ad9a",
   "metadata": {},
   "outputs": [
    {
     "data": {
      "text/plain": [
       "['name', 'age', 'city', 'Profession']"
      ]
     },
     "execution_count": 29,
     "metadata": {},
     "output_type": "execute_result"
    }
   ],
   "source": [
    "# Example\n",
    "person_keys = list(person.keys())\n",
    "person_keys"
   ]
  },
  {
   "cell_type": "markdown",
   "id": "7d31b863-2dff-40a4-924d-aa178f49519d",
   "metadata": {},
   "source": [
    "### `values()`\n",
    "Extracts all values from the dictionary and converts them into a list. This list can be used for further processing or analysis.\n",
    "```Python\n",
    "# Syntax\n",
    "values_list = list(dict_name.values())\n",
    "```"
   ]
  },
  {
   "cell_type": "code",
   "execution_count": 30,
   "id": "e23ff375-fc77-46d9-bdfa-6a94a1f685ad",
   "metadata": {},
   "outputs": [
    {
     "data": {
      "text/plain": [
       "['John', 30, 'Chicago', 'Doctor']"
      ]
     },
     "execution_count": 30,
     "metadata": {},
     "output_type": "execute_result"
    }
   ],
   "source": [
    "# Example\n",
    "person_values = list(person.values())\n",
    "person_values"
   ]
  },
  {
   "cell_type": "markdown",
   "id": "bf97c795-89ed-4ddf-ab5c-5fe3ae75c096",
   "metadata": {},
   "source": [
    "### `items()`\n",
    "Retrieves all key-value pairs as tuples and converts them into a list of tuples. Each tuple consists of a key and its corresponding value.\n",
    "```Python\n",
    "# Syntax\n",
    "items_list = list(dict_name.items())\n",
    "```"
   ]
  },
  {
   "cell_type": "code",
   "execution_count": 31,
   "id": "ad6b0587-e0a1-4121-9f91-2102f787618f",
   "metadata": {},
   "outputs": [
    {
     "data": {
      "text/plain": [
       "[('name', 'John'), ('age', 30), ('city', 'Chicago'), ('Profession', 'Doctor')]"
      ]
     },
     "execution_count": 31,
     "metadata": {},
     "output_type": "execute_result"
    }
   ],
   "source": [
    "# Example\n",
    "info = list(person.items())\n",
    "info"
   ]
  },
  {
   "cell_type": "markdown",
   "id": "3c0562e3-b2c4-41bb-b46a-ada2d0d854d8",
   "metadata": {},
   "source": [
    "## Set <a id = \"2\"></a>"
   ]
  },
  {
   "cell_type": "markdown",
   "id": "de859c8e-d0db-4477-8d5c-ca0098b2601f",
   "metadata": {},
   "source": [
    "### Defining Sets\n",
    "A set is an unordered collection of unique elements. Sets are enclosed in curly braces `{}`. They are useful for storing distinct values and performing set operations."
   ]
  },
  {
   "cell_type": "code",
   "execution_count": 32,
   "id": "d46a5de1-0810-41d9-9473-3d379e9d4651",
   "metadata": {},
   "outputs": [],
   "source": [
    "# Example\n",
    "empty_set = set()                          #Creating an Empty \n",
    "fruits = {\"apple\", \"banana\", \"orange\"}\n",
    "foods = {\"egg\", \"apple\", \"banana\", \"orange\"}"
   ]
  },
  {
   "cell_type": "markdown",
   "id": "6cfe2a28-501a-4e0f-8755-bcdf9de9f635",
   "metadata": {},
   "source": [
    "### `add()`\n",
    "Elements can be added to a set using the `add()` method. Duplicates are automatically removed, as sets only store unique values.\n",
    "```Python\n",
    "# Syntax\n",
    "set_name.add(element) \n",
    "```"
   ]
  },
  {
   "cell_type": "code",
   "execution_count": 33,
   "id": "ba7ecb07-0148-4e79-a03f-639234d8a3f8",
   "metadata": {},
   "outputs": [
    {
     "data": {
      "text/plain": [
       "{'apple', 'banana', 'mango', 'orange'}"
      ]
     },
     "execution_count": 33,
     "metadata": {},
     "output_type": "execute_result"
    }
   ],
   "source": [
    "# Example\n",
    "fruits.add(\"mango\")\n",
    "fruits"
   ]
  },
  {
   "cell_type": "markdown",
   "id": "5036a1f0-3a99-4393-98d8-3c5c8d1b3f7e",
   "metadata": {},
   "source": [
    "### `copy()`\n",
    "The `copy()` method creates a shallow copy of the set. Any modifications to the copy won't affect the original set.\n",
    "```Python\n",
    "# Syntax\n",
    "new_set = set_name.copy() \n",
    "```"
   ]
  },
  {
   "cell_type": "code",
   "execution_count": 34,
   "id": "9a9c5d0e-5578-4be0-af20-96f27a355b5f",
   "metadata": {},
   "outputs": [
    {
     "data": {
      "text/plain": [
       "{'apple', 'banana', 'mango', 'orange'}"
      ]
     },
     "execution_count": 34,
     "metadata": {},
     "output_type": "execute_result"
    }
   ],
   "source": [
    "# Example\n",
    "new_fruits = fruits.copy()\n",
    "new_fruits"
   ]
  },
  {
   "cell_type": "markdown",
   "id": "425bc5bd-e95c-4467-bb49-c454bfab89ec",
   "metadata": {},
   "source": [
    "### `discard()`\n",
    "Use the `discard()` method to remove a specific element from the set. Ignores if the element is not found. The `discard()` method will not raise an error if the specified item does not exist.\n",
    "```Python\n",
    "# Syntax\n",
    "set_name.discard(element) \n",
    "```"
   ]
  },
  {
   "cell_type": "code",
   "execution_count": 35,
   "id": "5eb58aaa-8d44-4c1c-915e-3b4991610689",
   "metadata": {},
   "outputs": [
    {
     "data": {
      "text/plain": [
       "{'apple', 'banana', 'mango', 'orange'}"
      ]
     },
     "execution_count": 35,
     "metadata": {},
     "output_type": "execute_result"
    }
   ],
   "source": [
    "# Example\n",
    "fruits.discard(\"blueberry\")\n",
    "fruits"
   ]
  },
  {
   "cell_type": "markdown",
   "id": "0c59f9b0-f9fd-453d-8005-31dcbc455f95",
   "metadata": {},
   "source": [
    "### `remove()`\n",
    "Use the `remove()` method to remove a specific element from the set. Raises a `KeyError` if the element is not found.\n",
    "```Python\n",
    "# Syntax\n",
    "set_name.remove(element)\n",
    "```"
   ]
  },
  {
   "cell_type": "code",
   "execution_count": 36,
   "id": "8c24c0a6-7cfe-4e51-85af-805cc65d837c",
   "metadata": {},
   "outputs": [
    {
     "data": {
      "text/plain": [
       "{'apple', 'banana', 'orange'}"
      ]
     },
     "execution_count": 36,
     "metadata": {},
     "output_type": "execute_result"
    }
   ],
   "source": [
    "# Example\n",
    "fruits.remove(\"mango\")\n",
    "fruits"
   ]
  },
  {
   "cell_type": "markdown",
   "id": "30e3f88c-e080-46bc-b4ab-50be983b5ffa",
   "metadata": {},
   "source": [
    "### `issubset()`\n",
    "The `issubset()` method checks if the current set is a subset of another set. It returns True if all elements of the current set are present in the other set, otherwise False.\n",
    "```Python\n",
    "# Syntax\n",
    "issubset(set2)\n",
    "```"
   ]
  },
  {
   "cell_type": "code",
   "execution_count": 37,
   "id": "5c873089-d62d-4b5f-8517-0358370228d6",
   "metadata": {},
   "outputs": [
    {
     "data": {
      "text/plain": [
       "True"
      ]
     },
     "execution_count": 37,
     "metadata": {},
     "output_type": "execute_result"
    }
   ],
   "source": [
    "# Example\n",
    "fruits.issubset(foods)"
   ]
  },
  {
   "cell_type": "markdown",
   "id": "e63e216c-4084-4775-a667-b7a75ab22a5a",
   "metadata": {},
   "source": [
    "### `issuperset()`\n",
    "The `issuperset()` method checks if the current set is a superset of another set. It returns True if all elements of the other set are present in the current set, otherwise False.\n",
    "```Python\n",
    "# Syntax\n",
    "set1.issuperset(set2)\n",
    "```"
   ]
  },
  {
   "cell_type": "code",
   "execution_count": 38,
   "id": "42943789-f912-4a7e-ba66-c5d5eb5207e6",
   "metadata": {},
   "outputs": [
    {
     "data": {
      "text/plain": [
       "True"
      ]
     },
     "execution_count": 38,
     "metadata": {},
     "output_type": "execute_result"
    }
   ],
   "source": [
    "# Example\n",
    "foods.issuperset(fruits)"
   ]
  },
  {
   "cell_type": "markdown",
   "id": "5b360f40-c52d-436e-8059-28e7954075a0",
   "metadata": {},
   "source": [
    "### `pop()`\n",
    "The `pop()` method removes and returns an arbitrary element from the set. It raises a `KeyError` if the set is empty. Use this method to remove elements when the order doesn't matter.\n",
    "```Python\n",
    "# Syntax\n",
    "set_name.pop()\n",
    "```"
   ]
  },
  {
   "cell_type": "code",
   "execution_count": 39,
   "id": "7e697167-0b4b-45c3-b3d4-d1f0730c538f",
   "metadata": {},
   "outputs": [
    {
     "data": {
      "text/plain": [
       "'banana'"
      ]
     },
     "execution_count": 39,
     "metadata": {},
     "output_type": "execute_result"
    }
   ],
   "source": [
    "# Example\n",
    "fruits.pop()"
   ]
  },
  {
   "cell_type": "code",
   "execution_count": 40,
   "id": "39abf952-8588-44fc-b12a-021f88856826",
   "metadata": {},
   "outputs": [
    {
     "data": {
      "text/plain": [
       "{'apple', 'orange'}"
      ]
     },
     "execution_count": 40,
     "metadata": {},
     "output_type": "execute_result"
    }
   ],
   "source": [
    "fruits"
   ]
  },
  {
   "cell_type": "markdown",
   "id": "55b07b0d-b653-485b-b25f-8ab650888594",
   "metadata": {},
   "source": [
    "### `update()`\n",
    "The `update()` method adds elements from another iterable into the set. It maintains the uniqueness of elements.\n",
    "```Python\n",
    "# Syntax\n",
    "set_name.update(iterable) \n",
    "```"
   ]
  },
  {
   "cell_type": "code",
   "execution_count": 41,
   "id": "9bcc2f54-d272-4a15-8f2f-2c3b4ddfc065",
   "metadata": {},
   "outputs": [
    {
     "data": {
      "text/plain": [
       "{'apple', 'grape', 'kiwi', 'orange'}"
      ]
     },
     "execution_count": 41,
     "metadata": {},
     "output_type": "execute_result"
    }
   ],
   "source": [
    "# Example\n",
    "fruits.update([\"kiwi\", \"grape\"])\n",
    "fruits"
   ]
  },
  {
   "cell_type": "markdown",
   "id": "7755dd88-0fd5-4b39-b836-1228b1f3f8c0",
   "metadata": {},
   "source": [
    "### Set Operations\n",
    "Perform various operations on sets: `union`, `intersection`, `difference`, `symmetric difference`.\n",
    "```Python\n",
    "# Syntax\n",
    "union_set = set1.union(set2) \n",
    "intersection_set = set1.intersection(set2) \n",
    "difference_set = set1.difference(set2) \n",
    "sym_diff_set = set1.symmetric_difference(set2)\n",
    "```"
   ]
  },
  {
   "cell_type": "code",
   "execution_count": 42,
   "id": "a2c36b22-66a0-4f93-9af9-3c97c7fca441",
   "metadata": {},
   "outputs": [
    {
     "data": {
      "text/plain": [
       "{'apple', 'banana', 'egg', 'grape', 'kiwi', 'orange'}"
      ]
     },
     "execution_count": 42,
     "metadata": {},
     "output_type": "execute_result"
    }
   ],
   "source": [
    "# Example\n",
    "combined = fruits.union(foods)\n",
    "combined"
   ]
  },
  {
   "cell_type": "code",
   "execution_count": 43,
   "id": "cfbef7ad-570a-4bdf-8ab6-0c8c78a8ffff",
   "metadata": {},
   "outputs": [
    {
     "data": {
      "text/plain": [
       "{'apple', 'orange'}"
      ]
     },
     "execution_count": 43,
     "metadata": {},
     "output_type": "execute_result"
    }
   ],
   "source": [
    "# Example\n",
    "common = fruits.intersection(foods)\n",
    "common"
   ]
  },
  {
   "cell_type": "code",
   "execution_count": 44,
   "id": "67ce8b0f-500a-493c-beba-f71838ef44be",
   "metadata": {},
   "outputs": [
    {
     "data": {
      "text/plain": [
       "{'grape', 'kiwi'}"
      ]
     },
     "execution_count": 44,
     "metadata": {},
     "output_type": "execute_result"
    }
   ],
   "source": [
    "# Example\n",
    "unique_to_fruits = fruits.difference(foods) \n",
    "unique_to_fruits"
   ]
  },
  {
   "cell_type": "code",
   "execution_count": 45,
   "id": "55229d4f-2108-41a3-8cfc-7d7d6a1df0e6",
   "metadata": {},
   "outputs": [
    {
     "data": {
      "text/plain": [
       "{'banana', 'egg', 'grape', 'kiwi'}"
      ]
     },
     "execution_count": 45,
     "metadata": {},
     "output_type": "execute_result"
    }
   ],
   "source": [
    "# Example\n",
    "sym_diff = fruits.symmetric_difference(foods)\n",
    "sym_diff"
   ]
  },
  {
   "cell_type": "markdown",
   "id": "0f3ef91a-204f-41a0-ae3c-0e564f90c58b",
   "metadata": {},
   "source": [
    "### `clear()`\n",
    "The `clear()` method removes all elements from the set, resulting in an empty set. It updates the set in-place.\n",
    "```Python\n",
    "# Syntax\n",
    "set_name.clear()\n",
    "```"
   ]
  },
  {
   "cell_type": "code",
   "execution_count": 46,
   "id": "c19a0a8d-60d3-48be-a4e8-6bf628bac622",
   "metadata": {},
   "outputs": [
    {
     "data": {
      "text/plain": [
       "set()"
      ]
     },
     "execution_count": 46,
     "metadata": {},
     "output_type": "execute_result"
    }
   ],
   "source": [
    "# Example\n",
    "fruits.clear()\n",
    "fruits"
   ]
  }
 ],
 "metadata": {
  "kernelspec": {
   "display_name": "Python 3 (ipykernel)",
   "language": "python",
   "name": "python3"
  },
  "language_info": {
   "codemirror_mode": {
    "name": "ipython",
    "version": 3
   },
   "file_extension": ".py",
   "mimetype": "text/x-python",
   "name": "python",
   "nbconvert_exporter": "python",
   "pygments_lexer": "ipython3",
   "version": "3.11.5"
  }
 },
 "nbformat": 4,
 "nbformat_minor": 5
}
