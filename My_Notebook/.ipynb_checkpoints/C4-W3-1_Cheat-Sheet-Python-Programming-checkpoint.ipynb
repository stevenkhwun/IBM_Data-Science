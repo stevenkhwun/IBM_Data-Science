{
 "cells": [
  {
   "cell_type": "markdown",
   "id": "6fd3a69b-3795-43e1-81f8-4d6ef2927565",
   "metadata": {},
   "source": [
    "# Python Programming Fundamentals Cheat Sheet"
   ]
  },
  {
   "cell_type": "markdown",
   "id": "43ba55c7-d4f5-4538-aca0-ba5af86470d3",
   "metadata": {},
   "source": [
    "## `AND`\n",
    "Returns `True` if both statement1 and statement2 are `True`. Otherwise, returns `False`.\n",
    "```Python\n",
    "# Syntax\n",
    "statement1 and statement2\n",
    "```"
   ]
  },
  {
   "cell_type": "code",
   "execution_count": 1,
   "id": "e88a801a-22ac-45cc-bb5c-be9cd6ab0964",
   "metadata": {},
   "outputs": [
    {
     "name": "stdout",
     "output_type": "stream",
     "text": [
      "qualify for honors\n"
     ]
    }
   ],
   "source": [
    "# Example\n",
    "marks = 90\n",
    "attendance_percentage = 87\n",
    "\n",
    "if marks >= 80 and attendance_percentage >= 85:\n",
    "    print(\"qualify for honors\")\n",
    "else:\n",
    "    print(\"Not qualified for honors\")"
   ]
  },
  {
   "cell_type": "markdown",
   "id": "174ec9c2-4b9a-400d-9b24-4f5b5ae05e60",
   "metadata": {},
   "source": [
    "## Class Definition\n",
    "Defines a blueprint for creating objects and defining their attributes and behaviors.\n",
    "```Python\n",
    "# Syntax\n",
    "class ClassName: # Class attributes and methods\n",
    "```"
   ]
  },
  {
   "cell_type": "code",
   "execution_count": 5,
   "id": "61a3b0b8-7593-4863-9715-3c3f7b42466e",
   "metadata": {},
   "outputs": [
    {
     "name": "stdout",
     "output_type": "stream",
     "text": [
      "Steven\n",
      "25\n"
     ]
    }
   ],
   "source": [
    "# Example\n",
    "class Person: \n",
    "    def __init__(self, name, age): \n",
    "        self.name = name \n",
    "        self.age = age\n",
    "\n",
    "Person1 = Person('Steven', 25)\n",
    "print(Person1.name)\n",
    "print(Person1.age)"
   ]
  },
  {
   "cell_type": "markdown",
   "id": "c0abf287-7c5b-43e4-a7da-5876468fde75",
   "metadata": {},
   "source": [
    "## Define Function\n",
    "A `function` is a reusable block of code that performs a specific task or set of tasks when called.\n",
    "```Python\n",
    "# Syntax\n",
    "def function_name(parameters): # Function body\n",
    "```"
   ]
  },
  {
   "cell_type": "code",
   "execution_count": 4,
   "id": "0c9345f5-f3d3-43d6-81f0-bc4c44f1fd01",
   "metadata": {},
   "outputs": [
    {
     "name": "stdout",
     "output_type": "stream",
     "text": [
      "Hello, Steven\n"
     ]
    }
   ],
   "source": [
    "# Example\n",
    "def greet(name): print(\"Hello,\", name)\n",
    "\n",
    "greet('Steven')"
   ]
  },
  {
   "cell_type": "markdown",
   "id": "b4a6fe11-9884-45de-93f9-3fb7da7bf0dc",
   "metadata": {},
   "source": [
    "## Equal (`==`)\n",
    "Checks if two values are equal.\n",
    "```Python\n",
    "# Syntax\n",
    "variable1 == variable2 \n",
    "```"
   ]
  },
  {
   "cell_type": "code",
   "execution_count": 6,
   "id": "ece312ea-d34a-43ed-bbbf-54329b147561",
   "metadata": {},
   "outputs": [
    {
     "data": {
      "text/plain": [
       "True"
      ]
     },
     "execution_count": 6,
     "metadata": {},
     "output_type": "execute_result"
    }
   ],
   "source": [
    "# Example 1\n",
    "5 == 5 "
   ]
  },
  {
   "cell_type": "code",
   "execution_count": 8,
   "id": "0995e6bb-696c-4301-bb7e-965f2e4adcea",
   "metadata": {},
   "outputs": [
    {
     "data": {
      "text/plain": [
       "False"
      ]
     },
     "execution_count": 8,
     "metadata": {},
     "output_type": "execute_result"
    }
   ],
   "source": [
    "# Example 2\n",
    "age = 25\n",
    "age == 30 "
   ]
  },
  {
   "cell_type": "markdown",
   "id": "c9544727-2938-4447-a176-d12d71efda28",
   "metadata": {},
   "source": [
    "## For Loop\n",
    "A `for` loop repeatedly executes a block of code for a specified number of iterations or over a sequence of elements (list, range, string, etc.).\n",
    "```Python\n",
    "# Syntax\n",
    "for variable in sequence: # Code to repeat \n",
    "```"
   ]
  },
  {
   "cell_type": "code",
   "execution_count": 9,
   "id": "ba051a29-7657-4deb-bce6-4da025af657e",
   "metadata": {},
   "outputs": [
    {
     "name": "stdout",
     "output_type": "stream",
     "text": [
      "1\n",
      "2\n",
      "3\n",
      "4\n",
      "5\n",
      "6\n",
      "7\n",
      "8\n",
      "9\n"
     ]
    }
   ],
   "source": [
    "# Example 1\n",
    "for num in range(1, 10): \n",
    "    print(num) "
   ]
  },
  {
   "cell_type": "code",
   "execution_count": 10,
   "id": "fa145c03-4ea4-45b2-86f7-dc2864b3f132",
   "metadata": {},
   "outputs": [
    {
     "name": "stdout",
     "output_type": "stream",
     "text": [
      "apple\n",
      "banana\n",
      "orange\n",
      "grape\n",
      "kiwi\n"
     ]
    }
   ],
   "source": [
    "# Example 2\n",
    "fruits = [\"apple\", \"banana\", \"orange\", \"grape\", \"kiwi\"] \n",
    "for fruit in fruits:\n",
    "    print(fruit)"
   ]
  },
  {
   "cell_type": "markdown",
   "id": "0310c018-217f-40ff-ac31-408fc6f289c0",
   "metadata": {},
   "source": [
    "## Function Call\n",
    "A function call is the act of executing the code within the function using the provided arguments.\n",
    "```Python\n",
    "# Syntax\n",
    "function_name(arguments)\n",
    "```"
   ]
  },
  {
   "cell_type": "code",
   "execution_count": 11,
   "id": "cabc4c66-e8cf-4b21-9819-1d71cd9debd9",
   "metadata": {},
   "outputs": [
    {
     "name": "stdout",
     "output_type": "stream",
     "text": [
      "Hello, Alice\n"
     ]
    }
   ],
   "source": [
    "# Example\n",
    "greet(\"Alice\")"
   ]
  },
  {
   "cell_type": "markdown",
   "id": "66fd77d3-9a2d-4b90-9000-901722191953",
   "metadata": {},
   "source": [
    "## Greater Than or Equal To(`>=`)\n",
    "Checks if the value of variable1 is greater than or equal to variable2.\n",
    "```Python\n",
    "# Syntax\n",
    "variable1 >= variable2 \n",
    "```"
   ]
  },
  {
   "cell_type": "code",
   "execution_count": 12,
   "id": "649c4220-7c66-4e63-97fc-41e9ca291bf5",
   "metadata": {},
   "outputs": [
    {
     "data": {
      "text/plain": [
       "True"
      ]
     },
     "execution_count": 12,
     "metadata": {},
     "output_type": "execute_result"
    }
   ],
   "source": [
    "# Example 1\n",
    "5 >= 5 and 9 >= 5"
   ]
  },
  {
   "cell_type": "code",
   "execution_count": 13,
   "id": "55c0b650-2973-4da4-b100-a9617a666f4b",
   "metadata": {},
   "outputs": [
    {
     "data": {
      "text/plain": [
       "True"
      ]
     },
     "execution_count": 13,
     "metadata": {},
     "output_type": "execute_result"
    }
   ],
   "source": [
    "# Example 2\n",
    "quantity = 105 \n",
    "minimum = 100 \n",
    "quantity >= minimum "
   ]
  },
  {
   "cell_type": "markdown",
   "id": "c445eb31-8f84-4288-962d-e1c62f34d24b",
   "metadata": {},
   "source": [
    "## Greater Than(`>`)\n",
    "Checks if the value of variable1 is greater than variable2.\n",
    "```Python\n",
    "# Syntax\n",
    "variable1 > variable2 \n",
    "```"
   ]
  },
  {
   "cell_type": "code",
   "execution_count": 14,
   "id": "76ba2394-7866-4ad7-839b-49e52d52ee95",
   "metadata": {},
   "outputs": [
    {
     "data": {
      "text/plain": [
       "True"
      ]
     },
     "execution_count": 14,
     "metadata": {},
     "output_type": "execute_result"
    }
   ],
   "source": [
    "# Example 1\n",
    "9 > 6"
   ]
  },
  {
   "cell_type": "code",
   "execution_count": 15,
   "id": "a5205add-f696-488d-979f-e82854e279bc",
   "metadata": {},
   "outputs": [
    {
     "data": {
      "text/plain": [
       "False"
      ]
     },
     "execution_count": 15,
     "metadata": {},
     "output_type": "execute_result"
    }
   ],
   "source": [
    "# Example 2\n",
    "age = 20 \n",
    "max_age = 25 \n",
    "age > max_age"
   ]
  },
  {
   "cell_type": "markdown",
   "id": "66ad4042-d415-45ba-833b-e493f6c84e3a",
   "metadata": {},
   "source": [
    "## If Statement\n",
    "Executes code block `if` the condition is `True`.\n",
    "```Python\n",
    "# Syntax\n",
    "if condition: #code block for if statement \n",
    "```"
   ]
  },
  {
   "cell_type": "code",
   "execution_count": 17,
   "id": "abe7825e-7662-4cc7-babb-e3c5b75803bd",
   "metadata": {},
   "outputs": [
    {
     "name": "stdout",
     "output_type": "stream",
     "text": [
      "It's a hot day!\n"
     ]
    }
   ],
   "source": [
    "# Example\n",
    "temperature = 33\n",
    "\n",
    "if temperature > 30:\n",
    "    print(\"It's a hot day!\")"
   ]
  },
  {
   "cell_type": "markdown",
   "id": "135d7fcd-eb5b-4a31-a446-f49e82542c7b",
   "metadata": {},
   "source": [
    "## If-Elif-Else\n",
    "Executes the first code block if condition1 is `True`, otherwise checks condition2, and so on. If no condition is `True`, the else block is executed.\n",
    "```Python\n",
    "# Syntax\n",
    "if condition1:\n",
    "# Code if condition1 is True\n",
    "\n",
    "elif condition2:\n",
    "# Code if condition2 is True\n",
    "\n",
    "else:\n",
    "# Code if no condition is True\n",
    "```"
   ]
  },
  {
   "cell_type": "code",
   "execution_count": 18,
   "id": "1297680b-2a97-4092-a7a1-d93533f64b57",
   "metadata": {},
   "outputs": [
    {
     "name": "stdout",
     "output_type": "stream",
     "text": [
      "You got a B.\n"
     ]
    }
   ],
   "source": [
    "# Example\n",
    "score = 85             # Example score\n",
    "\n",
    "if score >= 90:\n",
    "    print(\"You got an A!\")\n",
    "elif score >= 80:\n",
    "    print(\"You got a B.\")\n",
    "else:\n",
    "    print(\"You need to work harder.\")"
   ]
  },
  {
   "cell_type": "markdown",
   "id": "e1b92c12-4485-4d38-a017-31ff4e38c389",
   "metadata": {},
   "source": [
    "## If-Else Statement\n",
    "Executes the first code block if the condition is `True`, otherwise the second block.\n",
    "```Python\n",
    "# Syntax\n",
    "if condition: # Code, if condition is True \n",
    "else:         # Code, if condition is False \n",
    "```"
   ]
  },
  {
   "cell_type": "code",
   "execution_count": 19,
   "id": "a30f4c33-d767-4420-b7b9-3050edf7b9e9",
   "metadata": {},
   "outputs": [
    {
     "name": "stdout",
     "output_type": "stream",
     "text": [
      "You're an adult.\n"
     ]
    }
   ],
   "source": [
    "# Example\n",
    "age = 25\n",
    "\n",
    "if age >= 18:\n",
    "    print(\"You're an adult.\")\n",
    "else:\n",
    "    print(\"You're not an adult yet.\")"
   ]
  },
  {
   "cell_type": "markdown",
   "id": "e805207c-4626-46bf-92af-b0ce0f64167d",
   "metadata": {},
   "source": [
    "## Less Than or Equal To(`<=`)\n",
    "Checks if the value of variable1 is less than or equal to variable2.\n",
    "```Python\n",
    "# Syntax\n",
    "variable1 <= variable2 \t\t\t \n",
    "```"
   ]
  },
  {
   "cell_type": "code",
   "execution_count": 20,
   "id": "020e15ce-d35d-43f0-bbc8-81748911d844",
   "metadata": {},
   "outputs": [
    {
     "data": {
      "text/plain": [
       "True"
      ]
     },
     "execution_count": 20,
     "metadata": {},
     "output_type": "execute_result"
    }
   ],
   "source": [
    "# Example 1\n",
    "5 <= 5 and 3 <= 5"
   ]
  },
  {
   "cell_type": "code",
   "execution_count": 21,
   "id": "b6f1c202-f623-4544-99f5-7c1f6cc78526",
   "metadata": {},
   "outputs": [
    {
     "data": {
      "text/plain": [
       "True"
      ]
     },
     "execution_count": 21,
     "metadata": {},
     "output_type": "execute_result"
    }
   ],
   "source": [
    "# Example 2\n",
    "size = 38 \n",
    "max_size = 40 \n",
    "size <= max_size "
   ]
  },
  {
   "cell_type": "markdown",
   "id": "be48e968-3ba6-40c1-87ce-990c2d10d01f",
   "metadata": {},
   "source": [
    "## Less Than(`<`)\n",
    "Checks if the value of variable1 is less than variable2.\n",
    "```Python\n",
    "# Syntax\n",
    "variable1 < variable2 \n",
    "```"
   ]
  },
  {
   "cell_type": "code",
   "execution_count": 24,
   "id": "96a9d34d-9938-42eb-a534-f5b7f0ee7d97",
   "metadata": {},
   "outputs": [
    {
     "data": {
      "text/plain": [
       "True"
      ]
     },
     "execution_count": 24,
     "metadata": {},
     "output_type": "execute_result"
    }
   ],
   "source": [
    "# Example 1\n",
    "4 < 6"
   ]
  },
  {
   "cell_type": "code",
   "execution_count": 25,
   "id": "e252154c-8c43-4e16-81d4-565e3a1953a0",
   "metadata": {},
   "outputs": [
    {
     "data": {
      "text/plain": [
       "True"
      ]
     },
     "execution_count": 25,
     "metadata": {},
     "output_type": "execute_result"
    }
   ],
   "source": [
    "# Example 2\n",
    "score = 60 \n",
    "passing_score = 65 \n",
    "score < passing_score "
   ]
  },
  {
   "cell_type": "markdown",
   "id": "4cdd0063-0369-4f26-9b15-5e5a6a18e6ab",
   "metadata": {},
   "source": [
    "## Loop Controls\n",
    "`break` exits the loop prematurely. `continue` skips the rest of the current iteration and moves to the next iteration.\n",
    "```Python\n",
    "# Syntax\n",
    "for: # Code to repeat \n",
    "    if # boolean statement\n",
    "        break \n",
    "\n",
    "for: # Code to repeat  \n",
    "    if # boolean statement\n",
    "        continue\n",
    "```"
   ]
  },
  {
   "cell_type": "code",
   "execution_count": 26,
   "id": "f0ce7e83-32c4-4629-b55c-ef6f9fc74395",
   "metadata": {},
   "outputs": [
    {
     "name": "stdout",
     "output_type": "stream",
     "text": [
      "1\n",
      "2\n"
     ]
    }
   ],
   "source": [
    "# Example 1\n",
    "for num in range(1, 6):\n",
    "    if num == 3:\n",
    "        break\n",
    "    print(num)"
   ]
  },
  {
   "cell_type": "code",
   "execution_count": 27,
   "id": "665fd219-db0c-4bdd-bc3c-78861e167e95",
   "metadata": {},
   "outputs": [
    {
     "name": "stdout",
     "output_type": "stream",
     "text": [
      "1\n",
      "2\n",
      "4\n",
      "5\n"
     ]
    }
   ],
   "source": [
    "# Example 2\n",
    "for num in range(1, 6):\n",
    "    if num == 3:\n",
    "        continue\n",
    "    print(num)"
   ]
  },
  {
   "cell_type": "markdown",
   "id": "ca41ba21-6b63-499c-b5e4-1df09f2fdcc9",
   "metadata": {},
   "source": [
    "## `NOT`\n",
    "Returns `True` if variable is `False`, and vice versa.\n",
    "```Python\n",
    "# Syntax\n",
    "not(variable)\n",
    "```"
   ]
  },
  {
   "cell_type": "code",
   "execution_count": 44,
   "id": "fb7bb512-7f58-4376-b65e-a0f8f4e4d238",
   "metadata": {},
   "outputs": [
    {
     "data": {
      "text/plain": [
       "False"
      ]
     },
     "execution_count": 44,
     "metadata": {},
     "output_type": "execute_result"
    }
   ],
   "source": [
    "# Example\n",
    "a = 1\n",
    "b = not(a)\n",
    "b"
   ]
  },
  {
   "cell_type": "markdown",
   "id": "0e539d62-4c9e-45a9-ac2a-beb3a92eb94d",
   "metadata": {},
   "source": [
    "## Not Equal(`!=`)\n",
    "Checks if two values are not equal.\n",
    "```Python\n",
    "# Syntax\n",
    "variable1 != variable2\n",
    "```"
   ]
  },
  {
   "cell_type": "code",
   "execution_count": 45,
   "id": "75edc547-358b-47da-a6eb-df51891488fc",
   "metadata": {},
   "outputs": [
    {
     "data": {
      "text/plain": [
       "True"
      ]
     },
     "execution_count": 45,
     "metadata": {},
     "output_type": "execute_result"
    }
   ],
   "source": [
    "# Example 1\n",
    "a = 10 \n",
    "b = 20 \n",
    "a != b "
   ]
  },
  {
   "cell_type": "code",
   "execution_count": 46,
   "id": "2f17c032-5a7b-4529-9b56-261f11a88393",
   "metadata": {},
   "outputs": [
    {
     "data": {
      "text/plain": [
       "False"
      ]
     },
     "execution_count": 46,
     "metadata": {},
     "output_type": "execute_result"
    }
   ],
   "source": [
    "# Example 2\n",
    "count = 0 \n",
    "count != 0 "
   ]
  },
  {
   "cell_type": "markdown",
   "id": "7de83dde-e13e-4e99-9781-aaef39bd29ab",
   "metadata": {},
   "source": [
    "## Object Creation\n",
    "Creates an instance of a class (object) using the class constructor.\n",
    "```Python\n",
    "# Syntax\n",
    "object_name = ClassName(arguments)\n",
    "```"
   ]
  },
  {
   "cell_type": "markdown",
   "id": "20c42bda-5fde-4a36-b7b3-9134a30927ca",
   "metadata": {},
   "source": [
    "## `OR`\n",
    "Returns `True` if either statement1 or statement2 (or both) are `True`. Otherwise, returns `False`.\n",
    "```Python\n",
    "# Syntax\n",
    "statement1 || statement2 \n",
    "```"
   ]
  },
  {
   "cell_type": "code",
   "execution_count": 52,
   "id": "553b1cf1-cc21-42ce-ba27-05e37bffdcac",
   "metadata": {},
   "outputs": [
    {
     "data": {
      "text/plain": [
       "True"
      ]
     },
     "execution_count": 52,
     "metadata": {},
     "output_type": "execute_result"
    }
   ],
   "source": [
    "# Example\n",
    "grade = 12\n",
    "grade == 11 or grade == 12 "
   ]
  },
  {
   "cell_type": "markdown",
   "id": "968ff72f-b3aa-4475-8c8e-e340149b5210",
   "metadata": {},
   "source": [
    "## `range()`\n",
    "Generates a sequence of numbers within a specified range.\n",
    "```Python\n",
    "# Syntax\n",
    "range(stop) \n",
    "range(start, stop) \n",
    "range(start, stop, step) \n",
    "```"
   ]
  },
  {
   "cell_type": "code",
   "execution_count": 53,
   "id": "c3e9fca7-2a1e-405b-9520-cde83392da10",
   "metadata": {},
   "outputs": [
    {
     "data": {
      "text/plain": [
       "range(1, 11, 2)"
      ]
     },
     "execution_count": 53,
     "metadata": {},
     "output_type": "execute_result"
    }
   ],
   "source": [
    "# Example\n",
    "range(5)         # generates a sequence of integers from 0 to 4. \n",
    "range(2, 10)     # generates a sequence of integers from 2 to 9. \n",
    "range(1, 11, 2)  # generates odd integers from 1 to 9."
   ]
  },
  {
   "cell_type": "markdown",
   "id": "76f0e9bc-1dfb-40cb-9ca7-01b9eef5219e",
   "metadata": {},
   "source": [
    "## Return Statement\n",
    "`Return` is a keyword used to send a value back from a function to its caller.\n",
    "```Python\n",
    "# Syntax\n",
    "return value\n",
    "```"
   ]
  },
  {
   "cell_type": "code",
   "execution_count": 55,
   "id": "65e83d80-b711-4d74-8c2f-cf40c23c4d2a",
   "metadata": {},
   "outputs": [
    {
     "data": {
      "text/plain": [
       "8"
      ]
     },
     "execution_count": 55,
     "metadata": {},
     "output_type": "execute_result"
    }
   ],
   "source": [
    "# Example\n",
    "def add(a, b): return a + b \n",
    "result = add(3, 5)\n",
    "result"
   ]
  },
  {
   "cell_type": "markdown",
   "id": "acf44e16-d47e-4f62-8c99-711b4b05e407",
   "metadata": {},
   "source": [
    "## Try-Except Block\n",
    "Tries to execute the code in the try block. If an exception of the specified type occurs, the code in the except block is executed.\n",
    "```Python\n",
    "# Syntax\n",
    "try:            # Code that might raise an exception except \n",
    "ExceptionType:  # Code to handle the exception \n",
    "```"
   ]
  },
  {
   "cell_type": "code",
   "execution_count": 56,
   "id": "75465a2d-24af-4c37-a5f6-3d36ca1453bb",
   "metadata": {},
   "outputs": [
    {
     "name": "stdin",
     "output_type": "stream",
     "text": [
      "Enter a number:  u\n"
     ]
    },
    {
     "name": "stdout",
     "output_type": "stream",
     "text": [
      "Invalid input. Please enter a valid number.\n"
     ]
    }
   ],
   "source": [
    "# Example\n",
    "try: \n",
    "    num = int(input(\"Enter a number: \")) \n",
    "except ValueError: \n",
    "    print(\"Invalid input. Please enter a valid number.\")"
   ]
  },
  {
   "cell_type": "markdown",
   "id": "0c81a303-8ff4-4598-9dad-97d442b4941d",
   "metadata": {},
   "source": [
    "## Try-Except with Else Block\n",
    "Code in the `else` block is executed if no exception occurs in the try block.\n",
    "```Python\n",
    "# Syntax\n",
    "try:                   # Code that might raise an exception except \n",
    "except:ExceptionType:  # Code to handle the exception \n",
    "else:                  # Code to execute if no exception occurs \n",
    "```"
   ]
  },
  {
   "cell_type": "code",
   "execution_count": 57,
   "id": "e7ba2b7d-3aaa-4adc-8991-1580fc5c1992",
   "metadata": {},
   "outputs": [
    {
     "name": "stdin",
     "output_type": "stream",
     "text": [
      "Enter a number:  689\n"
     ]
    },
    {
     "name": "stdout",
     "output_type": "stream",
     "text": [
      "You entered: 689\n"
     ]
    }
   ],
   "source": [
    "# Example\n",
    "try: \n",
    "    num = int(input(\"Enter a number: \")) \n",
    "except ValueError: \n",
    "    print(\"Invalid input. Please enter a valid number\") \n",
    "else: \n",
    "    print(\"You entered:\", num)"
   ]
  },
  {
   "cell_type": "markdown",
   "id": "c18ce3d8-e492-4644-90b3-c24b1b04ba0c",
   "metadata": {},
   "source": [
    "## Try-Except with Finally Block\n",
    "Code in the `finally` block always executes, regardless of whether an exception occurred.\n",
    "```Python\n",
    "# Syntax\n",
    "try:                   # Code that might raise an exception except \n",
    "except ExceptionType:  # Code to handle the exception \n",
    "finally:               # Code that always executes\n",
    "```"
   ]
  },
  {
   "cell_type": "code",
   "execution_count": 59,
   "id": "053ec5d1-a138-4075-8a37-394f9718e9f5",
   "metadata": {},
   "outputs": [
    {
     "name": "stdout",
     "output_type": "stream",
     "text": [
      "File not found.\n",
      "Exit Try-Except Block\n"
     ]
    }
   ],
   "source": [
    "# Example\n",
    "try: \n",
    "    file = open(\"data.txt\", \"r\") \n",
    "    data = file.read() \n",
    "except FileNotFoundError: \n",
    "    print(\"File not found.\") \n",
    "finally: \n",
    "    print(\"Exit Try-Except Block\")"
   ]
  },
  {
   "cell_type": "markdown",
   "id": "cba9ee46-4bd1-4035-ab02-5415476bc7d8",
   "metadata": {},
   "source": [
    "## While Loop\n",
    "A `while` loop repeatedly executes a block of code as long as a specified condition remains `True`.\n",
    "```Python\n",
    "# Syntax\n",
    "while condition: # Code to repeat\n",
    "```"
   ]
  },
  {
   "cell_type": "code",
   "execution_count": 62,
   "id": "6eaca5b0-2571-43fb-a0ea-6a2ff56d2ada",
   "metadata": {},
   "outputs": [
    {
     "name": "stdout",
     "output_type": "stream",
     "text": [
      "0\n",
      "1\n",
      "2\n",
      "3\n",
      "4\n"
     ]
    }
   ],
   "source": [
    "# Example\n",
    "count = 0\n",
    "while count < 5: \n",
    "    print(count)\n",
    "    count += 1"
   ]
  },
  {
   "cell_type": "markdown",
   "id": "a2b4da7a-2e6c-4b38-a116-188fcf2f6f84",
   "metadata": {},
   "source": [
    "## Python `enumerate()` function\n",
    "The Python `enumerate()` function simplify loops that need counters.\n",
    "Please refer to the [Real Python](https://realpython.com/python-enumerate/) website for more information."
   ]
  },
  {
   "cell_type": "markdown",
   "id": "60751ce1-95b8-48f3-a329-bd805b6a91f2",
   "metadata": {},
   "source": [
    "### Iterating With `for` Loops in Python"
   ]
  },
  {
   "cell_type": "code",
   "execution_count": 2,
   "id": "5ef2ecf0-20b4-4524-87dc-8c972a9d00a4",
   "metadata": {},
   "outputs": [
    {
     "name": "stdout",
     "output_type": "stream",
     "text": [
      "a\n",
      "b\n",
      "c\n"
     ]
    }
   ],
   "source": [
    "# Example 1\n",
    "values = ['a', 'b', 'c']\n",
    "\n",
    "for value in values:\n",
    "    print(value)"
   ]
  },
  {
   "cell_type": "code",
   "execution_count": 5,
   "id": "ed9a3058-e9d9-40f6-b34d-dc4fd2ce1675",
   "metadata": {},
   "outputs": [
    {
     "name": "stdout",
     "output_type": "stream",
     "text": [
      "0 a\n",
      "1 b\n",
      "2 c\n"
     ]
    }
   ],
   "source": [
    "# Example 2\n",
    "# If you want to print the index of the item in the list to the screen on every iteration\n",
    "index = 0\n",
    "for value in values:\n",
    "    print(index, value)\n",
    "    index += 1           # this statement is need to update the value of the index"
   ]
  },
  {
   "cell_type": "code",
   "execution_count": 6,
   "id": "f48e260b-581b-4c6f-bdb4-f480bfd5bb17",
   "metadata": {},
   "outputs": [
    {
     "name": "stdout",
     "output_type": "stream",
     "text": [
      "0 a\n",
      "1 b\n",
      "2 c\n"
     ]
    }
   ],
   "source": [
    "# Example 3\n",
    "# Repeat example 2 using range() combined with len()\n",
    "for index in range(len(values)):\n",
    "    value = values[index]\n",
    "    print(index, value)"
   ]
  },
  {
   "cell_type": "markdown",
   "id": "e7b3dc96-a9c0-433a-963d-aa0d5177c7f1",
   "metadata": {},
   "source": [
    "### Using Python's `enumerate()`\n",
    "`enumerate()` returns an iterator with index and element pairs from the original iterable."
   ]
  },
  {
   "cell_type": "code",
   "execution_count": 10,
   "id": "acf70bb2-977e-4a58-9d2f-c7835d25d29e",
   "metadata": {},
   "outputs": [
    {
     "name": "stdout",
     "output_type": "stream",
     "text": [
      "(0, 'a')\n",
      "(1, 'b')\n",
      "(2, 'c')\n"
     ]
    }
   ],
   "source": [
    "# Example 1\n",
    "for value in enumerate(values):\n",
    "    print(value)"
   ]
  },
  {
   "cell_type": "code",
   "execution_count": 11,
   "id": "6f870ad5-348a-44cc-9b0e-1de6d8e26628",
   "metadata": {},
   "outputs": [
    {
     "name": "stdout",
     "output_type": "stream",
     "text": [
      "0 a\n",
      "1 b\n",
      "2 c\n"
     ]
    }
   ],
   "source": [
    "# Example 2\n",
    "# Use enumerate() in a loop\n",
    "for count, value in enumerate(values):\n",
    "    print(count, value)"
   ]
  },
  {
   "cell_type": "markdown",
   "id": "d67f32aa-10fe-4478-92c9-13fa91594c63",
   "metadata": {},
   "source": [
    "Just like with a normal `for` loop, the loop variables can be named whatever you want them to be named. You use `count` and `value` in this example, but they could be named `i` and `v` or any other valid Python names."
   ]
  },
  {
   "cell_type": "code",
   "execution_count": 12,
   "id": "18dc2c05-3c28-4977-8948-47277258fc3e",
   "metadata": {},
   "outputs": [
    {
     "name": "stdout",
     "output_type": "stream",
     "text": [
      "1 a\n",
      "2 b\n",
      "3 c\n"
     ]
    }
   ],
   "source": [
    "# Example 3\n",
    "# Print the index beginning from 1 using the start argument\n",
    "for count, value in enumerate(values, start=1):\n",
    "    print(count, value)"
   ]
  }
 ],
 "metadata": {
  "kernelspec": {
   "display_name": "Python 3 (ipykernel)",
   "language": "python",
   "name": "python3"
  },
  "language_info": {
   "codemirror_mode": {
    "name": "ipython",
    "version": 3
   },
   "file_extension": ".py",
   "mimetype": "text/x-python",
   "name": "python",
   "nbconvert_exporter": "python",
   "pygments_lexer": "ipython3",
   "version": "3.11.5"
  }
 },
 "nbformat": 4,
 "nbformat_minor": 5
}
