{
 "cells": [
  {
   "cell_type": "markdown",
   "id": "151caba4-3760-4983-93f0-d8e0b9adc5d6",
   "metadata": {},
   "source": [
    "# Model 1 Cheat Sheet: Python Basics"
   ]
  },
  {
   "cell_type": "markdown",
   "id": "87461fc1-1053-46df-a478-b814f7939691",
   "metadata": {},
   "source": [
    "## Comments\n",
    "Comments are lines of text that are ignored by the Python interpreter when executing the code."
   ]
  },
  {
   "cell_type": "code",
   "execution_count": 2,
   "id": "e998b33e-afba-4191-b0da-08a16b98302b",
   "metadata": {},
   "outputs": [],
   "source": [
    "# This is a comment"
   ]
  },
  {
   "cell_type": "markdown",
   "id": "03381970-51d6-419c-b241-4094ead0055d",
   "metadata": {},
   "source": [
    "## Concatenation\n",
    "Combines (concatenates) strings."
   ]
  },
  {
   "cell_type": "code",
   "execution_count": 4,
   "id": "f753dc2b-64e0-4454-b27c-cfa6a1a418c3",
   "metadata": {},
   "outputs": [],
   "source": [
    "# Syntax:\n",
    "# concatenated_string = string1 + string2"
   ]
  },
  {
   "cell_type": "code",
   "execution_count": 7,
   "id": "d3f0063d-bff4-4b26-9a2f-7b090027e2dd",
   "metadata": {},
   "outputs": [
    {
     "data": {
      "text/plain": [
       "'Hello John'"
      ]
     },
     "execution_count": 7,
     "metadata": {},
     "output_type": "execute_result"
    }
   ],
   "source": [
    "# Example\n",
    "result = \"Hello\" + \" John\"\n",
    "result"
   ]
  },
  {
   "cell_type": "markdown",
   "id": "f569892e-bc98-4acc-85ce-09e06f5eb962",
   "metadata": {},
   "source": [
    "## Data Types\n",
    "- Integer - Float - Boolean - String"
   ]
  },
  {
   "cell_type": "code",
   "execution_count": 9,
   "id": "7d6fe417-fdbf-4354-a17e-586e2f0d4ac8",
   "metadata": {},
   "outputs": [],
   "source": [
    "# Example\n",
    "x=7               # Integer Value \n",
    "y=12.4            # Float Value \n",
    "is_valid = True   # Boolean Value \n",
    "is_valid = False  # Boolean Value \n",
    "F_Name = \"John\"   # String Value"
   ]
  },
  {
   "cell_type": "markdown",
   "id": "b4d8f1ea-bda8-48c0-b6a7-6fb700cf3997",
   "metadata": {},
   "source": [
    "## Indexing\n",
    "Accesses character at a specific index."
   ]
  },
  {
   "cell_type": "code",
   "execution_count": 11,
   "id": "4e1b0409-99dd-4d5f-b757-daac65758bbb",
   "metadata": {},
   "outputs": [
    {
     "data": {
      "text/plain": [
       "'H'"
      ]
     },
     "execution_count": 11,
     "metadata": {},
     "output_type": "execute_result"
    }
   ],
   "source": [
    "# Example\n",
    "my_string = \"Hello\" \n",
    "char = my_string[0]\n",
    "char"
   ]
  },
  {
   "cell_type": "markdown",
   "id": "b75c2918-43a3-46ac-92e9-049fa32d872a",
   "metadata": {},
   "source": [
    "## len()\n",
    "Returns the length of a string."
   ]
  },
  {
   "cell_type": "code",
   "execution_count": 12,
   "id": "34639f39-3b29-4970-8408-154222fad846",
   "metadata": {},
   "outputs": [
    {
     "data": {
      "text/plain": [
       "5"
      ]
     },
     "execution_count": 12,
     "metadata": {},
     "output_type": "execute_result"
    }
   ],
   "source": [
    "# Syntax:\n",
    "# len(string_name)\n",
    "\n",
    "# Example\n",
    "my_string = \"Hello\" \n",
    "length = len(my_string)\n",
    "length"
   ]
  },
  {
   "cell_type": "markdown",
   "id": "455b780c-5e86-46a4-bdbd-f0368e7be2fb",
   "metadata": {},
   "source": [
    "## lower()\n",
    "Converts string to lowercase."
   ]
  },
  {
   "cell_type": "code",
   "execution_count": 14,
   "id": "83f48c85-7923-4c95-921d-bc19c49fa67f",
   "metadata": {},
   "outputs": [
    {
     "data": {
      "text/plain": [
       "'hello'"
      ]
     },
     "execution_count": 14,
     "metadata": {},
     "output_type": "execute_result"
    }
   ],
   "source": [
    "# Example\n",
    "my_string = \"Hello\" \n",
    "lowercase_text = my_string.lower()\n",
    "lowercase_text"
   ]
  },
  {
   "cell_type": "markdown",
   "id": "f78ca422-d67e-48e3-bb4a-e65686bd02fd",
   "metadata": {},
   "source": [
    "## print()\n",
    "Prints the message or variable inside `()`."
   ]
  },
  {
   "cell_type": "code",
   "execution_count": 16,
   "id": "fbe17992-4c90-4759-931d-83fe0a4f5f4c",
   "metadata": {},
   "outputs": [
    {
     "name": "stdout",
     "output_type": "stream",
     "text": [
      "Hello, world\n",
      "3\n"
     ]
    }
   ],
   "source": [
    "# Example\n",
    "print(\"Hello, world\") \n",
    "\n",
    "a = 1\n",
    "b = 2\n",
    "print(a+b)"
   ]
  },
  {
   "cell_type": "markdown",
   "id": "393d837e-7fcf-4dc9-8fd1-9ec9de2ab669",
   "metadata": {},
   "source": [
    "## Python Operators\n",
    "- Addition (+): Adds two values together.\n",
    "- Subtraction (-): Subtracts one value from another.\n",
    "- Multiplication (*): Multiplies two values.\n",
    "- Division (/): Divides one value by another, returns a float.\n",
    "- Floor Division (//): Divides one value by another, returns the quotient as an integer.\n",
    "- Modulo (%): Returns the remainder after division."
   ]
  },
  {
   "cell_type": "code",
   "execution_count": 18,
   "id": "9487f528-22cc-4e7f-ad77-e21bc8c59e4c",
   "metadata": {},
   "outputs": [],
   "source": [
    "# Example\n",
    "x = 9\n",
    "y = 4 \n",
    "result_add= x + y     # Addition \n",
    "result_sub= x - y     # Subtraction \n",
    "result_mul= x * y     # Multiplication \n",
    "result_div= x / y     # Division \n",
    "result_fdiv= x // y   # Floor Division \n",
    "result_mod= x % y     # Modulo</td>"
   ]
  },
  {
   "cell_type": "markdown",
   "id": "57174ac2-c9a8-44df-b581-9a806ec5f7da",
   "metadata": {},
   "source": [
    "## replace()\n",
    "Replaces substrings."
   ]
  },
  {
   "cell_type": "code",
   "execution_count": 19,
   "id": "f14952a9-a96c-453f-9e3b-8bc7c874f745",
   "metadata": {},
   "outputs": [
    {
     "data": {
      "text/plain": [
       "'Hi'"
      ]
     },
     "execution_count": 19,
     "metadata": {},
     "output_type": "execute_result"
    }
   ],
   "source": [
    "# Example\n",
    "my_string = \"Hello\" \n",
    "new_text = my_string.replace(\"Hello\", \"Hi\")\n",
    "new_text"
   ]
  },
  {
   "cell_type": "markdown",
   "id": "4774edea-1576-4b15-a53c-ea1b64924029",
   "metadata": {},
   "source": [
    "## Slicing\n",
    "Extracts a portion of the string."
   ]
  },
  {
   "cell_type": "code",
   "execution_count": 20,
   "id": "956c3515-e8c2-44c5-8e70-dcc8a305e84d",
   "metadata": {},
   "outputs": [
    {
     "data": {
      "text/plain": [
       "'Hello'"
      ]
     },
     "execution_count": 20,
     "metadata": {},
     "output_type": "execute_result"
    }
   ],
   "source": [
    "# Syntax\n",
    "# substring = string_name[start:end]\n",
    "\n",
    "# Example\n",
    "my_string = \"Hello\"\n",
    "substring = my_string[0:5]\n",
    "substring"
   ]
  },
  {
   "cell_type": "markdown",
   "id": "fca30402-ffe8-46a2-8cd6-0b12b64bd3c0",
   "metadata": {},
   "source": [
    "## split()\n",
    "Splits string into a list based on a delimiter."
   ]
  },
  {
   "cell_type": "code",
   "execution_count": 25,
   "id": "0d21e7a6-7286-46d5-92f9-d4e066df96ff",
   "metadata": {},
   "outputs": [
    {
     "data": {
      "text/plain": [
       "['Hello', 'World']"
      ]
     },
     "execution_count": 25,
     "metadata": {},
     "output_type": "execute_result"
    }
   ],
   "source": [
    "# Example\n",
    "# Delimiter is a space\n",
    "my_string=\"Hello World\" \n",
    "split_text = my_string.split()\n",
    "split_text"
   ]
  },
  {
   "cell_type": "code",
   "execution_count": 26,
   "id": "99948ce5-cbf6-4ce7-b1b4-bb3dff60b66f",
   "metadata": {},
   "outputs": [
    {
     "data": {
      "text/plain": [
       "['Hi', ' how are you?']"
      ]
     },
     "execution_count": 26,
     "metadata": {},
     "output_type": "execute_result"
    }
   ],
   "source": [
    "# Delimiter is a comma\n",
    "my_string=\"Hi, how are you?\" \n",
    "split_text = my_string.split(\",\")\n",
    "split_text"
   ]
  },
  {
   "cell_type": "markdown",
   "id": "278d3583-66c3-49c5-af55-b153926f9e75",
   "metadata": {},
   "source": [
    "## strip()\n",
    "Removes leading/trailing whitespace."
   ]
  },
  {
   "cell_type": "code",
   "execution_count": 29,
   "id": "93d87264-4a66-4507-abbd-ccd67a0b0468",
   "metadata": {},
   "outputs": [
    {
     "data": {
      "text/plain": [
       "'Hello'"
      ]
     },
     "execution_count": 29,
     "metadata": {},
     "output_type": "execute_result"
    }
   ],
   "source": [
    "# Example\n",
    "my_string = \" Hello \" \n",
    "trimmed = my_string.strip()\n",
    "trimmed"
   ]
  },
  {
   "cell_type": "markdown",
   "id": "fa98b8e9-470a-464e-b4c5-8aa518e60d7b",
   "metadata": {},
   "source": [
    "## upper()\n",
    "Converts string to uppercase."
   ]
  },
  {
   "cell_type": "code",
   "execution_count": 30,
   "id": "7af34bc7-ac88-438d-9c81-a31f164cb581",
   "metadata": {},
   "outputs": [
    {
     "data": {
      "text/plain": [
       "'HELLO'"
      ]
     },
     "execution_count": 30,
     "metadata": {},
     "output_type": "execute_result"
    }
   ],
   "source": [
    "# Example\n",
    "my_string = \"Hello\" \n",
    "uppercase_text = my_string.upper()\n",
    "uppercase_text"
   ]
  },
  {
   "cell_type": "markdown",
   "id": "630c27a2-12a5-46f2-9f44-0ded2f70b00f",
   "metadata": {},
   "source": [
    "## Variable Assignment\n",
    "Assigns a value to a variable."
   ]
  },
  {
   "cell_type": "code",
   "execution_count": 31,
   "id": "370a4d73-08fe-416b-a77e-80a3082d3ceb",
   "metadata": {},
   "outputs": [],
   "source": [
    "# Syntax\n",
    "# variable_name = value\n",
    "\n",
    "# Example\n",
    "name = \"John\"  # assigning John to variable name \n",
    "x = 5          # assigning 5 to variable x"
   ]
  }
 ],
 "metadata": {
  "kernelspec": {
   "display_name": "Python 3 (ipykernel)",
   "language": "python",
   "name": "python3"
  },
  "language_info": {
   "codemirror_mode": {
    "name": "ipython",
    "version": 3
   },
   "file_extension": ".py",
   "mimetype": "text/x-python",
   "name": "python",
   "nbconvert_exporter": "python",
   "pygments_lexer": "ipython3",
   "version": "3.11.5"
  }
 },
 "nbformat": 4,
 "nbformat_minor": 5
}
