{
 "cells": [
  {
   "cell_type": "markdown",
   "id": "6fd3a69b-3795-43e1-81f8-4d6ef2927565",
   "metadata": {},
   "source": [
    "# Python Data Structures Cheat Sheet"
   ]
  },
  {
   "cell_type": "markdown",
   "id": "43ba55c7-d4f5-4538-aca0-ba5af86470d3",
   "metadata": {},
   "source": [
    "## List"
   ]
  },
  {
   "cell_type": "markdown",
   "id": "ef1e074c-affd-4aba-8304-29a41f74c09f",
   "metadata": {},
   "source": [
    "### `append()`\n",
    "\n",
    "The `append()` method is used to add an element to the end of a list."
   ]
  },
  {
   "cell_type": "code",
   "execution_count": 19,
   "id": "2370c9d0-929f-4178-a82c-bc71b633be29",
   "metadata": {},
   "outputs": [],
   "source": [
    "# Syntax\n",
    "# list_name.append(element)"
   ]
  },
  {
   "cell_type": "code",
   "execution_count": 20,
   "id": "1067fbde-050f-4566-a38d-7c3a9a6b87be",
   "metadata": {},
   "outputs": [
    {
     "name": "stdout",
     "output_type": "stream",
     "text": [
      "['apple', 'banana', 'orange', 'mango']\n"
     ]
    }
   ],
   "source": [
    "# Example\n",
    "fruits = [\"apple\", \"banana\", \"orange\"] \n",
    "fruits.append(\"mango\")\n",
    "print(fruits)"
   ]
  },
  {
   "cell_type": "markdown",
   "id": "0a9c9420-c9f1-46b5-8d2d-a833ccaf8f66",
   "metadata": {},
   "source": [
    "### `copy()`\n",
    "The `copy()` method is used to create a shallow copy of a list."
   ]
  },
  {
   "cell_type": "code",
   "execution_count": 2,
   "id": "2dcc2e49-ea44-49ba-8728-4ba4b0fbae7b",
   "metadata": {},
   "outputs": [
    {
     "name": "stdout",
     "output_type": "stream",
     "text": [
      "[1, 2, 3, 4, 5]\n"
     ]
    }
   ],
   "source": [
    "# Example\n",
    "my_list = [1, 2, 3, 4, 5] \n",
    "new_list = my_list.copy()\n",
    "print(new_list) "
   ]
  },
  {
   "cell_type": "markdown",
   "id": "64e3181b-29a6-421d-ace7-51eac48dff9a",
   "metadata": {},
   "source": [
    "### `count()`\n",
    "The `count()` method is used to count the number of occurrences of a specific element in a list in Python."
   ]
  },
  {
   "cell_type": "code",
   "execution_count": 3,
   "id": "2c2d6702-1076-42de-958a-5c0fce96e4b7",
   "metadata": {},
   "outputs": [
    {
     "name": "stdout",
     "output_type": "stream",
     "text": [
      "4\n"
     ]
    }
   ],
   "source": [
    "# Example\n",
    "my_list = [1, 2, 2, 3, 4, 2, 5, 2] \n",
    "count = my_list.count(2)\n",
    "print(count) "
   ]
  },
  {
   "cell_type": "markdown",
   "id": "bd43e48e-4e3d-46c5-b668-3fa45ff7fd1e",
   "metadata": {},
   "source": [
    "### Creating a list\n",
    "\n",
    "A list is a built-in data type that represents an ordered and mutable collection of elements. Lists are enclosed in square brackets [] and elements are separated by commas."
   ]
  },
  {
   "cell_type": "code",
   "execution_count": 4,
   "id": "fa145c03-4ea4-45b2-86f7-dc2864b3f132",
   "metadata": {},
   "outputs": [
    {
     "data": {
      "text/plain": [
       "['apple', 'banana', 'orange', 'mango']"
      ]
     },
     "execution_count": 4,
     "metadata": {},
     "output_type": "execute_result"
    }
   ],
   "source": [
    "# Example\n",
    "fruits = [\"apple\", \"banana\", \"orange\", \"mango\"]\n",
    "fruits"
   ]
  },
  {
   "cell_type": "markdown",
   "id": "66fd77d3-9a2d-4b90-9000-901722191953",
   "metadata": {},
   "source": [
    "### `del`\n",
    "The `del` statement is used to remove an element from list. `del` statement removes the element at the specified index."
   ]
  },
  {
   "cell_type": "code",
   "execution_count": 5,
   "id": "649c4220-7c66-4e63-97fc-41e9ca291bf5",
   "metadata": {},
   "outputs": [
    {
     "name": "stdout",
     "output_type": "stream",
     "text": [
      "[10, 20, 40, 50]\n"
     ]
    }
   ],
   "source": [
    "# Example\n",
    "my_list = [10, 20, 30, 40, 50] \n",
    "del my_list[2]    # Removes the element at index 2\n",
    "print(my_list)"
   ]
  },
  {
   "cell_type": "markdown",
   "id": "602ee96b-37ca-4c43-afe7-ae78265cf790",
   "metadata": {},
   "source": [
    "### `extend()`\n",
    "The `extend()` method is used to add multiple elements to a list. It takes an iterable (such as another list, tuple, or string) and appends each element of the iterable to the original list."
   ]
  },
  {
   "cell_type": "code",
   "execution_count": 21,
   "id": "ab3a8962-ef70-4e1b-b7dd-d4492c835d2e",
   "metadata": {},
   "outputs": [],
   "source": [
    "# Syntax\n",
    "# list_name.extend(iterable)"
   ]
  },
  {
   "cell_type": "code",
   "execution_count": 22,
   "id": "cba16d2c-a9d2-480d-af0c-f0e4ecc8878d",
   "metadata": {},
   "outputs": [
    {
     "name": "stdout",
     "output_type": "stream",
     "text": [
      "['apple', 'banana', 'orange', 'mango', 'grape']\n"
     ]
    }
   ],
   "source": [
    "# Example\n",
    "fruits = [\"apple\", \"banana\", \"orange\"] \n",
    "more_fruits = [\"mango\", \"grape\"] \n",
    "fruits.extend(more_fruits) \n",
    "print(fruits)"
   ]
  },
  {
   "cell_type": "markdown",
   "id": "66ad4042-d415-45ba-833b-e493f6c84e3a",
   "metadata": {},
   "source": [
    "### Indexing\n",
    "Indexing in a list allows you to access individual elements by their position. In Python, indexing starts from 0 for the first element and goes up to `length_of_list - 1`."
   ]
  },
  {
   "cell_type": "code",
   "execution_count": 23,
   "id": "abe7825e-7662-4cc7-babb-e3c5b75803bd",
   "metadata": {},
   "outputs": [
    {
     "name": "stdout",
     "output_type": "stream",
     "text": [
      "10\n",
      "50\n"
     ]
    }
   ],
   "source": [
    "# Example\n",
    "my_list = [10, 20, 30, 40, 50] \n",
    "print(my_list[0])      # accessing the first element\n",
    "print(my_list[-1])     # accessing the last element using negative indexing"
   ]
  },
  {
   "cell_type": "markdown",
   "id": "135d7fcd-eb5b-4a31-a446-f49e82542c7b",
   "metadata": {},
   "source": [
    "### `insert()`\n",
    "The `insert()` method is used to insert an element."
   ]
  },
  {
   "cell_type": "code",
   "execution_count": 24,
   "id": "dbb323ef-432a-4e45-9a90-90679e67a3f6",
   "metadata": {},
   "outputs": [],
   "source": [
    "# Syntax\n",
    "# list_name.insert(index, element)"
   ]
  },
  {
   "cell_type": "code",
   "execution_count": 25,
   "id": "1297680b-2a97-4092-a7a1-d93533f64b57",
   "metadata": {},
   "outputs": [
    {
     "name": "stdout",
     "output_type": "stream",
     "text": [
      "[1, 2, 6, 3, 4, 5]\n"
     ]
    }
   ],
   "source": [
    "# Example\n",
    "my_list = [1, 2, 3, 4, 5] \n",
    "my_list.insert(2, 6) \n",
    "print(my_list)"
   ]
  },
  {
   "cell_type": "markdown",
   "id": "e1b92c12-4485-4d38-a017-31ff4e38c389",
   "metadata": {},
   "source": [
    "### Modifying a list\n",
    "You can use indexing to modify or assign new values to specific elements in the list."
   ]
  },
  {
   "cell_type": "code",
   "execution_count": 12,
   "id": "a30f4c33-d767-4420-b7b9-3050edf7b9e9",
   "metadata": {},
   "outputs": [
    {
     "name": "stdout",
     "output_type": "stream",
     "text": [
      "[10, 25, 30, 40, 50]\n"
     ]
    }
   ],
   "source": [
    "# Example\n",
    "my_list = [10, 20, 30, 40, 50] \n",
    "my_list[1] = 25    # Modifying the second element \n",
    "print(my_list)"
   ]
  },
  {
   "cell_type": "markdown",
   "id": "e805207c-4626-46bf-92af-b0ce0f64167d",
   "metadata": {},
   "source": [
    "### `pop()`\n",
    "`pop()` method is another way to remove an element from a list in Python. It removes and returns the element at the specified index. If you don't provide an index to the `pop()` method, it will remove and return the last element of the list by default"
   ]
  },
  {
   "cell_type": "code",
   "execution_count": 13,
   "id": "020e15ce-d35d-43f0-bbc8-81748911d844",
   "metadata": {},
   "outputs": [
    {
     "name": "stdout",
     "output_type": "stream",
     "text": [
      "30\n",
      "[10, 20, 40, 50]\n"
     ]
    }
   ],
   "source": [
    "# Example 1\n",
    "my_list = [10, 20, 30, 40, 50] \n",
    "removed_element = my_list.pop(2)    # Removes and returns the element at index 2 \n",
    "print(removed_element) \n",
    "print(my_list)  "
   ]
  },
  {
   "cell_type": "code",
   "execution_count": 14,
   "id": "b6f1c202-f623-4544-99f5-7c1f6cc78526",
   "metadata": {},
   "outputs": [
    {
     "name": "stdout",
     "output_type": "stream",
     "text": [
      "50\n",
      "[10, 20, 30, 40]\n"
     ]
    }
   ],
   "source": [
    "# Example 2\n",
    "my_list = [10, 20, 30, 40, 50] \n",
    "removed_element = my_list.pop()     # Removes and returns the last element \n",
    "print(removed_element)\n",
    "print(my_list) "
   ]
  },
  {
   "cell_type": "markdown",
   "id": "be48e968-3ba6-40c1-87ce-990c2d10d01f",
   "metadata": {},
   "source": [
    "### `remove()`\n",
    "To remove an element from a list. The `remove()` method removes the first occurrence of the specified value."
   ]
  },
  {
   "cell_type": "code",
   "execution_count": 15,
   "id": "96a9d34d-9938-42eb-a534-f5b7f0ee7d97",
   "metadata": {},
   "outputs": [
    {
     "name": "stdout",
     "output_type": "stream",
     "text": [
      "[10, 20, 40, 50]\n"
     ]
    }
   ],
   "source": [
    "# Example\n",
    "my_list = [10, 20, 30, 40, 50] \n",
    "my_list.remove(30)                   # Removes the element 30 \n",
    "print(my_list)"
   ]
  },
  {
   "cell_type": "markdown",
   "id": "6eb1a747-6b52-4e95-b613-956a1ddda5c0",
   "metadata": {},
   "source": [
    "### `reverse()`\n",
    "The `reverse()` method is used to reverse the order of elements in a list"
   ]
  },
  {
   "cell_type": "code",
   "execution_count": 16,
   "id": "747c0dd0-4bad-4e2c-8b5d-d3d3cfc75625",
   "metadata": {},
   "outputs": [
    {
     "name": "stdout",
     "output_type": "stream",
     "text": [
      "[5, 4, 3, 2, 1]\n"
     ]
    }
   ],
   "source": [
    "# Example\n",
    "my_list = [1, 2, 3, 4, 5] \n",
    "my_list.reverse()\n",
    "print(my_list) "
   ]
  },
  {
   "cell_type": "markdown",
   "id": "b8d129c5-b72e-4f27-8945-5336f5b391bc",
   "metadata": {},
   "source": [
    "### Slicing\n",
    "You can use slicing to access a range of elements from a list."
   ]
  },
  {
   "cell_type": "code",
   "execution_count": 17,
   "id": "0084588c-b3e4-4669-9c2a-d87cffb9f7a8",
   "metadata": {},
   "outputs": [],
   "source": [
    "# Syntax\n",
    "# list_name[start:end:step] "
   ]
  },
  {
   "cell_type": "code",
   "execution_count": 18,
   "id": "665fd219-db0c-4bdd-bc3c-78861e167e95",
   "metadata": {},
   "outputs": [
    {
     "name": "stdout",
     "output_type": "stream",
     "text": [
      "[2, 3, 4]\n",
      "[1, 2, 3]\n",
      "[3, 4, 5]\n",
      "[1, 3, 5]\n"
     ]
    }
   ],
   "source": [
    "# Example\n",
    "my_list = [1, 2, 3, 4, 5] \n",
    "print(my_list[1:4])        # elements from index 1 to 3\n",
    "print(my_list[:3])         # elements from the beginning up to index 2 \n",
    "print(my_list[2:])         # elements from index 2 to the end\n",
    "print(my_list[::2])        # every second element"
   ]
  },
  {
   "cell_type": "markdown",
   "id": "ca41ba21-6b63-499c-b5e4-1df09f2fdcc9",
   "metadata": {},
   "source": [
    "### `sort()`\n",
    "The `sort()` method is used to sort the elements of a list in ascending order. If you want to sort the list in descending order, you can pass the `reverse=True` argument to the `sort()` method."
   ]
  },
  {
   "cell_type": "code",
   "execution_count": 26,
   "id": "fb7bb512-7f58-4376-b65e-a0f8f4e4d238",
   "metadata": {},
   "outputs": [
    {
     "name": "stdout",
     "output_type": "stream",
     "text": [
      "[1, 2, 5, 8, 9]\n"
     ]
    }
   ],
   "source": [
    "# Example 1\n",
    "my_list = [5, 2, 8, 1, 9] \n",
    "my_list.sort() \n",
    "print(my_list) "
   ]
  },
  {
   "cell_type": "code",
   "execution_count": 27,
   "id": "7350726c-abae-4b06-812f-14d70bbc792c",
   "metadata": {},
   "outputs": [
    {
     "name": "stdout",
     "output_type": "stream",
     "text": [
      "[9, 8, 5, 2, 1]\n"
     ]
    }
   ],
   "source": [
    "# Example 2\n",
    "my_list = [5, 2, 8, 1, 9] \n",
    "my_list.sort(reverse=True) \n",
    "print(my_list) "
   ]
  }
 ],
 "metadata": {
  "kernelspec": {
   "display_name": "Python 3 (ipykernel)",
   "language": "python",
   "name": "python3"
  },
  "language_info": {
   "codemirror_mode": {
    "name": "ipython",
    "version": 3
   },
   "file_extension": ".py",
   "mimetype": "text/x-python",
   "name": "python",
   "nbconvert_exporter": "python",
   "pygments_lexer": "ipython3",
   "version": "3.11.5"
  }
 },
 "nbformat": 4,
 "nbformat_minor": 5
}
