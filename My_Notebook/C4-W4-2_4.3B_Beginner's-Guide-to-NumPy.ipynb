{
 "cells": [
  {
   "cell_type": "markdown",
   "id": "b038ba2f-c5d4-4fe2-ae51-0bac3033b2eb",
   "metadata": {},
   "source": [
    "<font size=\"6\">Beginner's Guide to NumPy</font>"
   ]
  },
  {
   "cell_type": "markdown",
   "id": "b38b188e-4be3-4041-92f4-0049ce4ac0c1",
   "metadata": {},
   "source": [
    "# Objective:\n",
    "In this reading, you'll learn:\n",
    "* Basics of NumPy\n",
    "* How to create NumPy arrays\n",
    "* Array attributes and indexing\n",
    "* Basic operations like addition and multiplication"
   ]
  },
  {
   "cell_type": "markdown",
   "id": "dee63cbf-7d3d-4c26-b2c9-1b8c40e4c9e5",
   "metadata": {},
   "source": [
    "# What is NumPy?\n",
    "NumPy, short for **Num**erical **Py**thon, is a fundamental library for numerical and scientific computing in Python. It provides support for large, multi-dimensional arrays and matrices, along with a collection of high-level mathematical functions to operate on these arrays. NumPy serves as the foundation for many data science and machine learning libraries, making it an essential tool for data analysis and scientific research in Python."
   ]
  },
  {
   "cell_type": "markdown",
   "id": "0c73c6ae-91bf-491e-a7e2-9e29562885f0",
   "metadata": {},
   "source": [
    "## Key aspects of NumPy in Python:\n",
    "* **Efficient data structures**: NumPy introduces efficient array structures, which are faster and more memory-efficient than Python lists. This is crucial for handling large data sets.\n",
    "* **Multi-dimensional arrays**: NumPy allows you to work with multi-dimensional arrays, enabling the representation of matrices and tensors. This is particularly useful inscientific computing.\n",
    "* **Element-wise operations**: NumPy simplifies element-wise mathematical operations on arrays, making it easy to perform calculations on entire data sets in one go.\n",
    "* **Random number generation**: It provides a wide range of functions for generating random numbers and random data, which is useful for simulations and statistical analysis.\n",
    "* **Integration with other libraries**: NumPy seamlessly integrates with other data science libraries like SciPy, Pandas, and Matplotlib, enhancing its utility in various domains.\n",
    "* **Performance optimization**: NumPy functions are implemented in low-level languages like C and Fortran, which significantly boosts their performance. It's a go-to choicewhen speed is essential."
   ]
  },
  {
   "cell_type": "markdown",
   "id": "1fab5da6-fa70-4e59-849b-c7e052daf190",
   "metadata": {},
   "source": [
    "## Installation\n",
    "If you haven't already installed NumPy, you can do so using pip:\n",
    "```Python\n",
    "pip install numpy\n",
    "```"
   ]
  },
  {
   "cell_type": "markdown",
   "id": "777cfe34-faca-4d7f-a463-1d34a76ba725",
   "metadata": {},
   "source": [
    "# Creating NumPy arrays\n",
    "You can create NumPy arrays from Python lists. These arrays can be one-dimensional or multi-dimensional."
   ]
  },
  {
   "cell_type": "markdown",
   "id": "cd4f5031-9574-4488-a7f2-61f6d6c98bb2",
   "metadata": {},
   "source": [
    "## Creating 1D array"
   ]
  },
  {
   "cell_type": "code",
   "execution_count": 1,
   "id": "12c26124-a1f9-42ea-a808-c95b4b614977",
   "metadata": {},
   "outputs": [],
   "source": [
    "import numpy as np"
   ]
  },
  {
   "cell_type": "markdown",
   "id": "fc29d573-6717-424c-9ade-8f95c688bd2c",
   "metadata": {},
   "source": [
    "**import numpy as np**: In this line, the NumPy library is imported and assigned an alias `np` to make it easier to reference in the code."
   ]
  },
  {
   "cell_type": "code",
   "execution_count": 8,
   "id": "a2970f29-965b-4895-9a31-71728160912d",
   "metadata": {},
   "outputs": [
    {
     "data": {
      "text/plain": [
       "array([1, 2, 3, 4, 5])"
      ]
     },
     "execution_count": 8,
     "metadata": {},
     "output_type": "execute_result"
    }
   ],
   "source": [
    "# Creating a 1D array\n",
    "# **np.array()** is used to create NumPy arrays.\n",
    "arr_1d = np.array([1,2,3,4,5])\n",
    "arr_1d"
   ]
  },
  {
   "cell_type": "markdown",
   "id": "a0309d09-abaa-4119-8c01-e02d53edd964",
   "metadata": {},
   "source": [
    "**arr_1d = np.array([1, 2, 3, 4, 5])**: In this line, a one-dimensional NumPy array named `arr_1d` is created. It uses the `np.array()` function to convert a Python list `[1, 2, 3, 4, 5]` into aNumPy array. This array contains five elements, which are 1, 2, 3, 4, and 5. `arr_1d` is a 1D array because it has a single row of elements."
   ]
  },
  {
   "cell_type": "markdown",
   "id": "68e81699-1ab7-4a44-be2f-d4269f57442b",
   "metadata": {},
   "source": [
    "## Creating 2D array"
   ]
  },
  {
   "cell_type": "code",
   "execution_count": 9,
   "id": "5a54625c-c9b0-4027-9dc1-ccfe596c1b5a",
   "metadata": {},
   "outputs": [
    {
     "data": {
      "text/plain": [
       "array([[1, 2, 3],\n",
       "       [4, 5, 6],\n",
       "       [7, 8, 9]])"
      ]
     },
     "execution_count": 9,
     "metadata": {},
     "output_type": "execute_result"
    }
   ],
   "source": [
    "# Creating a 2D array\n",
    "arr_2d = np.array([[1, 2, 3], [4, 5, 6], [7, 8, 9]])\n",
    "arr_2d"
   ]
  },
  {
   "cell_type": "markdown",
   "id": "b6acee09-8add-4389-919c-d793eebce01f",
   "metadata": {},
   "source": [
    "**arr_2d = np.array([[1, 2, 3], [4, 5, 6], [7, 8, 9]])**: In this line, a two-dimensional NumPy array named `arr_2d` is created. It uses the `np.array()` function to convert a _list of lists_ into a 2D NumPy array. The outer list contains three inner lists, each of which represents a row of elements. So, `arr_2d` is a 2D array with three rows and three columns. The elements in this array form a matrix with values from 1 to 9, organized in a 3x3 grid."
   ]
  },
  {
   "cell_type": "markdown",
   "id": "00c56fb2-1299-4d67-ba08-b6c0a5ea9b8a",
   "metadata": {},
   "source": [
    "# Array attributes\n",
    "NumPy arrays have several useful attributes:"
   ]
  },
  {
   "cell_type": "code",
   "execution_count": 10,
   "id": "cddd04ac-4530-45cb-b127-8b430ea967dc",
   "metadata": {},
   "outputs": [
    {
     "name": "stdout",
     "output_type": "stream",
     "text": [
      "2\n",
      "(3, 3)\n",
      "9\n"
     ]
    }
   ],
   "source": [
    "# Array attributes\n",
    "print(arr_2d.ndim)   # ndim: Represents the number of dimensions or \"rank\" of the array.\n",
    "print(arr_2d.shape)  # shape: Returns a tuple indicating the number of rows and columns in the array\n",
    "print(arr_2d.size)   # size: Provides the total number of elements in the array"
   ]
  },
  {
   "cell_type": "markdown",
   "id": "ff12b71e-16fb-47c5-877e-4771df8fe94a",
   "metadata": {},
   "source": [
    "# Indexing and slicing\n",
    "You can access elements of a NumPy array using indexing and slicing:\n",
    "\n",
    "In this line, the third element (index 2) of the 1D array `arr_1d` is accessed."
   ]
  },
  {
   "cell_type": "code",
   "execution_count": 11,
   "id": "5ea43815-32a3-4789-9c1f-e91b374e242b",
   "metadata": {},
   "outputs": [
    {
     "name": "stdout",
     "output_type": "stream",
     "text": [
      "3\n"
     ]
    }
   ],
   "source": [
    "# Indexing and slicing\n",
    "print(arr_1d[2])           # Accessing an element (3rd element)"
   ]
  },
  {
   "cell_type": "markdown",
   "id": "2afe1a41-347b-4243-beaa-c09dd4409243",
   "metadata": {},
   "source": [
    "In this line, the element in the 2nd row (index 1) and 3rd column (index 2) of the 2D array `arr_2d` is accessed."
   ]
  },
  {
   "cell_type": "code",
   "execution_count": 12,
   "id": "6a85aa11-9d29-42fe-a439-272aefa65241",
   "metadata": {},
   "outputs": [
    {
     "name": "stdout",
     "output_type": "stream",
     "text": [
      "6\n"
     ]
    }
   ],
   "source": [
    "print(arr_2d[1, 2])        # Accessing an element (2nd row, 3rd column)"
   ]
  },
  {
   "cell_type": "markdown",
   "id": "89ec89a7-2836-4036-8eaa-6c92786b7ba9",
   "metadata": {},
   "source": [
    "In this line, the 2nd row (index 1) of the 2D array `arr_2d` is accessed."
   ]
  },
  {
   "cell_type": "code",
   "execution_count": 13,
   "id": "f1774850-b87e-4ceb-aa6e-3d6788bf7f0d",
   "metadata": {},
   "outputs": [
    {
     "name": "stdout",
     "output_type": "stream",
     "text": [
      "[4 5 6]\n"
     ]
    }
   ],
   "source": [
    "print(arr_2d[1])           # Accessing a row (2nd row)"
   ]
  },
  {
   "cell_type": "markdown",
   "id": "e21b828f-6fcd-45cb-8b1c-85eb94af8e52",
   "metadata": {},
   "source": [
    "In this line, the 2nd column (index 1) of the 2D array `arr_2d` is accessed."
   ]
  },
  {
   "cell_type": "code",
   "execution_count": 14,
   "id": "24eb057d-a95f-49fb-b04b-bbefc107114b",
   "metadata": {},
   "outputs": [
    {
     "name": "stdout",
     "output_type": "stream",
     "text": [
      "[2 5 8]\n"
     ]
    }
   ],
   "source": [
    "print(arr_2d[:, 1])        # Accessing a column (2nd column)"
   ]
  },
  {
   "cell_type": "markdown",
   "id": "d1c2f451-b7c6-4e56-849f-3f194cd57e19",
   "metadata": {},
   "source": [
    "# Basic operations\n",
    "NumPy simplifies basic operations on arrays:"
   ]
  },
  {
   "cell_type": "markdown",
   "id": "804a31c5-976f-4da0-930a-bed7f12f47bc",
   "metadata": {},
   "source": [
    "## Element-wise arithmetic operations:\n",
    "Addition, subtraction, multiplication, and division of arrays with scalars or other arrays.\n",
    "### Array addition"
   ]
  },
  {
   "cell_type": "code",
   "execution_count": 15,
   "id": "05805498-8022-49c3-a5e4-a2d5fe65a447",
   "metadata": {},
   "outputs": [
    {
     "name": "stdout",
     "output_type": "stream",
     "text": [
      "[5 7 9]\n"
     ]
    }
   ],
   "source": [
    "# Array addition\n",
    "array1 = np.array([1, 2, 3])\n",
    "array2 = np.array([4, 5, 6])\n",
    "result = array1 + array2\n",
    "print(result)"
   ]
  },
  {
   "cell_type": "markdown",
   "id": "353c6ff5-c895-4f6a-acf5-4ff2161cf8f0",
   "metadata": {},
   "source": [
    "### Scalar multiplication"
   ]
  },
  {
   "cell_type": "code",
   "execution_count": 16,
   "id": "d0270c57-39d7-4bce-ab63-afb46741cb4f",
   "metadata": {},
   "outputs": [
    {
     "name": "stdout",
     "output_type": "stream",
     "text": [
      "[2 4 6]\n"
     ]
    }
   ],
   "source": [
    "# Scalar multiplication\n",
    "result = array1 * 2        # each element of an array is multiplied by 2\n",
    "print(result)"
   ]
  },
  {
   "cell_type": "markdown",
   "id": "4f20f496-8f35-4ccd-845b-2b90bbd78468",
   "metadata": {},
   "source": [
    "### Element-wise multiplication (Hadamard Product)"
   ]
  },
  {
   "cell_type": "code",
   "execution_count": 17,
   "id": "f8066b89-c497-4f80-a0b6-fff108009e01",
   "metadata": {},
   "outputs": [
    {
     "name": "stdout",
     "output_type": "stream",
     "text": [
      "[ 4 10 18]\n"
     ]
    }
   ],
   "source": [
    "# Element-wise multiplication (Hadamard Product)\n",
    "result = array1 * array2\n",
    "print(result)"
   ]
  },
  {
   "cell_type": "markdown",
   "id": "28a40347-411c-4972-9d50-44799b12211c",
   "metadata": {},
   "source": [
    "## Matrix multiplication"
   ]
  },
  {
   "cell_type": "code",
   "execution_count": 19,
   "id": "4435e2e4-8e30-4a56-a904-6ba809544f7c",
   "metadata": {},
   "outputs": [
    {
     "name": "stdout",
     "output_type": "stream",
     "text": [
      "[[19 22]\n",
      " [43 50]]\n"
     ]
    }
   ],
   "source": [
    "# Matrix multiplication\n",
    "matrix1 = np.array([[1, 2], [3, 4]])\n",
    "matrix2 = np.array([[5, 6], [7, 8]])\n",
    "result = np.dot(matrix1, matrix2)\n",
    "print(result)"
   ]
  },
  {
   "cell_type": "markdown",
   "id": "c04caccc-f16b-486c-acf0-f87579716018",
   "metadata": {},
   "source": [
    "NumPy simplifies these operations, making it easier and more efficient than traditional Python lists."
   ]
  },
  {
   "cell_type": "markdown",
   "id": "e78d5868-7acb-4888-8186-8b594f32aa74",
   "metadata": {},
   "source": [
    "# Operation with NumPy\n",
    "Here's the list of operation which can be performed using Numpy"
   ]
  },
  {
   "cell_type": "markdown",
   "id": "aab4a621-e149-414c-962d-b61338f6c1eb",
   "metadata": {},
   "source": [
    "|Operation|Description|Example|\n",
    "|---------|-----------|-------|\n",
    "|Array Creation|Creating a NumPy array.|`arr = np.array([1, 2, 3, 4, 5])`|\n",
    "|Element-Wise Arithmetic|Element-wise addition, subtraction, and so on.|`result = arr1 + arr2`|\n",
    "|Scalar Arithmetic|Scalar addition, subtraction, and so on.|`result = arr * 2`|\n",
    "|Element-Wise Functions|Applying functions to each element.|`result = np.sqrt(arr)`|\n",
    "|Sum and Mean|Calculating the sum and mean of an array.|`total = np.sum(arr)`<br>`average = np.mean(arr)`|\n",
    "|Maximum and Minimum Values|Finding the maximum and minimum values.|`max_val = np.max(arr)`<br>`min_val = np.min(arr)`|\n",
    "|Reshaping|Changing the shape of an array.|`reshaped_arr = arr.reshape(2, 3)`|\n",
    "|Transposition|Transposing a multi-dimensional array.|`transposed_arr = arr.T`|\n",
    "|Matrix Multiplication|Performing matrix multiplication.|`result = np.dot(matrix1, matrix2)`|"
   ]
  },
  {
   "cell_type": "markdown",
   "id": "458771c6-2c26-40c8-a6b1-74bca9da7577",
   "metadata": {},
   "source": [
    "# Conclusion\n",
    "NumPy is a fundamental library for data science and numerical computations. This guide covers the basics of NumPy, and there's much more to explore. Visit [numpy.org](numpy.org) for moreinformation and examples."
   ]
  }
 ],
 "metadata": {
  "kernelspec": {
   "display_name": "Python 3 (ipykernel)",
   "language": "python",
   "name": "python3"
  },
  "language_info": {
   "codemirror_mode": {
    "name": "ipython",
    "version": 3
   },
   "file_extension": ".py",
   "mimetype": "text/x-python",
   "name": "python",
   "nbconvert_exporter": "python",
   "pygments_lexer": "ipython3",
   "version": "3.11.5"
  }
 },
 "nbformat": 4,
 "nbformat_minor": 5
}
