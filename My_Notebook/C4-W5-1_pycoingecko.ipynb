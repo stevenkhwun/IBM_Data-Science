{
 "cells": [
  {
   "cell_type": "markdown",
   "id": "11074af7-f7c8-4bd6-8b5f-7ff67fbbe9c2",
   "metadata": {},
   "source": [
    "<font size=\"6\">PyCoinGecko for CoinGecko API</font>"
   ]
  },
  {
   "cell_type": "markdown",
   "id": "46d5fbde-78d6-46f0-9b47-aefdfdce9cf3",
   "metadata": {},
   "source": [
    "Cryptocurrency data is excellent to be used in an API because it is constantly updated and it is vital to cryptocurrency trading. We will use the **PyCoinGecko Python client/wrapper** for the **CoinGecko API**, updated every minute by CoinGecko. We use the wrapper/client because it is easy to use so you can focus on the task of collecting data."
   ]
  },
  {
   "cell_type": "markdown",
   "id": "577df750-029e-4026-926d-7f4cc9be90a2",
   "metadata": {},
   "source": [
    "Using **PyCoinGecko** to collect data is simple. All we need is to install and import the library, then create a client object, and finally use a function to request our data."
   ]
  },
  {
   "cell_type": "markdown",
   "id": "1c3acd16-f1b7-40b7-a8c1-87ec3ca88e09",
   "metadata": {},
   "source": [
    "First, we need to install the **PyCoinGecko** library. Uncomment the following code block if the **PyCoinGecko** library has not been installed in the machine."
   ]
  },
  {
   "cell_type": "code",
   "execution_count": 1,
   "id": "0e1d0330-53c8-4d3f-988d-1dd4697db1f8",
   "metadata": {},
   "outputs": [],
   "source": [
    "# !pip install pycoingecko"
   ]
  },
  {
   "cell_type": "markdown",
   "id": "b97ee918-9d77-486f-a2fb-99bb60acf7e8",
   "metadata": {},
   "source": [
    "Then we need to import the library and create a client object."
   ]
  },
  {
   "cell_type": "code",
   "execution_count": 2,
   "id": "b26bbd05-58e3-4fa6-9cd9-229a5dabd57c",
   "metadata": {},
   "outputs": [],
   "source": [
    "# Import the library\n",
    "from pycoingecko import CoinGeckoAPI"
   ]
  },
  {
   "cell_type": "code",
   "execution_count": 3,
   "id": "862ca1d2-a7fc-46fc-bdc3-3ac4c402384c",
   "metadata": {},
   "outputs": [],
   "source": [
    "# Create the client object\n",
    "cg = CoinGeckoAPI()"
   ]
  },
  {
   "cell_type": "markdown",
   "id": "b128b69a-0949-40ce-82b5-0d7d3443ee1c",
   "metadata": {},
   "source": [
    "Finally, we use a function to request our data. In this function we are getting data on **bitcoin**, in **US dollars**, for the past **30** days. "
   ]
  },
  {
   "cell_type": "code",
   "execution_count": 4,
   "id": "64c9a0bc-34f1-4452-b95d-3350d61dcd11",
   "metadata": {},
   "outputs": [],
   "source": [
    "# Use the function to request the data\n",
    "bitcoin_data = cg.get_coin_market_chart_by_id(id = 'bitcoin', vs_currency = 'usd', days = 30)"
   ]
  },
  {
   "cell_type": "markdown",
   "id": "272da4f2-8344-4e7b-8833-71a640906996",
   "metadata": {},
   "source": [
    "In this case our response is a **JSON** expressed as a **Python dictionary** of nested lists including _price_, _market cap_, and _total volumes_, which contain the _UNIX timestamp_ and the price at that time."
   ]
  },
  {
   "cell_type": "markdown",
   "id": "802fb202-920e-4621-806c-193d666c19a0",
   "metadata": {},
   "source": [
    "For easy viewing, we convert the Python dictionary into a Pandas dataframe."
   ]
  },
  {
   "cell_type": "code",
   "execution_count": 5,
   "id": "2c11313c-e129-47e1-93a0-733cd29df8d3",
   "metadata": {},
   "outputs": [],
   "source": [
    "# Import pandas library\n",
    "import pandas as pd"
   ]
  },
  {
   "cell_type": "code",
   "execution_count": 6,
   "id": "b5714864-bbba-48ab-93d0-b5cc23503c0f",
   "metadata": {},
   "outputs": [],
   "source": [
    "df_bitcoin_data = pd.DataFrame(bitcoin_data)"
   ]
  },
  {
   "cell_type": "code",
   "execution_count": 7,
   "id": "5ec93122-714f-4f93-828d-daac9da47d24",
   "metadata": {},
   "outputs": [
    {
     "data": {
      "text/html": [
       "<div>\n",
       "<style scoped>\n",
       "    .dataframe tbody tr th:only-of-type {\n",
       "        vertical-align: middle;\n",
       "    }\n",
       "\n",
       "    .dataframe tbody tr th {\n",
       "        vertical-align: top;\n",
       "    }\n",
       "\n",
       "    .dataframe thead th {\n",
       "        text-align: right;\n",
       "    }\n",
       "</style>\n",
       "<table border=\"1\" class=\"dataframe\">\n",
       "  <thead>\n",
       "    <tr style=\"text-align: right;\">\n",
       "      <th></th>\n",
       "      <th>prices</th>\n",
       "      <th>market_caps</th>\n",
       "      <th>total_volumes</th>\n",
       "    </tr>\n",
       "  </thead>\n",
       "  <tbody>\n",
       "    <tr>\n",
       "      <th>0</th>\n",
       "      <td>[1713103323603, 64401.45951151034]</td>\n",
       "      <td>[1713103323603, 1269212999291.562]</td>\n",
       "      <td>[1713103323603, 55261028938.18758]</td>\n",
       "    </tr>\n",
       "    <tr>\n",
       "      <th>1</th>\n",
       "      <td>[1713107088558, 63930.55908964325]</td>\n",
       "      <td>[1713107088558, 1258315211129.235]</td>\n",
       "      <td>[1713107088558, 64169597339.13461]</td>\n",
       "    </tr>\n",
       "    <tr>\n",
       "      <th>2</th>\n",
       "      <td>[1713110732879, 64277.94752775814]</td>\n",
       "      <td>[1713110732879, 1263356789174.9841]</td>\n",
       "      <td>[1713110732879, 65420854027.21368]</td>\n",
       "    </tr>\n",
       "    <tr>\n",
       "      <th>3</th>\n",
       "      <td>[1713114372758, 64430.15700218899]</td>\n",
       "      <td>[1713114372758, 1268062847074.4421]</td>\n",
       "      <td>[1713114372758, 58084368832.26261]</td>\n",
       "    </tr>\n",
       "    <tr>\n",
       "      <th>4</th>\n",
       "      <td>[1713118013475, 63814.38392012541]</td>\n",
       "      <td>[1713118013475, 1257755945557.0251]</td>\n",
       "      <td>[1713118013475, 56197205777.09624]</td>\n",
       "    </tr>\n",
       "  </tbody>\n",
       "</table>\n",
       "</div>"
      ],
      "text/plain": [
       "                               prices                          market_caps  \\\n",
       "0  [1713103323603, 64401.45951151034]   [1713103323603, 1269212999291.562]   \n",
       "1  [1713107088558, 63930.55908964325]   [1713107088558, 1258315211129.235]   \n",
       "2  [1713110732879, 64277.94752775814]  [1713110732879, 1263356789174.9841]   \n",
       "3  [1713114372758, 64430.15700218899]  [1713114372758, 1268062847074.4421]   \n",
       "4  [1713118013475, 63814.38392012541]  [1713118013475, 1257755945557.0251]   \n",
       "\n",
       "                        total_volumes  \n",
       "0  [1713103323603, 55261028938.18758]  \n",
       "1  [1713107088558, 64169597339.13461]  \n",
       "2  [1713110732879, 65420854027.21368]  \n",
       "3  [1713114372758, 58084368832.26261]  \n",
       "4  [1713118013475, 56197205777.09624]  "
      ]
     },
     "execution_count": 7,
     "metadata": {},
     "output_type": "execute_result"
    }
   ],
   "source": [
    "df_bitcoin_data.head()"
   ]
  },
  {
   "cell_type": "markdown",
   "id": "8396ab9d-1320-4b3a-adb8-9ef5705fb213",
   "metadata": {},
   "source": [
    "We are only interested in price so that is what we will select using the key `price`. To make things simple, we can convert our nested list to a `DataFrame`, with the columns `timestamp` and `price`."
   ]
  },
  {
   "cell_type": "markdown",
   "id": "f8f5ff73-0ae7-4042-89d6-084fe31dcc05",
   "metadata": {},
   "source": [
    "The following codes select the `prices` column from the Python dictionary and make the column heading `TimeStamp` and `Price`."
   ]
  },
  {
   "cell_type": "code",
   "execution_count": 8,
   "id": "dbc2fb96-3701-4194-9f9c-8dc996528296",
   "metadata": {},
   "outputs": [
    {
     "data": {
      "text/html": [
       "<div>\n",
       "<style scoped>\n",
       "    .dataframe tbody tr th:only-of-type {\n",
       "        vertical-align: middle;\n",
       "    }\n",
       "\n",
       "    .dataframe tbody tr th {\n",
       "        vertical-align: top;\n",
       "    }\n",
       "\n",
       "    .dataframe thead th {\n",
       "        text-align: right;\n",
       "    }\n",
       "</style>\n",
       "<table border=\"1\" class=\"dataframe\">\n",
       "  <thead>\n",
       "    <tr style=\"text-align: right;\">\n",
       "      <th></th>\n",
       "      <th>TimeStamp</th>\n",
       "      <th>Price</th>\n",
       "    </tr>\n",
       "  </thead>\n",
       "  <tbody>\n",
       "    <tr>\n",
       "      <th>0</th>\n",
       "      <td>1713103323603</td>\n",
       "      <td>64401.459512</td>\n",
       "    </tr>\n",
       "    <tr>\n",
       "      <th>1</th>\n",
       "      <td>1713107088558</td>\n",
       "      <td>63930.559090</td>\n",
       "    </tr>\n",
       "    <tr>\n",
       "      <th>2</th>\n",
       "      <td>1713110732879</td>\n",
       "      <td>64277.947528</td>\n",
       "    </tr>\n",
       "    <tr>\n",
       "      <th>3</th>\n",
       "      <td>1713114372758</td>\n",
       "      <td>64430.157002</td>\n",
       "    </tr>\n",
       "    <tr>\n",
       "      <th>4</th>\n",
       "      <td>1713118013475</td>\n",
       "      <td>63814.383920</td>\n",
       "    </tr>\n",
       "  </tbody>\n",
       "</table>\n",
       "</div>"
      ],
      "text/plain": [
       "       TimeStamp         Price\n",
       "0  1713103323603  64401.459512\n",
       "1  1713107088558  63930.559090\n",
       "2  1713110732879  64277.947528\n",
       "3  1713114372758  64430.157002\n",
       "4  1713118013475  63814.383920"
      ]
     },
     "execution_count": 8,
     "metadata": {},
     "output_type": "execute_result"
    }
   ],
   "source": [
    "# Extracting the prices column from the Python dictionary\n",
    "data = pd.DataFrame(bitcoin_data['prices'], columns=['TimeStamp', 'Price'])\n",
    "data.head()"
   ]
  },
  {
   "cell_type": "markdown",
   "id": "bd55695a-d914-4aa5-8f2b-fe46973868dd",
   "metadata": {},
   "source": [
    "It's difficult to understand the column `timestamp`. We will convert it to a more readable format using the pandas function `to_datetime()`. Using the `to_datetime()` function, we create readable time data, the input is the `timestamp` column, unit of time is set to milliseconds. We append the output to the new column, `date`. "
   ]
  },
  {
   "cell_type": "code",
   "execution_count": 9,
   "id": "13050fd9-52b5-48bb-a547-ab998919028a",
   "metadata": {},
   "outputs": [
    {
     "data": {
      "text/html": [
       "<div>\n",
       "<style scoped>\n",
       "    .dataframe tbody tr th:only-of-type {\n",
       "        vertical-align: middle;\n",
       "    }\n",
       "\n",
       "    .dataframe tbody tr th {\n",
       "        vertical-align: top;\n",
       "    }\n",
       "\n",
       "    .dataframe thead th {\n",
       "        text-align: right;\n",
       "    }\n",
       "</style>\n",
       "<table border=\"1\" class=\"dataframe\">\n",
       "  <thead>\n",
       "    <tr style=\"text-align: right;\">\n",
       "      <th></th>\n",
       "      <th>TimeStamp</th>\n",
       "      <th>Price</th>\n",
       "      <th>Date</th>\n",
       "    </tr>\n",
       "  </thead>\n",
       "  <tbody>\n",
       "    <tr>\n",
       "      <th>0</th>\n",
       "      <td>1713103323603</td>\n",
       "      <td>64401.459512</td>\n",
       "      <td>2024-04-14 14:02:03.603</td>\n",
       "    </tr>\n",
       "    <tr>\n",
       "      <th>1</th>\n",
       "      <td>1713107088558</td>\n",
       "      <td>63930.559090</td>\n",
       "      <td>2024-04-14 15:04:48.558</td>\n",
       "    </tr>\n",
       "    <tr>\n",
       "      <th>2</th>\n",
       "      <td>1713110732879</td>\n",
       "      <td>64277.947528</td>\n",
       "      <td>2024-04-14 16:05:32.879</td>\n",
       "    </tr>\n",
       "    <tr>\n",
       "      <th>3</th>\n",
       "      <td>1713114372758</td>\n",
       "      <td>64430.157002</td>\n",
       "      <td>2024-04-14 17:06:12.758</td>\n",
       "    </tr>\n",
       "    <tr>\n",
       "      <th>4</th>\n",
       "      <td>1713118013475</td>\n",
       "      <td>63814.383920</td>\n",
       "      <td>2024-04-14 18:06:53.475</td>\n",
       "    </tr>\n",
       "  </tbody>\n",
       "</table>\n",
       "</div>"
      ],
      "text/plain": [
       "       TimeStamp         Price                    Date\n",
       "0  1713103323603  64401.459512 2024-04-14 14:02:03.603\n",
       "1  1713107088558  63930.559090 2024-04-14 15:04:48.558\n",
       "2  1713110732879  64277.947528 2024-04-14 16:05:32.879\n",
       "3  1713114372758  64430.157002 2024-04-14 17:06:12.758\n",
       "4  1713118013475  63814.383920 2024-04-14 18:06:53.475"
      ]
     },
     "execution_count": 9,
     "metadata": {},
     "output_type": "execute_result"
    }
   ],
   "source": [
    "# Convert the timestamp to a readable format\n",
    "data['Date'] = pd.to_datetime(data['TimeStamp'], unit = 'ms')\n",
    "data.head()"
   ]
  },
  {
   "cell_type": "markdown",
   "id": "a7b4411c-c053-4c17-bbf5-a1f6c84e951f",
   "metadata": {},
   "source": [
    "Now we want to create a candlestick plot. To get the data for the daily candlesticks we will group by the date to find the minimum, maximum, first, and last price of each day."
   ]
  },
  {
   "cell_type": "code",
   "execution_count": 10,
   "id": "d5c3466e-dbce-4cb2-86a6-8b33b0794042",
   "metadata": {},
   "outputs": [
    {
     "data": {
      "text/html": [
       "<div>\n",
       "<style scoped>\n",
       "    .dataframe tbody tr th:only-of-type {\n",
       "        vertical-align: middle;\n",
       "    }\n",
       "\n",
       "    .dataframe tbody tr th {\n",
       "        vertical-align: top;\n",
       "    }\n",
       "\n",
       "    .dataframe thead tr th {\n",
       "        text-align: left;\n",
       "    }\n",
       "\n",
       "    .dataframe thead tr:last-of-type th {\n",
       "        text-align: right;\n",
       "    }\n",
       "</style>\n",
       "<table border=\"1\" class=\"dataframe\">\n",
       "  <thead>\n",
       "    <tr>\n",
       "      <th></th>\n",
       "      <th colspan=\"4\" halign=\"left\">Price</th>\n",
       "    </tr>\n",
       "    <tr>\n",
       "      <th></th>\n",
       "      <th>min</th>\n",
       "      <th>max</th>\n",
       "      <th>first</th>\n",
       "      <th>last</th>\n",
       "    </tr>\n",
       "    <tr>\n",
       "      <th>Date</th>\n",
       "      <th></th>\n",
       "      <th></th>\n",
       "      <th></th>\n",
       "      <th></th>\n",
       "    </tr>\n",
       "  </thead>\n",
       "  <tbody>\n",
       "    <tr>\n",
       "      <th>2024-04-14</th>\n",
       "      <td>63687.023775</td>\n",
       "      <td>65379.668635</td>\n",
       "      <td>64401.459512</td>\n",
       "      <td>65379.668635</td>\n",
       "    </tr>\n",
       "    <tr>\n",
       "      <th>2024-04-15</th>\n",
       "      <td>63190.368481</td>\n",
       "      <td>66650.479411</td>\n",
       "      <td>65680.451764</td>\n",
       "      <td>63415.485289</td>\n",
       "    </tr>\n",
       "    <tr>\n",
       "      <th>2024-04-16</th>\n",
       "      <td>61922.025495</td>\n",
       "      <td>63937.600851</td>\n",
       "      <td>63409.243114</td>\n",
       "      <td>63812.814757</td>\n",
       "    </tr>\n",
       "    <tr>\n",
       "      <th>2024-04-17</th>\n",
       "      <td>60181.669230</td>\n",
       "      <td>64238.956490</td>\n",
       "      <td>63813.800580</td>\n",
       "      <td>61657.579437</td>\n",
       "    </tr>\n",
       "    <tr>\n",
       "      <th>2024-04-18</th>\n",
       "      <td>61048.751769</td>\n",
       "      <td>63702.626304</td>\n",
       "      <td>61271.934846</td>\n",
       "      <td>63524.558683</td>\n",
       "    </tr>\n",
       "  </tbody>\n",
       "</table>\n",
       "</div>"
      ],
      "text/plain": [
       "                   Price                                          \n",
       "                     min           max         first          last\n",
       "Date                                                              \n",
       "2024-04-14  63687.023775  65379.668635  64401.459512  65379.668635\n",
       "2024-04-15  63190.368481  66650.479411  65680.451764  63415.485289\n",
       "2024-04-16  61922.025495  63937.600851  63409.243114  63812.814757\n",
       "2024-04-17  60181.669230  64238.956490  63813.800580  61657.579437\n",
       "2024-04-18  61048.751769  63702.626304  61271.934846  63524.558683"
      ]
     },
     "execution_count": 10,
     "metadata": {},
     "output_type": "execute_result"
    }
   ],
   "source": [
    "# Get the candlestick plot data\n",
    "candlestick_data = data.groupby(data.Date.dt.date).agg({'Price': ['min', 'max', 'first', 'last']})\n",
    "candlestick_data.head()"
   ]
  },
  {
   "cell_type": "markdown",
   "id": "26a60789-55d0-41c8-8012-d9aff22981b2",
   "metadata": {},
   "source": [
    "Finally we will use `plotly` to create the candlestick chart and plot it."
   ]
  },
  {
   "cell_type": "markdown",
   "id": "b839edca-e142-4ba0-9e5f-49776f9124e4",
   "metadata": {},
   "source": [
    "We need to install the `plotly` library before we can use it. Uncomment the following code block if `plotly` has not been installed in the machine. You can obtain more information from [Getting Started with Plotly in Python](https://plotly.com/python/getting-started/)."
   ]
  },
  {
   "cell_type": "code",
   "execution_count": 11,
   "id": "6c0cbe14-4248-4891-823b-2facef4b365c",
   "metadata": {},
   "outputs": [],
   "source": [
    "# !pip install plotly"
   ]
  },
  {
   "cell_type": "code",
   "execution_count": 22,
   "id": "803600a7-0039-4b0e-a388-9bc36ed991be",
   "metadata": {},
   "outputs": [],
   "source": [
    "# Import the library to create the plot\n",
    "import plotly.graph_objects as go"
   ]
  },
  {
   "cell_type": "code",
   "execution_count": 23,
   "id": "fab2a616-038c-4094-87f5-1f38fa3ec843",
   "metadata": {},
   "outputs": [],
   "source": [
    "# Import the library to create a html file of the plot\n",
    "import plotly.offline"
   ]
  },
  {
   "cell_type": "code",
   "execution_count": 26,
   "id": "299843d6-7e06-4218-b83e-d1cedfce1d0d",
   "metadata": {},
   "outputs": [
    {
     "data": {
      "application/vnd.plotly.v1+json": {
       "config": {
        "plotlyServerURL": "https://plot.ly"
       },
       "data": [
        {
         "close": [
          65379.668634786976,
          63415.485289374374,
          63812.81475679645,
          61657.57943716404,
          63524.558683375275,
          64112.51345083991,
          64622.874309758576,
          65037.483119496384,
          67067.07426890385,
          66378.52010527095,
          64079.72006562455,
          64583.32826385087,
          63805.51801456799,
          63236.31119047438,
          63137.88072577567,
          63924.68905639166,
          60460.461138279825,
          57820.44606293166,
          59309.25005810256,
          62846.05917605649,
          63645.483820910595,
          63880.71529314813,
          63494.779538716146,
          62888.90234109461,
          61191.6142999104,
          63284.33092095749,
          60832.766987637995,
          60900.91217858448,
          61289.84129283134,
          62796.348028864515,
          61997.17898180155
         ],
         "high": [
          65379.668634786976,
          66650.4794113982,
          63937.6008505447,
          64238.95648976054,
          63702.6263035617,
          65079.82263989656,
          65230.14679487167,
          65335.025560536145,
          67067.07426890385,
          67027.16640103911,
          67020.41398889829,
          64925.18633220173,
          64545.01893243576,
          63751.76615028954,
          63976.398730715206,
          63924.68905639166,
          64514.6474735241,
          60570.49956727372,
          59478.171690745745,
          62900.51280473865,
          64339.832505300714,
          64396.44391662257,
          65154.700395653184,
          64212.19709292666,
          62910.51378457303,
          63284.33092095749,
          63293.98021126339,
          61201.346621722114,
          61617.61668387327,
          63147.80566932386,
          62904.91827180202
         ],
         "low": [
          63687.02377470387,
          63190.368481447855,
          61922.02549496097,
          60181.66922975932,
          61048.751768850336,
          61055.95687671645,
          63595.28911868955,
          64561.17486902658,
          64694.72610495621,
          66083.96541599411,
          63980.14781473364,
          63323.044526614394,
          63489.91160747141,
          62593.26328372768,
          63137.88072577567,
          61988.375823439164,
          59130.90288936685,
          56803.96166623669,
          57079.422852923904,
          59033.39122749094,
          62706.74841870422,
          63145.10570901847,
          63138.425145590874,
          62888.90234109461,
          61191.6142999104,
          60901.52876154418,
          60380.27918355821,
          60667.309335915634,
          60770.68605394167,
          60911.93493502443,
          61550.88371379481
         ],
         "open": [
          64401.45951151034,
          65680.45176385739,
          63409.24311425688,
          63813.80057977799,
          61271.93484646608,
          63517.289856392184,
          63840.68860508889,
          64975.76008691977,
          64918.78670332484,
          66840.15252625803,
          66428.98997797654,
          64279.51812857524,
          64486.183359158975,
          63751.76615028954,
          63394.9930544734,
          63132.96539132659,
          63827.108114893235,
          60570.49956727372,
          58305.94431880541,
          59101.80359815795,
          62888.508891304526,
          63916.7594807191,
          64090.09642569385,
          63159.413770342624,
          62397.517143100675,
          61188.171092793484,
          63065.330986404886,
          60789.56750626353,
          60794.62996994819,
          61483.57956859696,
          62904.91827180202
         ],
         "type": "candlestick",
         "x": [
          "2024-04-14",
          "2024-04-15",
          "2024-04-16",
          "2024-04-17",
          "2024-04-18",
          "2024-04-19",
          "2024-04-20",
          "2024-04-21",
          "2024-04-22",
          "2024-04-23",
          "2024-04-24",
          "2024-04-25",
          "2024-04-26",
          "2024-04-27",
          "2024-04-28",
          "2024-04-29",
          "2024-04-30",
          "2024-05-01",
          "2024-05-02",
          "2024-05-03",
          "2024-05-04",
          "2024-05-05",
          "2024-05-06",
          "2024-05-07",
          "2024-05-08",
          "2024-05-09",
          "2024-05-10",
          "2024-05-11",
          "2024-05-12",
          "2024-05-13",
          "2024-05-14"
         ]
        }
       ],
       "layout": {
        "autosize": true,
        "template": {
         "data": {
          "bar": [
           {
            "error_x": {
             "color": "#2a3f5f"
            },
            "error_y": {
             "color": "#2a3f5f"
            },
            "marker": {
             "line": {
              "color": "#E5ECF6",
              "width": 0.5
             },
             "pattern": {
              "fillmode": "overlay",
              "size": 10,
              "solidity": 0.2
             }
            },
            "type": "bar"
           }
          ],
          "barpolar": [
           {
            "marker": {
             "line": {
              "color": "#E5ECF6",
              "width": 0.5
             },
             "pattern": {
              "fillmode": "overlay",
              "size": 10,
              "solidity": 0.2
             }
            },
            "type": "barpolar"
           }
          ],
          "carpet": [
           {
            "aaxis": {
             "endlinecolor": "#2a3f5f",
             "gridcolor": "white",
             "linecolor": "white",
             "minorgridcolor": "white",
             "startlinecolor": "#2a3f5f"
            },
            "baxis": {
             "endlinecolor": "#2a3f5f",
             "gridcolor": "white",
             "linecolor": "white",
             "minorgridcolor": "white",
             "startlinecolor": "#2a3f5f"
            },
            "type": "carpet"
           }
          ],
          "choropleth": [
           {
            "colorbar": {
             "outlinewidth": 0,
             "ticks": ""
            },
            "type": "choropleth"
           }
          ],
          "contour": [
           {
            "colorbar": {
             "outlinewidth": 0,
             "ticks": ""
            },
            "colorscale": [
             [
              0,
              "#0d0887"
             ],
             [
              0.1111111111111111,
              "#46039f"
             ],
             [
              0.2222222222222222,
              "#7201a8"
             ],
             [
              0.3333333333333333,
              "#9c179e"
             ],
             [
              0.4444444444444444,
              "#bd3786"
             ],
             [
              0.5555555555555556,
              "#d8576b"
             ],
             [
              0.6666666666666666,
              "#ed7953"
             ],
             [
              0.7777777777777778,
              "#fb9f3a"
             ],
             [
              0.8888888888888888,
              "#fdca26"
             ],
             [
              1,
              "#f0f921"
             ]
            ],
            "type": "contour"
           }
          ],
          "contourcarpet": [
           {
            "colorbar": {
             "outlinewidth": 0,
             "ticks": ""
            },
            "type": "contourcarpet"
           }
          ],
          "heatmap": [
           {
            "colorbar": {
             "outlinewidth": 0,
             "ticks": ""
            },
            "colorscale": [
             [
              0,
              "#0d0887"
             ],
             [
              0.1111111111111111,
              "#46039f"
             ],
             [
              0.2222222222222222,
              "#7201a8"
             ],
             [
              0.3333333333333333,
              "#9c179e"
             ],
             [
              0.4444444444444444,
              "#bd3786"
             ],
             [
              0.5555555555555556,
              "#d8576b"
             ],
             [
              0.6666666666666666,
              "#ed7953"
             ],
             [
              0.7777777777777778,
              "#fb9f3a"
             ],
             [
              0.8888888888888888,
              "#fdca26"
             ],
             [
              1,
              "#f0f921"
             ]
            ],
            "type": "heatmap"
           }
          ],
          "heatmapgl": [
           {
            "colorbar": {
             "outlinewidth": 0,
             "ticks": ""
            },
            "colorscale": [
             [
              0,
              "#0d0887"
             ],
             [
              0.1111111111111111,
              "#46039f"
             ],
             [
              0.2222222222222222,
              "#7201a8"
             ],
             [
              0.3333333333333333,
              "#9c179e"
             ],
             [
              0.4444444444444444,
              "#bd3786"
             ],
             [
              0.5555555555555556,
              "#d8576b"
             ],
             [
              0.6666666666666666,
              "#ed7953"
             ],
             [
              0.7777777777777778,
              "#fb9f3a"
             ],
             [
              0.8888888888888888,
              "#fdca26"
             ],
             [
              1,
              "#f0f921"
             ]
            ],
            "type": "heatmapgl"
           }
          ],
          "histogram": [
           {
            "marker": {
             "pattern": {
              "fillmode": "overlay",
              "size": 10,
              "solidity": 0.2
             }
            },
            "type": "histogram"
           }
          ],
          "histogram2d": [
           {
            "colorbar": {
             "outlinewidth": 0,
             "ticks": ""
            },
            "colorscale": [
             [
              0,
              "#0d0887"
             ],
             [
              0.1111111111111111,
              "#46039f"
             ],
             [
              0.2222222222222222,
              "#7201a8"
             ],
             [
              0.3333333333333333,
              "#9c179e"
             ],
             [
              0.4444444444444444,
              "#bd3786"
             ],
             [
              0.5555555555555556,
              "#d8576b"
             ],
             [
              0.6666666666666666,
              "#ed7953"
             ],
             [
              0.7777777777777778,
              "#fb9f3a"
             ],
             [
              0.8888888888888888,
              "#fdca26"
             ],
             [
              1,
              "#f0f921"
             ]
            ],
            "type": "histogram2d"
           }
          ],
          "histogram2dcontour": [
           {
            "colorbar": {
             "outlinewidth": 0,
             "ticks": ""
            },
            "colorscale": [
             [
              0,
              "#0d0887"
             ],
             [
              0.1111111111111111,
              "#46039f"
             ],
             [
              0.2222222222222222,
              "#7201a8"
             ],
             [
              0.3333333333333333,
              "#9c179e"
             ],
             [
              0.4444444444444444,
              "#bd3786"
             ],
             [
              0.5555555555555556,
              "#d8576b"
             ],
             [
              0.6666666666666666,
              "#ed7953"
             ],
             [
              0.7777777777777778,
              "#fb9f3a"
             ],
             [
              0.8888888888888888,
              "#fdca26"
             ],
             [
              1,
              "#f0f921"
             ]
            ],
            "type": "histogram2dcontour"
           }
          ],
          "mesh3d": [
           {
            "colorbar": {
             "outlinewidth": 0,
             "ticks": ""
            },
            "type": "mesh3d"
           }
          ],
          "parcoords": [
           {
            "line": {
             "colorbar": {
              "outlinewidth": 0,
              "ticks": ""
             }
            },
            "type": "parcoords"
           }
          ],
          "pie": [
           {
            "automargin": true,
            "type": "pie"
           }
          ],
          "scatter": [
           {
            "fillpattern": {
             "fillmode": "overlay",
             "size": 10,
             "solidity": 0.2
            },
            "type": "scatter"
           }
          ],
          "scatter3d": [
           {
            "line": {
             "colorbar": {
              "outlinewidth": 0,
              "ticks": ""
             }
            },
            "marker": {
             "colorbar": {
              "outlinewidth": 0,
              "ticks": ""
             }
            },
            "type": "scatter3d"
           }
          ],
          "scattercarpet": [
           {
            "marker": {
             "colorbar": {
              "outlinewidth": 0,
              "ticks": ""
             }
            },
            "type": "scattercarpet"
           }
          ],
          "scattergeo": [
           {
            "marker": {
             "colorbar": {
              "outlinewidth": 0,
              "ticks": ""
             }
            },
            "type": "scattergeo"
           }
          ],
          "scattergl": [
           {
            "marker": {
             "colorbar": {
              "outlinewidth": 0,
              "ticks": ""
             }
            },
            "type": "scattergl"
           }
          ],
          "scattermapbox": [
           {
            "marker": {
             "colorbar": {
              "outlinewidth": 0,
              "ticks": ""
             }
            },
            "type": "scattermapbox"
           }
          ],
          "scatterpolar": [
           {
            "marker": {
             "colorbar": {
              "outlinewidth": 0,
              "ticks": ""
             }
            },
            "type": "scatterpolar"
           }
          ],
          "scatterpolargl": [
           {
            "marker": {
             "colorbar": {
              "outlinewidth": 0,
              "ticks": ""
             }
            },
            "type": "scatterpolargl"
           }
          ],
          "scatterternary": [
           {
            "marker": {
             "colorbar": {
              "outlinewidth": 0,
              "ticks": ""
             }
            },
            "type": "scatterternary"
           }
          ],
          "surface": [
           {
            "colorbar": {
             "outlinewidth": 0,
             "ticks": ""
            },
            "colorscale": [
             [
              0,
              "#0d0887"
             ],
             [
              0.1111111111111111,
              "#46039f"
             ],
             [
              0.2222222222222222,
              "#7201a8"
             ],
             [
              0.3333333333333333,
              "#9c179e"
             ],
             [
              0.4444444444444444,
              "#bd3786"
             ],
             [
              0.5555555555555556,
              "#d8576b"
             ],
             [
              0.6666666666666666,
              "#ed7953"
             ],
             [
              0.7777777777777778,
              "#fb9f3a"
             ],
             [
              0.8888888888888888,
              "#fdca26"
             ],
             [
              1,
              "#f0f921"
             ]
            ],
            "type": "surface"
           }
          ],
          "table": [
           {
            "cells": {
             "fill": {
              "color": "#EBF0F8"
             },
             "line": {
              "color": "white"
             }
            },
            "header": {
             "fill": {
              "color": "#C8D4E3"
             },
             "line": {
              "color": "white"
             }
            },
            "type": "table"
           }
          ]
         },
         "layout": {
          "annotationdefaults": {
           "arrowcolor": "#2a3f5f",
           "arrowhead": 0,
           "arrowwidth": 1
          },
          "autotypenumbers": "strict",
          "coloraxis": {
           "colorbar": {
            "outlinewidth": 0,
            "ticks": ""
           }
          },
          "colorscale": {
           "diverging": [
            [
             0,
             "#8e0152"
            ],
            [
             0.1,
             "#c51b7d"
            ],
            [
             0.2,
             "#de77ae"
            ],
            [
             0.3,
             "#f1b6da"
            ],
            [
             0.4,
             "#fde0ef"
            ],
            [
             0.5,
             "#f7f7f7"
            ],
            [
             0.6,
             "#e6f5d0"
            ],
            [
             0.7,
             "#b8e186"
            ],
            [
             0.8,
             "#7fbc41"
            ],
            [
             0.9,
             "#4d9221"
            ],
            [
             1,
             "#276419"
            ]
           ],
           "sequential": [
            [
             0,
             "#0d0887"
            ],
            [
             0.1111111111111111,
             "#46039f"
            ],
            [
             0.2222222222222222,
             "#7201a8"
            ],
            [
             0.3333333333333333,
             "#9c179e"
            ],
            [
             0.4444444444444444,
             "#bd3786"
            ],
            [
             0.5555555555555556,
             "#d8576b"
            ],
            [
             0.6666666666666666,
             "#ed7953"
            ],
            [
             0.7777777777777778,
             "#fb9f3a"
            ],
            [
             0.8888888888888888,
             "#fdca26"
            ],
            [
             1,
             "#f0f921"
            ]
           ],
           "sequentialminus": [
            [
             0,
             "#0d0887"
            ],
            [
             0.1111111111111111,
             "#46039f"
            ],
            [
             0.2222222222222222,
             "#7201a8"
            ],
            [
             0.3333333333333333,
             "#9c179e"
            ],
            [
             0.4444444444444444,
             "#bd3786"
            ],
            [
             0.5555555555555556,
             "#d8576b"
            ],
            [
             0.6666666666666666,
             "#ed7953"
            ],
            [
             0.7777777777777778,
             "#fb9f3a"
            ],
            [
             0.8888888888888888,
             "#fdca26"
            ],
            [
             1,
             "#f0f921"
            ]
           ]
          },
          "colorway": [
           "#636efa",
           "#EF553B",
           "#00cc96",
           "#ab63fa",
           "#FFA15A",
           "#19d3f3",
           "#FF6692",
           "#B6E880",
           "#FF97FF",
           "#FECB52"
          ],
          "font": {
           "color": "#2a3f5f"
          },
          "geo": {
           "bgcolor": "white",
           "lakecolor": "white",
           "landcolor": "#E5ECF6",
           "showlakes": true,
           "showland": true,
           "subunitcolor": "white"
          },
          "hoverlabel": {
           "align": "left"
          },
          "hovermode": "closest",
          "mapbox": {
           "style": "light"
          },
          "paper_bgcolor": "white",
          "plot_bgcolor": "#E5ECF6",
          "polar": {
           "angularaxis": {
            "gridcolor": "white",
            "linecolor": "white",
            "ticks": ""
           },
           "bgcolor": "#E5ECF6",
           "radialaxis": {
            "gridcolor": "white",
            "linecolor": "white",
            "ticks": ""
           }
          },
          "scene": {
           "xaxis": {
            "backgroundcolor": "#E5ECF6",
            "gridcolor": "white",
            "gridwidth": 2,
            "linecolor": "white",
            "showbackground": true,
            "ticks": "",
            "zerolinecolor": "white"
           },
           "yaxis": {
            "backgroundcolor": "#E5ECF6",
            "gridcolor": "white",
            "gridwidth": 2,
            "linecolor": "white",
            "showbackground": true,
            "ticks": "",
            "zerolinecolor": "white"
           },
           "zaxis": {
            "backgroundcolor": "#E5ECF6",
            "gridcolor": "white",
            "gridwidth": 2,
            "linecolor": "white",
            "showbackground": true,
            "ticks": "",
            "zerolinecolor": "white"
           }
          },
          "shapedefaults": {
           "line": {
            "color": "#2a3f5f"
           }
          },
          "ternary": {
           "aaxis": {
            "gridcolor": "white",
            "linecolor": "white",
            "ticks": ""
           },
           "baxis": {
            "gridcolor": "white",
            "linecolor": "white",
            "ticks": ""
           },
           "bgcolor": "#E5ECF6",
           "caxis": {
            "gridcolor": "white",
            "linecolor": "white",
            "ticks": ""
           }
          },
          "title": {
           "x": 0.05
          },
          "xaxis": {
           "automargin": true,
           "gridcolor": "white",
           "linecolor": "white",
           "ticks": "",
           "title": {
            "standoff": 15
           },
           "zerolinecolor": "white",
           "zerolinewidth": 2
          },
          "yaxis": {
           "automargin": true,
           "gridcolor": "white",
           "linecolor": "white",
           "ticks": "",
           "title": {
            "standoff": 15
           },
           "zerolinecolor": "white",
           "zerolinewidth": 2
          }
         }
        },
        "title": {
         "text": "Bitcoin Candlestick Chart Over Past 30 Days"
        },
        "xaxis": {
         "autorange": true,
         "range": [
          "2024-04-13 12:00",
          "2024-05-14 12:00"
         ],
         "rangeslider": {
          "visible": false,
          "yaxis": {}
         },
         "title": {
          "text": "Date"
         },
         "type": "date"
        },
        "yaxis": {
         "autorange": true,
         "range": [
          56233.788743866295,
          67637.24719127425
         ],
         "title": {
          "text": "Price (USD $)"
         }
        }
       }
      },
      "image/png": "[encoded data removed]",
      "text/html": [
       "<div>                            <div id=\"cc609c87-ee26-4ab6-987f-f094b1a40bcf\" class=\"plotly-graph-div\" style=\"height:525px; width:100%;\"></div>            <script type=\"text/javascript\">                require([\"plotly\"], function(Plotly) {                    window.PLOTLYENV=window.PLOTLYENV || {};                                    if (document.getElementById(\"cc609c87-ee26-4ab6-987f-f094b1a40bcf\")) {                    Plotly.newPlot(                        \"cc609c87-ee26-4ab6-987f-f094b1a40bcf\",                        [{\"close\":[65379.668634786976,63415.485289374374,63812.81475679645,61657.57943716404,63524.558683375275,64112.51345083991,64622.874309758576,65037.483119496384,67067.07426890385,66378.52010527095,64079.72006562455,64583.32826385087,63805.51801456799,63236.31119047438,63137.88072577567,63924.68905639166,60460.461138279825,57820.44606293166,59309.25005810256,62846.05917605649,63645.483820910595,63880.71529314813,63494.779538716146,62888.90234109461,61191.6142999104,63284.33092095749,60832.766987637995,60900.91217858448,61289.84129283134,62796.348028864515,61997.17898180155],\"high\":[65379.668634786976,66650.4794113982,63937.6008505447,64238.95648976054,63702.6263035617,65079.82263989656,65230.14679487167,65335.025560536145,67067.07426890385,67027.16640103911,67020.41398889829,64925.18633220173,64545.01893243576,63751.76615028954,63976.398730715206,63924.68905639166,64514.6474735241,60570.49956727372,59478.171690745745,62900.51280473865,64339.832505300714,64396.44391662257,65154.700395653184,64212.19709292666,62910.51378457303,63284.33092095749,63293.98021126339,61201.346621722114,61617.61668387327,63147.80566932386,62904.91827180202],\"low\":[63687.02377470387,63190.368481447855,61922.02549496097,60181.66922975932,61048.751768850336,61055.95687671645,63595.28911868955,64561.17486902658,64694.72610495621,66083.96541599411,63980.14781473364,63323.044526614394,63489.91160747141,62593.26328372768,63137.88072577567,61988.375823439164,59130.90288936685,56803.96166623669,57079.422852923904,59033.39122749094,62706.74841870422,63145.10570901847,63138.425145590874,62888.90234109461,61191.6142999104,60901.52876154418,60380.27918355821,60667.309335915634,60770.68605394167,60911.93493502443,61550.88371379481],\"open\":[64401.45951151034,65680.45176385739,63409.24311425688,63813.80057977799,61271.93484646608,63517.289856392184,63840.68860508889,64975.76008691977,64918.78670332484,66840.15252625803,66428.98997797654,64279.51812857524,64486.183359158975,63751.76615028954,63394.9930544734,63132.96539132659,63827.108114893235,60570.49956727372,58305.94431880541,59101.80359815795,62888.508891304526,63916.7594807191,64090.09642569385,63159.413770342624,62397.517143100675,61188.171092793484,63065.330986404886,60789.56750626353,60794.62996994819,61483.57956859696,62904.91827180202],\"x\":[\"2024-04-14\",\"2024-04-15\",\"2024-04-16\",\"2024-04-17\",\"2024-04-18\",\"2024-04-19\",\"2024-04-20\",\"2024-04-21\",\"2024-04-22\",\"2024-04-23\",\"2024-04-24\",\"2024-04-25\",\"2024-04-26\",\"2024-04-27\",\"2024-04-28\",\"2024-04-29\",\"2024-04-30\",\"2024-05-01\",\"2024-05-02\",\"2024-05-03\",\"2024-05-04\",\"2024-05-05\",\"2024-05-06\",\"2024-05-07\",\"2024-05-08\",\"2024-05-09\",\"2024-05-10\",\"2024-05-11\",\"2024-05-12\",\"2024-05-13\",\"2024-05-14\"],\"type\":\"candlestick\"}],                        {\"template\":{\"data\":{\"histogram2dcontour\":[{\"type\":\"histogram2dcontour\",\"colorbar\":{\"outlinewidth\":0,\"ticks\":\"\"},\"colorscale\":[[0.0,\"#0d0887\"],[0.1111111111111111,\"#46039f\"],[0.2222222222222222,\"#7201a8\"],[0.3333333333333333,\"#9c179e\"],[0.4444444444444444,\"#bd3786\"],[0.5555555555555556,\"#d8576b\"],[0.6666666666666666,\"#ed7953\"],[0.7777777777777778,\"#fb9f3a\"],[0.8888888888888888,\"#fdca26\"],[1.0,\"#f0f921\"]]}],\"choropleth\":[{\"type\":\"choropleth\",\"colorbar\":{\"outlinewidth\":0,\"ticks\":\"\"}}],\"histogram2d\":[{\"type\":\"histogram2d\",\"colorbar\":{\"outlinewidth\":0,\"ticks\":\"\"},\"colorscale\":[[0.0,\"#0d0887\"],[0.1111111111111111,\"#46039f\"],[0.2222222222222222,\"#7201a8\"],[0.3333333333333333,\"#9c179e\"],[0.4444444444444444,\"#bd3786\"],[0.5555555555555556,\"#d8576b\"],[0.6666666666666666,\"#ed7953\"],[0.7777777777777778,\"#fb9f3a\"],[0.8888888888888888,\"#fdca26\"],[1.0,\"#f0f921\"]]}],\"heatmap\":[{\"type\":\"heatmap\",\"colorbar\":{\"outlinewidth\":0,\"ticks\":\"\"},\"colorscale\":[[0.0,\"#0d0887\"],[0.1111111111111111,\"#46039f\"],[0.2222222222222222,\"#7201a8\"],[0.3333333333333333,\"#9c179e\"],[0.4444444444444444,\"#bd3786\"],[0.5555555555555556,\"#d8576b\"],[0.6666666666666666,\"#ed7953\"],[0.7777777777777778,\"#fb9f3a\"],[0.8888888888888888,\"#fdca26\"],[1.0,\"#f0f921\"]]}],\"heatmapgl\":[{\"type\":\"heatmapgl\",\"colorbar\":{\"outlinewidth\":0,\"ticks\":\"\"},\"colorscale\":[[0.0,\"#0d0887\"],[0.1111111111111111,\"#46039f\"],[0.2222222222222222,\"#7201a8\"],[0.3333333333333333,\"#9c179e\"],[0.4444444444444444,\"#bd3786\"],[0.5555555555555556,\"#d8576b\"],[0.6666666666666666,\"#ed7953\"],[0.7777777777777778,\"#fb9f3a\"],[0.8888888888888888,\"#fdca26\"],[1.0,\"#f0f921\"]]}],\"contourcarpet\":[{\"type\":\"contourcarpet\",\"colorbar\":{\"outlinewidth\":0,\"ticks\":\"\"}}],\"contour\":[{\"type\":\"contour\",\"colorbar\":{\"outlinewidth\":0,\"ticks\":\"\"},\"colorscale\":[[0.0,\"#0d0887\"],[0.1111111111111111,\"#46039f\"],[0.2222222222222222,\"#7201a8\"],[0.3333333333333333,\"#9c179e\"],[0.4444444444444444,\"#bd3786\"],[0.5555555555555556,\"#d8576b\"],[0.6666666666666666,\"#ed7953\"],[0.7777777777777778,\"#fb9f3a\"],[0.8888888888888888,\"#fdca26\"],[1.0,\"#f0f921\"]]}],\"surface\":[{\"type\":\"surface\",\"colorbar\":{\"outlinewidth\":0,\"ticks\":\"\"},\"colorscale\":[[0.0,\"#0d0887\"],[0.1111111111111111,\"#46039f\"],[0.2222222222222222,\"#7201a8\"],[0.3333333333333333,\"#9c179e\"],[0.4444444444444444,\"#bd3786\"],[0.5555555555555556,\"#d8576b\"],[0.6666666666666666,\"#ed7953\"],[0.7777777777777778,\"#fb9f3a\"],[0.8888888888888888,\"#fdca26\"],[1.0,\"#f0f921\"]]}],\"mesh3d\":[{\"type\":\"mesh3d\",\"colorbar\":{\"outlinewidth\":0,\"ticks\":\"\"}}],\"scatter\":[{\"fillpattern\":{\"fillmode\":\"overlay\",\"size\":10,\"solidity\":0.2},\"type\":\"scatter\"}],\"parcoords\":[{\"type\":\"parcoords\",\"line\":{\"colorbar\":{\"outlinewidth\":0,\"ticks\":\"\"}}}],\"scatterpolargl\":[{\"type\":\"scatterpolargl\",\"marker\":{\"colorbar\":{\"outlinewidth\":0,\"ticks\":\"\"}}}],\"bar\":[{\"error_x\":{\"color\":\"#2a3f5f\"},\"error_y\":{\"color\":\"#2a3f5f\"},\"marker\":{\"line\":{\"color\":\"#E5ECF6\",\"width\":0.5},\"pattern\":{\"fillmode\":\"overlay\",\"size\":10,\"solidity\":0.2}},\"type\":\"bar\"}],\"scattergeo\":[{\"type\":\"scattergeo\",\"marker\":{\"colorbar\":{\"outlinewidth\":0,\"ticks\":\"\"}}}],\"scatterpolar\":[{\"type\":\"scatterpolar\",\"marker\":{\"colorbar\":{\"outlinewidth\":0,\"ticks\":\"\"}}}],\"histogram\":[{\"marker\":{\"pattern\":{\"fillmode\":\"overlay\",\"size\":10,\"solidity\":0.2}},\"type\":\"histogram\"}],\"scattergl\":[{\"type\":\"scattergl\",\"marker\":{\"colorbar\":{\"outlinewidth\":0,\"ticks\":\"\"}}}],\"scatter3d\":[{\"type\":\"scatter3d\",\"line\":{\"colorbar\":{\"outlinewidth\":0,\"ticks\":\"\"}},\"marker\":{\"colorbar\":{\"outlinewidth\":0,\"ticks\":\"\"}}}],\"scattermapbox\":[{\"type\":\"scattermapbox\",\"marker\":{\"colorbar\":{\"outlinewidth\":0,\"ticks\":\"\"}}}],\"scatterternary\":[{\"type\":\"scatterternary\",\"marker\":{\"colorbar\":{\"outlinewidth\":0,\"ticks\":\"\"}}}],\"scattercarpet\":[{\"type\":\"scattercarpet\",\"marker\":{\"colorbar\":{\"outlinewidth\":0,\"ticks\":\"\"}}}],\"carpet\":[{\"aaxis\":{\"endlinecolor\":\"#2a3f5f\",\"gridcolor\":\"white\",\"linecolor\":\"white\",\"minorgridcolor\":\"white\",\"startlinecolor\":\"#2a3f5f\"},\"baxis\":{\"endlinecolor\":\"#2a3f5f\",\"gridcolor\":\"white\",\"linecolor\":\"white\",\"minorgridcolor\":\"white\",\"startlinecolor\":\"#2a3f5f\"},\"type\":\"carpet\"}],\"table\":[{\"cells\":{\"fill\":{\"color\":\"#EBF0F8\"},\"line\":{\"color\":\"white\"}},\"header\":{\"fill\":{\"color\":\"#C8D4E3\"},\"line\":{\"color\":\"white\"}},\"type\":\"table\"}],\"barpolar\":[{\"marker\":{\"line\":{\"color\":\"#E5ECF6\",\"width\":0.5},\"pattern\":{\"fillmode\":\"overlay\",\"size\":10,\"solidity\":0.2}},\"type\":\"barpolar\"}],\"pie\":[{\"automargin\":true,\"type\":\"pie\"}]},\"layout\":{\"autotypenumbers\":\"strict\",\"colorway\":[\"#636efa\",\"#EF553B\",\"#00cc96\",\"#ab63fa\",\"#FFA15A\",\"#19d3f3\",\"#FF6692\",\"#B6E880\",\"#FF97FF\",\"#FECB52\"],\"font\":{\"color\":\"#2a3f5f\"},\"hovermode\":\"closest\",\"hoverlabel\":{\"align\":\"left\"},\"paper_bgcolor\":\"white\",\"plot_bgcolor\":\"#E5ECF6\",\"polar\":{\"bgcolor\":\"#E5ECF6\",\"angularaxis\":{\"gridcolor\":\"white\",\"linecolor\":\"white\",\"ticks\":\"\"},\"radialaxis\":{\"gridcolor\":\"white\",\"linecolor\":\"white\",\"ticks\":\"\"}},\"ternary\":{\"bgcolor\":\"#E5ECF6\",\"aaxis\":{\"gridcolor\":\"white\",\"linecolor\":\"white\",\"ticks\":\"\"},\"baxis\":{\"gridcolor\":\"white\",\"linecolor\":\"white\",\"ticks\":\"\"},\"caxis\":{\"gridcolor\":\"white\",\"linecolor\":\"white\",\"ticks\":\"\"}},\"coloraxis\":{\"colorbar\":{\"outlinewidth\":0,\"ticks\":\"\"}},\"colorscale\":{\"sequential\":[[0.0,\"#0d0887\"],[0.1111111111111111,\"#46039f\"],[0.2222222222222222,\"#7201a8\"],[0.3333333333333333,\"#9c179e\"],[0.4444444444444444,\"#bd3786\"],[0.5555555555555556,\"#d8576b\"],[0.6666666666666666,\"#ed7953\"],[0.7777777777777778,\"#fb9f3a\"],[0.8888888888888888,\"#fdca26\"],[1.0,\"#f0f921\"]],\"sequentialminus\":[[0.0,\"#0d0887\"],[0.1111111111111111,\"#46039f\"],[0.2222222222222222,\"#7201a8\"],[0.3333333333333333,\"#9c179e\"],[0.4444444444444444,\"#bd3786\"],[0.5555555555555556,\"#d8576b\"],[0.6666666666666666,\"#ed7953\"],[0.7777777777777778,\"#fb9f3a\"],[0.8888888888888888,\"#fdca26\"],[1.0,\"#f0f921\"]],\"diverging\":[[0,\"#8e0152\"],[0.1,\"#c51b7d\"],[0.2,\"#de77ae\"],[0.3,\"#f1b6da\"],[0.4,\"#fde0ef\"],[0.5,\"#f7f7f7\"],[0.6,\"#e6f5d0\"],[0.7,\"#b8e186\"],[0.8,\"#7fbc41\"],[0.9,\"#4d9221\"],[1,\"#276419\"]]},\"xaxis\":{\"gridcolor\":\"white\",\"linecolor\":\"white\",\"ticks\":\"\",\"title\":{\"standoff\":15},\"zerolinecolor\":\"white\",\"automargin\":true,\"zerolinewidth\":2},\"yaxis\":{\"gridcolor\":\"white\",\"linecolor\":\"white\",\"ticks\":\"\",\"title\":{\"standoff\":15},\"zerolinecolor\":\"white\",\"automargin\":true,\"zerolinewidth\":2},\"scene\":{\"xaxis\":{\"backgroundcolor\":\"#E5ECF6\",\"gridcolor\":\"white\",\"linecolor\":\"white\",\"showbackground\":true,\"ticks\":\"\",\"zerolinecolor\":\"white\",\"gridwidth\":2},\"yaxis\":{\"backgroundcolor\":\"#E5ECF6\",\"gridcolor\":\"white\",\"linecolor\":\"white\",\"showbackground\":true,\"ticks\":\"\",\"zerolinecolor\":\"white\",\"gridwidth\":2},\"zaxis\":{\"backgroundcolor\":\"#E5ECF6\",\"gridcolor\":\"white\",\"linecolor\":\"white\",\"showbackground\":true,\"ticks\":\"\",\"zerolinecolor\":\"white\",\"gridwidth\":2}},\"shapedefaults\":{\"line\":{\"color\":\"#2a3f5f\"}},\"annotationdefaults\":{\"arrowcolor\":\"#2a3f5f\",\"arrowhead\":0,\"arrowwidth\":1},\"geo\":{\"bgcolor\":\"white\",\"landcolor\":\"#E5ECF6\",\"subunitcolor\":\"white\",\"showland\":true,\"showlakes\":true,\"lakecolor\":\"white\"},\"title\":{\"x\":0.05},\"mapbox\":{\"style\":\"light\"}}},\"xaxis\":{\"rangeslider\":{\"visible\":false},\"title\":{\"text\":\"Date\"}},\"yaxis\":{\"title\":{\"text\":\"Price (USD $)\"}},\"title\":{\"text\":\"Bitcoin Candlestick Chart Over Past 30 Days\"}},                        {\"responsive\": true}                    ).then(function(){\n",
       "                            \n",
       "var gd = document.getElementById('cc609c87-ee26-4ab6-987f-f094b1a40bcf');\n",
       "var x = new MutationObserver(function (mutations, observer) {{\n",
       "        var display = window.getComputedStyle(gd).display;\n",
       "        if (!display || display === 'none') {{\n",
       "            console.log([gd, 'removed!']);\n",
       "            Plotly.purge(gd);\n",
       "            observer.disconnect();\n",
       "        }}\n",
       "}});\n",
       "\n",
       "// Listen for the removal of the full notebook cells\n",
       "var notebookContainer = gd.closest('#notebook-container');\n",
       "if (notebookContainer) {{\n",
       "    x.observe(notebookContainer, {childList: true});\n",
       "}}\n",
       "\n",
       "// Listen for the clearing of the current output cell\n",
       "var outputEl = gd.closest('.output');\n",
       "if (outputEl) {{\n",
       "    x.observe(outputEl, {childList: true});\n",
       "}}\n",
       "\n",
       "                        })                };                });            </script>        </div>"
      ]
     },
     "metadata": {},
     "output_type": "display_data"
    }
   ],
   "source": [
    "plotlyfig = go.Figure(data=[go.Candlestick(x = candlestick_data.index,\n",
    "                                           open = candlestick_data['Price']['first'],\n",
    "                                           high = candlestick_data['Price']['max'],\n",
    "                                           low = candlestick_data['Price']['min'],\n",
    "                                           close = candlestick_data['Price']['last']\n",
    "                                           )\n",
    "                            ]\n",
    "                     )\n",
    "\n",
    "plotlyfig.update_layout(xaxis_rangeslider_visible = False, xaxis_title = 'Date',\n",
    "                        yaxis_title = 'Price (USD $)', title = 'Bitcoin Candlestick Chart Over Past 30 Days')\n",
    "\n",
    "# plotly.offline.plot(plotlyfig, filename = './bitcoin_candlestick_graph.html', auto_open=False)"
   ]
  },
  {
   "cell_type": "markdown",
   "id": "437151e3-37c6-4994-8d78-b806ef8f9e4f",
   "metadata": {},
   "source": [
    "To create a HTML file of the chart, uncomment the last code in the last code block. We can view the candlestick chart by opening the HTML file and clicking Trust HTML in the top left of the tab."
   ]
  },
  {
   "cell_type": "markdown",
   "id": "c24aaab2-1895-4096-b4a9-e9679c724ed6",
   "metadata": {},
   "source": [
    "You can find more information in using the `Plotly` library from the following website:\n",
    "* [Getting Started with Plotly in Python](https://plotly.com/python/getting-started/)\n",
    "* [Plotly Open Source Graphing Library for Python](https://plotly.com/python/)\n",
    "* [Displaying Figures in Python](https://plotly.com/python/renderers/)\n",
    "* [Troubleshooting Plotly Chart Not Showing in Jupyter Notebook and Jupyter Lab](https://saturncloud.io/blog/troubleshooting-plotly-chart-not-showing-in-jupyter-notebook/)"
   ]
  }
 ],
 "metadata": {
  "kernelspec": {
   "display_name": "Python 3 (ipykernel)",
   "language": "python",
   "name": "python3"
  },
  "language_info": {
   "codemirror_mode": {
    "name": "ipython",
    "version": 3
   },
   "file_extension": ".py",
   "mimetype": "text/x-python",
   "name": "python",
   "nbconvert_exporter": "python",
   "pygments_lexer": "ipython3",
   "version": "3.11.5"
  }
 },
 "nbformat": 4,
 "nbformat_minor": 5
}
