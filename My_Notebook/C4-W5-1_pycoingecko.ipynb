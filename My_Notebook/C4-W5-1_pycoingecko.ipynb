{
 "cells": [
  {
   "cell_type": "markdown",
   "id": "11074af7-f7c8-4bd6-8b5f-7ff67fbbe9c2",
   "metadata": {},
   "source": [
    "<font size=\"6\">PyCoinGecko for CoinGecko API</font>"
   ]
  },
  {
   "cell_type": "markdown",
   "id": "46d5fbde-78d6-46f0-9b47-aefdfdce9cf3",
   "metadata": {},
   "source": [
    "Cryptocurrency data is excellent to be used in an API because it is constantly updated and it is vital to cryptocurrency trading. We will use the **PyCoinGecko Python client/wrapper** for the **CoinGecko API**, updated every minute by CoinGecko. We use the wrapper/client because it is easy to use so you can focus on the task of collecting data."
   ]
  },
  {
   "cell_type": "markdown",
   "id": "577df750-029e-4026-926d-7f4cc9be90a2",
   "metadata": {},
   "source": [
    "Using **PyCoinGecko** to collect data is simple. All we need is to install and import the library, then create a client object, and finally use a function to request our data."
   ]
  },
  {
   "cell_type": "markdown",
   "id": "1c3acd16-f1b7-40b7-a8c1-87ec3ca88e09",
   "metadata": {},
   "source": [
    "First, we need to install the **PyCoinGecko** library. Uncomment the following code block if the **PyCoinGecko** library has not been installed in the machine."
   ]
  },
  {
   "cell_type": "code",
   "execution_count": 2,
   "id": "0e1d0330-53c8-4d3f-988d-1dd4697db1f8",
   "metadata": {},
   "outputs": [],
   "source": [
    "# !pip install pycoingecko"
   ]
  },
  {
   "cell_type": "markdown",
   "id": "b97ee918-9d77-486f-a2fb-99bb60acf7e8",
   "metadata": {},
   "source": [
    "Then we need to import the library and create a client object."
   ]
  },
  {
   "cell_type": "code",
   "execution_count": 3,
   "id": "b26bbd05-58e3-4fa6-9cd9-229a5dabd57c",
   "metadata": {},
   "outputs": [],
   "source": [
    "# Import the library\n",
    "from pycoingecko import CoinGeckoAPI"
   ]
  },
  {
   "cell_type": "code",
   "execution_count": 4,
   "id": "862ca1d2-a7fc-46fc-bdc3-3ac4c402384c",
   "metadata": {},
   "outputs": [],
   "source": [
    "# Create the client object\n",
    "cg = CoinGeckoAPI()"
   ]
  },
  {
   "cell_type": "markdown",
   "id": "b128b69a-0949-40ce-82b5-0d7d3443ee1c",
   "metadata": {},
   "source": [
    "Finally, we use a function to request our data. In this function we are getting data on **bitcoin**, in **US dollars**, for the past **30** days. "
   ]
  },
  {
   "cell_type": "code",
   "execution_count": 5,
   "id": "64c9a0bc-34f1-4452-b95d-3350d61dcd11",
   "metadata": {},
   "outputs": [],
   "source": [
    "# Use the function to request the data\n",
    "bitcoin_data = cg.get_coin_market_chart_by_id(id = 'bitcoin', vs_currency = 'usd', days = 30)"
   ]
  },
  {
   "cell_type": "markdown",
   "id": "272da4f2-8344-4e7b-8833-71a640906996",
   "metadata": {},
   "source": [
    "In this case our response is a **JSON** expressed as a **Python dictionary** of nested lists including _price_, _market cap_, and _total volumes_, which contain the _UNIX timestamp_ and the price at that time."
   ]
  },
  {
   "cell_type": "markdown",
   "id": "802fb202-920e-4621-806c-193d666c19a0",
   "metadata": {},
   "source": [
    "For easy viewing, we convert the Python dictionary into a Pandas dataframe."
   ]
  },
  {
   "cell_type": "code",
   "execution_count": 6,
   "id": "2c11313c-e129-47e1-93a0-733cd29df8d3",
   "metadata": {},
   "outputs": [],
   "source": [
    "# Import pandas library\n",
    "import pandas as pd"
   ]
  },
  {
   "cell_type": "code",
   "execution_count": 7,
   "id": "b5714864-bbba-48ab-93d0-b5cc23503c0f",
   "metadata": {},
   "outputs": [],
   "source": [
    "df_bitcoin_data = pd.DataFrame(bitcoin_data)"
   ]
  },
  {
   "cell_type": "code",
   "execution_count": 8,
   "id": "5ec93122-714f-4f93-828d-daac9da47d24",
   "metadata": {},
   "outputs": [
    {
     "data": {
      "text/html": [
       "<div>\n",
       "<style scoped>\n",
       "    .dataframe tbody tr th:only-of-type {\n",
       "        vertical-align: middle;\n",
       "    }\n",
       "\n",
       "    .dataframe tbody tr th {\n",
       "        vertical-align: top;\n",
       "    }\n",
       "\n",
       "    .dataframe thead th {\n",
       "        text-align: right;\n",
       "    }\n",
       "</style>\n",
       "<table border=\"1\" class=\"dataframe\">\n",
       "  <thead>\n",
       "    <tr style=\"text-align: right;\">\n",
       "      <th></th>\n",
       "      <th>prices</th>\n",
       "      <th>market_caps</th>\n",
       "      <th>total_volumes</th>\n",
       "    </tr>\n",
       "  </thead>\n",
       "  <tbody>\n",
       "    <tr>\n",
       "      <th>0</th>\n",
       "      <td>[1713154190681, 65183.74548356216]</td>\n",
       "      <td>[1713154190681, 1282757178488.9004]</td>\n",
       "      <td>[1713154190681, 45616702202.22862]</td>\n",
       "    </tr>\n",
       "    <tr>\n",
       "      <th>1</th>\n",
       "      <td>[1713157404248, 64977.77063893974]</td>\n",
       "      <td>[1713157404248, 1279055378783.3743]</td>\n",
       "      <td>[1713157404248, 45076719918.31025]</td>\n",
       "    </tr>\n",
       "    <tr>\n",
       "      <th>2</th>\n",
       "      <td>[1713161090159, 65535.173579147835]</td>\n",
       "      <td>[1713161090159, 1286403947858.7358]</td>\n",
       "      <td>[1713161090159, 38294871961.13445]</td>\n",
       "    </tr>\n",
       "    <tr>\n",
       "      <th>3</th>\n",
       "      <td>[1713164616618, 66570.16139354806]</td>\n",
       "      <td>[1713164616618, 1307780123641.0579]</td>\n",
       "      <td>[1713164616618, 45750163114.96653]</td>\n",
       "    </tr>\n",
       "    <tr>\n",
       "      <th>4</th>\n",
       "      <td>[1713168269240, 66361.17474265248]</td>\n",
       "      <td>[1713168269240, 1306397006932.165]</td>\n",
       "      <td>[1713168269240, 45542653103.29848]</td>\n",
       "    </tr>\n",
       "  </tbody>\n",
       "</table>\n",
       "</div>"
      ],
      "text/plain": [
       "                                prices                          market_caps  \\\n",
       "0   [1713154190681, 65183.74548356216]  [1713154190681, 1282757178488.9004]   \n",
       "1   [1713157404248, 64977.77063893974]  [1713157404248, 1279055378783.3743]   \n",
       "2  [1713161090159, 65535.173579147835]  [1713161090159, 1286403947858.7358]   \n",
       "3   [1713164616618, 66570.16139354806]  [1713164616618, 1307780123641.0579]   \n",
       "4   [1713168269240, 66361.17474265248]   [1713168269240, 1306397006932.165]   \n",
       "\n",
       "                        total_volumes  \n",
       "0  [1713154190681, 45616702202.22862]  \n",
       "1  [1713157404248, 45076719918.31025]  \n",
       "2  [1713161090159, 38294871961.13445]  \n",
       "3  [1713164616618, 45750163114.96653]  \n",
       "4  [1713168269240, 45542653103.29848]  "
      ]
     },
     "execution_count": 8,
     "metadata": {},
     "output_type": "execute_result"
    }
   ],
   "source": [
    "df_bitcoin_data.head()"
   ]
  },
  {
   "cell_type": "markdown",
   "id": "8396ab9d-1320-4b3a-adb8-9ef5705fb213",
   "metadata": {},
   "source": [
    "We are only interested in price so that is what we will select using the key `price`. To make things simple, we can convert our nested list to a `DataFrame`, with the columns `timestamp` and `price`."
   ]
  },
  {
   "cell_type": "markdown",
   "id": "f8f5ff73-0ae7-4042-89d6-084fe31dcc05",
   "metadata": {},
   "source": [
    "The following codes select the `prices` column from the Python dictionary and make the column heading `TimeStamp` and `Price`."
   ]
  },
  {
   "cell_type": "code",
   "execution_count": 9,
   "id": "dbc2fb96-3701-4194-9f9c-8dc996528296",
   "metadata": {},
   "outputs": [
    {
     "data": {
      "text/html": [
       "<div>\n",
       "<style scoped>\n",
       "    .dataframe tbody tr th:only-of-type {\n",
       "        vertical-align: middle;\n",
       "    }\n",
       "\n",
       "    .dataframe tbody tr th {\n",
       "        vertical-align: top;\n",
       "    }\n",
       "\n",
       "    .dataframe thead th {\n",
       "        text-align: right;\n",
       "    }\n",
       "</style>\n",
       "<table border=\"1\" class=\"dataframe\">\n",
       "  <thead>\n",
       "    <tr style=\"text-align: right;\">\n",
       "      <th></th>\n",
       "      <th>TimeStamp</th>\n",
       "      <th>Price</th>\n",
       "    </tr>\n",
       "  </thead>\n",
       "  <tbody>\n",
       "    <tr>\n",
       "      <th>0</th>\n",
       "      <td>1713154190681</td>\n",
       "      <td>65183.745484</td>\n",
       "    </tr>\n",
       "    <tr>\n",
       "      <th>1</th>\n",
       "      <td>1713157404248</td>\n",
       "      <td>64977.770639</td>\n",
       "    </tr>\n",
       "    <tr>\n",
       "      <th>2</th>\n",
       "      <td>1713161090159</td>\n",
       "      <td>65535.173579</td>\n",
       "    </tr>\n",
       "    <tr>\n",
       "      <th>3</th>\n",
       "      <td>1713164616618</td>\n",
       "      <td>66570.161394</td>\n",
       "    </tr>\n",
       "    <tr>\n",
       "      <th>4</th>\n",
       "      <td>1713168269240</td>\n",
       "      <td>66361.174743</td>\n",
       "    </tr>\n",
       "  </tbody>\n",
       "</table>\n",
       "</div>"
      ],
      "text/plain": [
       "       TimeStamp         Price\n",
       "0  1713154190681  65183.745484\n",
       "1  1713157404248  64977.770639\n",
       "2  1713161090159  65535.173579\n",
       "3  1713164616618  66570.161394\n",
       "4  1713168269240  66361.174743"
      ]
     },
     "execution_count": 9,
     "metadata": {},
     "output_type": "execute_result"
    }
   ],
   "source": [
    "# Extracting the prices column from the Python dictionary\n",
    "data = pd.DataFrame(bitcoin_data['prices'], columns=['TimeStamp', 'Price'])\n",
    "data.head()"
   ]
  },
  {
   "cell_type": "markdown",
   "id": "bd55695a-d914-4aa5-8f2b-fe46973868dd",
   "metadata": {},
   "source": [
    "It's difficult to understand the column `timestamp`. We will convert it to a more readable format using the pandas function `to_datetime()`. Using the `to_datetime()` function, we create readable time data, the input is the `timestamp` column, unit of time is set to milliseconds. We append the output to the new column, `date`. "
   ]
  },
  {
   "cell_type": "code",
   "execution_count": 10,
   "id": "13050fd9-52b5-48bb-a547-ab998919028a",
   "metadata": {},
   "outputs": [
    {
     "data": {
      "text/html": [
       "<div>\n",
       "<style scoped>\n",
       "    .dataframe tbody tr th:only-of-type {\n",
       "        vertical-align: middle;\n",
       "    }\n",
       "\n",
       "    .dataframe tbody tr th {\n",
       "        vertical-align: top;\n",
       "    }\n",
       "\n",
       "    .dataframe thead th {\n",
       "        text-align: right;\n",
       "    }\n",
       "</style>\n",
       "<table border=\"1\" class=\"dataframe\">\n",
       "  <thead>\n",
       "    <tr style=\"text-align: right;\">\n",
       "      <th></th>\n",
       "      <th>TimeStamp</th>\n",
       "      <th>Price</th>\n",
       "      <th>Date</th>\n",
       "    </tr>\n",
       "  </thead>\n",
       "  <tbody>\n",
       "    <tr>\n",
       "      <th>0</th>\n",
       "      <td>1713154190681</td>\n",
       "      <td>65183.745484</td>\n",
       "      <td>2024-04-15 04:09:50.681</td>\n",
       "    </tr>\n",
       "    <tr>\n",
       "      <th>1</th>\n",
       "      <td>1713157404248</td>\n",
       "      <td>64977.770639</td>\n",
       "      <td>2024-04-15 05:03:24.248</td>\n",
       "    </tr>\n",
       "    <tr>\n",
       "      <th>2</th>\n",
       "      <td>1713161090159</td>\n",
       "      <td>65535.173579</td>\n",
       "      <td>2024-04-15 06:04:50.159</td>\n",
       "    </tr>\n",
       "    <tr>\n",
       "      <th>3</th>\n",
       "      <td>1713164616618</td>\n",
       "      <td>66570.161394</td>\n",
       "      <td>2024-04-15 07:03:36.618</td>\n",
       "    </tr>\n",
       "    <tr>\n",
       "      <th>4</th>\n",
       "      <td>1713168269240</td>\n",
       "      <td>66361.174743</td>\n",
       "      <td>2024-04-15 08:04:29.240</td>\n",
       "    </tr>\n",
       "  </tbody>\n",
       "</table>\n",
       "</div>"
      ],
      "text/plain": [
       "       TimeStamp         Price                    Date\n",
       "0  1713154190681  65183.745484 2024-04-15 04:09:50.681\n",
       "1  1713157404248  64977.770639 2024-04-15 05:03:24.248\n",
       "2  1713161090159  65535.173579 2024-04-15 06:04:50.159\n",
       "3  1713164616618  66570.161394 2024-04-15 07:03:36.618\n",
       "4  1713168269240  66361.174743 2024-04-15 08:04:29.240"
      ]
     },
     "execution_count": 10,
     "metadata": {},
     "output_type": "execute_result"
    }
   ],
   "source": [
    "# Convert the timestamp to a readable format\n",
    "data['Date'] = pd.to_datetime(data['TimeStamp'], unit = 'ms')\n",
    "data.head()"
   ]
  },
  {
   "cell_type": "markdown",
   "id": "a7b4411c-c053-4c17-bbf5-a1f6c84e951f",
   "metadata": {},
   "source": [
    "Now we want to create a candlestick plot. To get the data for the daily candlesticks we will group by the date to find the minimum, maximum, first, and last price of each day. (Please refer to the end of this notebook for the usage of Pandas Series `dt.date()` function."
   ]
  },
  {
   "cell_type": "code",
   "execution_count": 11,
   "id": "d5c3466e-dbce-4cb2-86a6-8b33b0794042",
   "metadata": {},
   "outputs": [
    {
     "data": {
      "text/html": [
       "<div>\n",
       "<style scoped>\n",
       "    .dataframe tbody tr th:only-of-type {\n",
       "        vertical-align: middle;\n",
       "    }\n",
       "\n",
       "    .dataframe tbody tr th {\n",
       "        vertical-align: top;\n",
       "    }\n",
       "\n",
       "    .dataframe thead tr th {\n",
       "        text-align: left;\n",
       "    }\n",
       "\n",
       "    .dataframe thead tr:last-of-type th {\n",
       "        text-align: right;\n",
       "    }\n",
       "</style>\n",
       "<table border=\"1\" class=\"dataframe\">\n",
       "  <thead>\n",
       "    <tr>\n",
       "      <th></th>\n",
       "      <th colspan=\"4\" halign=\"left\">Price</th>\n",
       "    </tr>\n",
       "    <tr>\n",
       "      <th></th>\n",
       "      <th>min</th>\n",
       "      <th>max</th>\n",
       "      <th>first</th>\n",
       "      <th>last</th>\n",
       "    </tr>\n",
       "    <tr>\n",
       "      <th>Date</th>\n",
       "      <th></th>\n",
       "      <th></th>\n",
       "      <th></th>\n",
       "      <th></th>\n",
       "    </tr>\n",
       "  </thead>\n",
       "  <tbody>\n",
       "    <tr>\n",
       "      <th>2024-04-15</th>\n",
       "      <td>63190.368481</td>\n",
       "      <td>66650.479411</td>\n",
       "      <td>65183.745484</td>\n",
       "      <td>63415.485289</td>\n",
       "    </tr>\n",
       "    <tr>\n",
       "      <th>2024-04-16</th>\n",
       "      <td>61922.025495</td>\n",
       "      <td>63937.600851</td>\n",
       "      <td>63409.243114</td>\n",
       "      <td>63812.814757</td>\n",
       "    </tr>\n",
       "    <tr>\n",
       "      <th>2024-04-17</th>\n",
       "      <td>60181.669230</td>\n",
       "      <td>64238.956490</td>\n",
       "      <td>63813.800580</td>\n",
       "      <td>61657.579437</td>\n",
       "    </tr>\n",
       "    <tr>\n",
       "      <th>2024-04-18</th>\n",
       "      <td>61048.751769</td>\n",
       "      <td>63702.626304</td>\n",
       "      <td>61271.934846</td>\n",
       "      <td>63524.558683</td>\n",
       "    </tr>\n",
       "    <tr>\n",
       "      <th>2024-04-19</th>\n",
       "      <td>61055.956877</td>\n",
       "      <td>65079.822640</td>\n",
       "      <td>63517.289856</td>\n",
       "      <td>64112.513451</td>\n",
       "    </tr>\n",
       "  </tbody>\n",
       "</table>\n",
       "</div>"
      ],
      "text/plain": [
       "                   Price                                          \n",
       "                     min           max         first          last\n",
       "Date                                                              \n",
       "2024-04-15  63190.368481  66650.479411  65183.745484  63415.485289\n",
       "2024-04-16  61922.025495  63937.600851  63409.243114  63812.814757\n",
       "2024-04-17  60181.669230  64238.956490  63813.800580  61657.579437\n",
       "2024-04-18  61048.751769  63702.626304  61271.934846  63524.558683\n",
       "2024-04-19  61055.956877  65079.822640  63517.289856  64112.513451"
      ]
     },
     "execution_count": 11,
     "metadata": {},
     "output_type": "execute_result"
    }
   ],
   "source": [
    "# Get the candlestick plot data\n",
    "candlestick_data = data.groupby(data.Date.dt.date).agg({'Price': ['min', 'max', 'first', 'last']})\n",
    "candlestick_data.head()"
   ]
  },
  {
   "cell_type": "markdown",
   "id": "26a60789-55d0-41c8-8012-d9aff22981b2",
   "metadata": {},
   "source": [
    "Finally we will use `plotly` to create the candlestick chart and plot it."
   ]
  },
  {
   "cell_type": "markdown",
   "id": "b839edca-e142-4ba0-9e5f-49776f9124e4",
   "metadata": {},
   "source": [
    "We need to install the `plotly` library before we can use it. Uncomment the following code block if `plotly` has not been installed in the machine. You can obtain more information from [Getting Started with Plotly in Python](https://plotly.com/python/getting-started/)."
   ]
  },
  {
   "cell_type": "code",
   "execution_count": 12,
   "id": "6c0cbe14-4248-4891-823b-2facef4b365c",
   "metadata": {},
   "outputs": [],
   "source": [
    "# !pip install plotly"
   ]
  },
  {
   "cell_type": "code",
   "execution_count": 13,
   "id": "803600a7-0039-4b0e-a388-9bc36ed991be",
   "metadata": {},
   "outputs": [],
   "source": [
    "# Import the library to create the plot\n",
    "import plotly.graph_objects as go"
   ]
  },
  {
   "cell_type": "code",
   "execution_count": 14,
   "id": "fab2a616-038c-4094-87f5-1f38fa3ec843",
   "metadata": {},
   "outputs": [],
   "source": [
    "# Import the library to create a html file of the plot\n",
    "import plotly.offline"
   ]
  },
  {
   "cell_type": "code",
   "execution_count": 15,
   "id": "299843d6-7e06-4218-b83e-d1cedfce1d0d",
   "metadata": {},
   "outputs": [
    {
     "data": {
      "text/plain": [
       "'./bitcoin_candlestick_graph.html'"
      ]
     },
     "execution_count": 15,
     "metadata": {},
     "output_type": "execute_result"
    }
   ],
   "source": [
    "plotlyfig = go.Figure(data=[go.Candlestick(x = candlestick_data.index,\n",
    "                                           open = candlestick_data['Price']['first'],\n",
    "                                           high = candlestick_data['Price']['max'],\n",
    "                                           low = candlestick_data['Price']['min'],\n",
    "                                           close = candlestick_data['Price']['last']\n",
    "                                           )\n",
    "                            ]\n",
    "                     )\n",
    "\n",
    "plotlyfig.update_layout(xaxis_rangeslider_visible = False, xaxis_title = 'Date',\n",
    "                        yaxis_title = 'Price (USD $)', title = 'Bitcoin Candlestick Chart Over Past 30 Days')\n",
    "\n",
    "plotly.offline.plot(plotlyfig, filename = './bitcoin_candlestick_graph.html', auto_open=False)"
   ]
  },
  {
   "cell_type": "markdown",
   "id": "437151e3-37c6-4994-8d78-b806ef8f9e4f",
   "metadata": {},
   "source": [
    "The [HTML file of the chart](https://nbviewer.org/github/stevenkhwun/IBM_Data-Science/blob/main/My_Notebook/bitcoin_candlestick_graph.html) was created. Commenting out the last code in the last code block, we can view the candlestick chart in the Jupyter Notebook cell."
   ]
  },
  {
   "cell_type": "markdown",
   "id": "c24aaab2-1895-4096-b4a9-e9679c724ed6",
   "metadata": {},
   "source": [
    "<font size=\"4\">The `Plotly` library</font>\n",
    "\n",
    "You can find more information in using the `Plotly` library from the following website:\n",
    "* [Getting Started with Plotly in Python](https://plotly.com/python/getting-started/)\n",
    "* [Plotly Open Source Graphing Library for Python](https://plotly.com/python/)\n",
    "* [Displaying Figures in Python](https://plotly.com/python/renderers/)\n",
    "* [Troubleshooting Plotly Chart Not Showing in Jupyter Notebook and Jupyter Lab](https://saturncloud.io/blog/troubleshooting-plotly-chart-not-showing-in-jupyter-notebook/)"
   ]
  },
  {
   "cell_type": "markdown",
   "id": "8ac65bff-8d44-4970-8bef-a991dda8e627",
   "metadata": {},
   "source": [
    "<font size=\"4\">Pandas Series `dt.date` attribute</font>\n",
    "\n",
    "The `dt.date` attribute extracts the date part of the `DateTime` objects in a Pandas Series.\n",
    "\n",
    "It returns the NumPy array of Python `datetime.date` objects, mainly the date part of timestamps without information about the time and timezone. Please refer to this [GeeksforGeeks](https://www.geeksforgeeks.org/pandas-series-dt-date/) for more information."
   ]
  },
  {
   "cell_type": "code",
   "execution_count": 16,
   "id": "02d3ae17-e981-4710-a295-bc3c028a1a54",
   "metadata": {},
   "outputs": [
    {
     "name": "stdout",
     "output_type": "stream",
     "text": [
      "Day 1    2012-10-21\n",
      "Day 2    2019-07-18\n",
      "Day 3    2008-02-02\n",
      "Day 4    2010-04-22\n",
      "Day 5    2019-11-08\n",
      "dtype: object\n"
     ]
    }
   ],
   "source": [
    "# Example\n",
    "import pandas as pd \n",
    "sr = pd.Series(['2012-10-21 09:30', '2019-7-18 12:30', '2008-02-2 10:30', \n",
    "\t\t\t'2010-4-22 09:25', '2019-11-8 02:22']) \n",
    "idx = ['Day 1', 'Day 2', 'Day 3', 'Day 4', 'Day 5'] \n",
    "sr.index = idx \n",
    "sr = pd.to_datetime(sr) \n",
    "result = sr.dt.date \n",
    "print(result)"
   ]
  }
 ],
 "metadata": {
  "kernelspec": {
   "display_name": "Python 3 (ipykernel)",
   "language": "python",
   "name": "python3"
  },
  "language_info": {
   "codemirror_mode": {
    "name": "ipython",
    "version": 3
   },
   "file_extension": ".py",
   "mimetype": "text/x-python",
   "name": "python",
   "nbconvert_exporter": "python",
   "pygments_lexer": "ipython3",
   "version": "3.11.5"
  }
 },
 "nbformat": 4,
 "nbformat_minor": 5
}
