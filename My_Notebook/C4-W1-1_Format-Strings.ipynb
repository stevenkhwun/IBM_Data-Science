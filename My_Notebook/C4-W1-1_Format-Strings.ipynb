{
 "cells": [
  {
   "cell_type": "markdown",
   "id": "199eb722-4a78-43d9-9c26-05557cd2746e",
   "metadata": {},
   "source": [
    "# Format Strings in Python"
   ]
  },
  {
   "cell_type": "markdown",
   "id": "b65bbcea-dbe7-49a1-9704-a344d2280475",
   "metadata": {},
   "source": [
    "Format strings are a way to inject variables into a string in Python. They are used to format strings and produce more human-readable outputs. There are several ways to format strings in Python:"
   ]
  },
  {
   "cell_type": "markdown",
   "id": "1f3fb1c9-6c52-4b1e-9dc6-6a2db8a561e0",
   "metadata": {},
   "source": [
    "## String interpolation (f-strings)"
   ]
  },
  {
   "cell_type": "markdown",
   "id": "58b3c278-4f63-434b-b279-4e4cb127567e",
   "metadata": {},
   "source": [
    "Introduced in Python 3.6, `f-strings` are a new way to format strings in Python. They are prefixed with '`f`' and use curly braces `{}` to enclose the variables that will be formatted. For example:"
   ]
  },
  {
   "cell_type": "code",
   "execution_count": 2,
   "id": "7c99c773-bb51-4bc8-bd89-519281d4f4e5",
   "metadata": {},
   "outputs": [
    {
     "name": "stdout",
     "output_type": "stream",
     "text": [
      "My name is John and I am 30 years old.\n"
     ]
    }
   ],
   "source": [
    "name = \"John\"\n",
    "age = 30\n",
    "print(f\"My name is {name} and I am {age} years old.\")"
   ]
  },
  {
   "cell_type": "markdown",
   "id": "7013115e-fe99-4fbd-9864-a5f7bd749319",
   "metadata": {},
   "source": [
    "### Additional capabilities\n",
    "`F-strings` are also able to evaluate expressions inside the curly braces, which can be very handy. For example:"
   ]
  },
  {
   "cell_type": "code",
   "execution_count": 3,
   "id": "2e53c70b-c0c8-4d96-a027-13d20c8feffb",
   "metadata": {},
   "outputs": [
    {
     "name": "stdout",
     "output_type": "stream",
     "text": [
      "The sume of x and y is 30.\n"
     ]
    }
   ],
   "source": [
    "x = 10\n",
    "y = 20\n",
    "print(f\"The sume of x and y is {x+y}.\")"
   ]
  },
  {
   "cell_type": "markdown",
   "id": "0ccac723-2264-44ce-94b0-43c2ea716db0",
   "metadata": {},
   "source": [
    "## `str.format()`"
   ]
  },
  {
   "cell_type": "markdown",
   "id": "c59c055b-f8b8-4610-8bc8-82efc1f7174b",
   "metadata": {},
   "source": [
    "This is another way to format strings in Python. It uses curly braces `{}` as placeholders for variables which are passed as arguments in the `format()` method. For example:"
   ]
  },
  {
   "cell_type": "code",
   "execution_count": 4,
   "id": "8add5f7b-076c-4185-97fc-d2e982255e9c",
   "metadata": {},
   "outputs": [
    {
     "name": "stdout",
     "output_type": "stream",
     "text": [
      "My name is Peter and I am 45 years old.\n"
     ]
    }
   ],
   "source": [
    "name = \"Peter\"\n",
    "age = 45\n",
    "print(\"My name is {} and I am {} years old.\".format(name, age))"
   ]
  },
  {
   "cell_type": "markdown",
   "id": "5a21a540-6209-459f-98bd-109d11c415a6",
   "metadata": {},
   "source": [
    "## `%` Operator"
   ]
  },
  {
   "cell_type": "markdown",
   "id": "d0669bea-15b7-4aa7-ac11-f2f69c51b19f",
   "metadata": {},
   "source": [
    "This is one of the oldest ways to format strings in Python. It uses the `%` operator to replace variables in the string. For example:"
   ]
  },
  {
   "cell_type": "code",
   "execution_count": 5,
   "id": "0bca6e6c-95a4-4d20-b096-575747394dab",
   "metadata": {},
   "outputs": [
    {
     "name": "stdout",
     "output_type": "stream",
     "text": [
      "My name is Johnathan and I am 25 years old.\n"
     ]
    }
   ],
   "source": [
    "name = \"Johnathan\"\n",
    "age = 25\n",
    "print(\"My name is %s and I am %d years old.\" % (name, age))"
   ]
  },
  {
   "cell_type": "markdown",
   "id": "b9c8451d-77e1-4eea-b208-5bb2cc30b075",
   "metadata": {},
   "source": [
    "Each of these methods has its own advantages and use cases. However, `f-strings` are generally considered the most modern and preferred way to format strings in Python due to their redability and performance."
   ]
  }
 ],
 "metadata": {
  "kernelspec": {
   "display_name": "Python 3 (ipykernel)",
   "language": "python",
   "name": "python3"
  },
  "language_info": {
   "codemirror_mode": {
    "name": "ipython",
    "version": 3
   },
   "file_extension": ".py",
   "mimetype": "text/x-python",
   "name": "python",
   "nbconvert_exporter": "python",
   "pygments_lexer": "ipython3",
   "version": "3.9.5"
  }
 },
 "nbformat": 4,
 "nbformat_minor": 5
}
